{
  "nbformat": 4,
  "nbformat_minor": 0,
  "metadata": {
    "colab": {
      "provenance": [],
      "gpuType": "T4",
      "include_colab_link": true
    },
    "kernelspec": {
      "name": "python3",
      "display_name": "Python 3"
    },
    "language_info": {
      "name": "python"
    },
    "accelerator": "GPU"
  },
  "cells": [
    {
      "cell_type": "markdown",
      "metadata": {
        "id": "view-in-github",
        "colab_type": "text"
      },
      "source": [
        "<a href=\"https://colab.research.google.com/github/girinath18/AI_Headshot_RG/blob/main/FlaskOnColab.ipynb\" target=\"_parent\"><img src=\"https://colab.research.google.com/assets/colab-badge.svg\" alt=\"Open In Colab\"/></a>"
      ]
    },
    {
      "cell_type": "code",
      "source": [
        "!pip install flask_ngrok\n",
        "!pip install flask_ngrok\n",
        "!pip install flask\n",
        "!pip install pyngrok --upgrade"
      ],
      "metadata": {
        "colab": {
          "base_uri": "https://localhost:8080/"
        },
        "id": "mCW4xoUiSM-V",
        "outputId": "4e7a5aed-072e-433d-bba9-f9300e44db5d"
      },
      "execution_count": 1,
      "outputs": [
        {
          "output_type": "stream",
          "name": "stdout",
          "text": [
            "Collecting flask_ngrok\n",
            "  Downloading flask_ngrok-0.0.25-py3-none-any.whl (3.1 kB)\n",
            "Requirement already satisfied: Flask>=0.8 in /usr/local/lib/python3.10/dist-packages (from flask_ngrok) (2.2.5)\n",
            "Requirement already satisfied: requests in /usr/local/lib/python3.10/dist-packages (from flask_ngrok) (2.31.0)\n",
            "Requirement already satisfied: Werkzeug>=2.2.2 in /usr/local/lib/python3.10/dist-packages (from Flask>=0.8->flask_ngrok) (3.0.3)\n",
            "Requirement already satisfied: Jinja2>=3.0 in /usr/local/lib/python3.10/dist-packages (from Flask>=0.8->flask_ngrok) (3.1.4)\n",
            "Requirement already satisfied: itsdangerous>=2.0 in /usr/local/lib/python3.10/dist-packages (from Flask>=0.8->flask_ngrok) (2.2.0)\n",
            "Requirement already satisfied: click>=8.0 in /usr/local/lib/python3.10/dist-packages (from Flask>=0.8->flask_ngrok) (8.1.7)\n",
            "Requirement already satisfied: charset-normalizer<4,>=2 in /usr/local/lib/python3.10/dist-packages (from requests->flask_ngrok) (3.3.2)\n",
            "Requirement already satisfied: idna<4,>=2.5 in /usr/local/lib/python3.10/dist-packages (from requests->flask_ngrok) (3.7)\n",
            "Requirement already satisfied: urllib3<3,>=1.21.1 in /usr/local/lib/python3.10/dist-packages (from requests->flask_ngrok) (2.0.7)\n",
            "Requirement already satisfied: certifi>=2017.4.17 in /usr/local/lib/python3.10/dist-packages (from requests->flask_ngrok) (2024.2.2)\n",
            "Requirement already satisfied: MarkupSafe>=2.0 in /usr/local/lib/python3.10/dist-packages (from Jinja2>=3.0->Flask>=0.8->flask_ngrok) (2.1.5)\n",
            "Installing collected packages: flask_ngrok\n",
            "Successfully installed flask_ngrok-0.0.25\n",
            "Requirement already satisfied: flask_ngrok in /usr/local/lib/python3.10/dist-packages (0.0.25)\n",
            "Requirement already satisfied: Flask>=0.8 in /usr/local/lib/python3.10/dist-packages (from flask_ngrok) (2.2.5)\n",
            "Requirement already satisfied: requests in /usr/local/lib/python3.10/dist-packages (from flask_ngrok) (2.31.0)\n",
            "Requirement already satisfied: Werkzeug>=2.2.2 in /usr/local/lib/python3.10/dist-packages (from Flask>=0.8->flask_ngrok) (3.0.3)\n",
            "Requirement already satisfied: Jinja2>=3.0 in /usr/local/lib/python3.10/dist-packages (from Flask>=0.8->flask_ngrok) (3.1.4)\n",
            "Requirement already satisfied: itsdangerous>=2.0 in /usr/local/lib/python3.10/dist-packages (from Flask>=0.8->flask_ngrok) (2.2.0)\n",
            "Requirement already satisfied: click>=8.0 in /usr/local/lib/python3.10/dist-packages (from Flask>=0.8->flask_ngrok) (8.1.7)\n",
            "Requirement already satisfied: charset-normalizer<4,>=2 in /usr/local/lib/python3.10/dist-packages (from requests->flask_ngrok) (3.3.2)\n",
            "Requirement already satisfied: idna<4,>=2.5 in /usr/local/lib/python3.10/dist-packages (from requests->flask_ngrok) (3.7)\n",
            "Requirement already satisfied: urllib3<3,>=1.21.1 in /usr/local/lib/python3.10/dist-packages (from requests->flask_ngrok) (2.0.7)\n",
            "Requirement already satisfied: certifi>=2017.4.17 in /usr/local/lib/python3.10/dist-packages (from requests->flask_ngrok) (2024.2.2)\n",
            "Requirement already satisfied: MarkupSafe>=2.0 in /usr/local/lib/python3.10/dist-packages (from Jinja2>=3.0->Flask>=0.8->flask_ngrok) (2.1.5)\n",
            "Requirement already satisfied: flask in /usr/local/lib/python3.10/dist-packages (2.2.5)\n",
            "Requirement already satisfied: Werkzeug>=2.2.2 in /usr/local/lib/python3.10/dist-packages (from flask) (3.0.3)\n",
            "Requirement already satisfied: Jinja2>=3.0 in /usr/local/lib/python3.10/dist-packages (from flask) (3.1.4)\n",
            "Requirement already satisfied: itsdangerous>=2.0 in /usr/local/lib/python3.10/dist-packages (from flask) (2.2.0)\n",
            "Requirement already satisfied: click>=8.0 in /usr/local/lib/python3.10/dist-packages (from flask) (8.1.7)\n",
            "Requirement already satisfied: MarkupSafe>=2.0 in /usr/local/lib/python3.10/dist-packages (from Jinja2>=3.0->flask) (2.1.5)\n",
            "Collecting pyngrok\n",
            "  Downloading pyngrok-7.1.6-py3-none-any.whl (22 kB)\n",
            "Requirement already satisfied: PyYAML>=5.1 in /usr/local/lib/python3.10/dist-packages (from pyngrok) (6.0.1)\n",
            "Installing collected packages: pyngrok\n",
            "Successfully installed pyngrok-7.1.6\n"
          ]
        }
      ]
    },
    {
      "cell_type": "code",
      "source": [
        "!curl -s https://ngrok-agent.s3.amazonaws.com/ngrok.asc | sudo tee /etc/apt/trusted.gpg.d/ngrok.asc >/dev/null && echo \"deb https://ngrok-agent.s3.amazonaws.com buster main\" | sudo tee /etc/apt/sources.list.d/ngrok.list && sudo apt update && sudo apt install ngrok"
      ],
      "metadata": {
        "id": "o1r9nlw6TAbg"
      },
      "execution_count": null,
      "outputs": []
    },
    {
      "cell_type": "code",
      "source": [
        "!ls"
      ],
      "metadata": {
        "colab": {
          "base_uri": "https://localhost:8080/"
        },
        "id": "YNu6QU-fTWCJ",
        "outputId": "ab53dd6c-63e6-4868-bcc8-48321dd59af3"
      },
      "execution_count": null,
      "outputs": [
        {
          "output_type": "stream",
          "name": "stdout",
          "text": [
            "sample_data\n"
          ]
        }
      ]
    },
    {
      "cell_type": "code",
      "source": [
        "!pip install pyngrok\n",
        "#!ngrok authtoken YOUR_NGROK_AUTH_TOKEN\n"
      ],
      "metadata": {
        "id": "MMmEnNQC_pRx",
        "outputId": "38356a9c-b805-4887-ab88-77ad04c9d0ff",
        "colab": {
          "base_uri": "https://localhost:8080/"
        }
      },
      "execution_count": 6,
      "outputs": [
        {
          "output_type": "stream",
          "name": "stdout",
          "text": [
            "Requirement already satisfied: pyngrok in /usr/local/lib/python3.10/dist-packages (7.1.6)\n",
            "Requirement already satisfied: PyYAML>=5.1 in /usr/local/lib/python3.10/dist-packages (from pyngrok) (6.0.1)\n"
          ]
        }
      ]
    },
    {
      "cell_type": "code",
      "source": [
        "!ngrok config add-authtoken 2gbCNOE5wJ9vXAdZQQRDAdCP0EU_47uYqH7uXrjbn7pkTsd7X"
      ],
      "metadata": {
        "colab": {
          "base_uri": "https://localhost:8080/"
        },
        "id": "vPQnYD-2TSjn",
        "outputId": "8ba80b32-e1a8-475e-8232-03b80c4934ba"
      },
      "execution_count": 7,
      "outputs": [
        {
          "output_type": "stream",
          "name": "stdout",
          "text": [
            "Authtoken saved to configuration file: /root/.config/ngrok/ngrok.yml\n"
          ]
        }
      ]
    },
    {
      "cell_type": "code",
      "source": [
        "!curl -s https://ngrok-agent.s3.amazonaws.com/ngrok.asc | sudo tee /etc/apt/trusted.gpg.d/ngrok.asc >/dev/null && echo \"deb https://ngrok-agent.s3.amazonaws.com buster main\" | sudo tee /etc/apt/sources.list.d/ngrok.list && sudo apt update && sudo apt install ngrok"
      ],
      "metadata": {
        "id": "l7-BjSXvBjEI",
        "outputId": "d78585b4-97c9-4f39-9f3a-b4bd56c682a8",
        "colab": {
          "base_uri": "https://localhost:8080/"
        }
      },
      "execution_count": 8,
      "outputs": [
        {
          "output_type": "stream",
          "name": "stdout",
          "text": [
            "deb https://ngrok-agent.s3.amazonaws.com buster main\n",
            "Get:1 https://cloud.r-project.org/bin/linux/ubuntu jammy-cran40/ InRelease [3,626 B]\n",
            "Hit:2 https://developer.download.nvidia.com/compute/cuda/repos/ubuntu2204/x86_64  InRelease\n",
            "Get:3 https://ngrok-agent.s3.amazonaws.com buster InRelease [20.3 kB]\n",
            "Hit:4 http://archive.ubuntu.com/ubuntu jammy InRelease\n",
            "Get:5 http://security.ubuntu.com/ubuntu jammy-security InRelease [110 kB]\n",
            "Get:6 http://archive.ubuntu.com/ubuntu jammy-updates InRelease [119 kB]\n",
            "Get:7 https://ngrok-agent.s3.amazonaws.com buster/main amd64 Packages [4,219 B]\n",
            "Hit:8 http://archive.ubuntu.com/ubuntu jammy-backports InRelease\n",
            "Hit:9 https://ppa.launchpadcontent.net/c2d4u.team/c2d4u4.0+/ubuntu jammy InRelease\n",
            "Get:10 http://security.ubuntu.com/ubuntu jammy-security/main amd64 Packages [1,848 kB]\n",
            "Get:11 http://archive.ubuntu.com/ubuntu jammy-updates/main amd64 Packages [2,118 kB]\n",
            "Hit:12 https://ppa.launchpadcontent.net/deadsnakes/ppa/ubuntu jammy InRelease\n",
            "Hit:13 https://ppa.launchpadcontent.net/graphics-drivers/ppa/ubuntu jammy InRelease\n",
            "Get:14 http://security.ubuntu.com/ubuntu jammy-security/restricted amd64 Packages [2,383 kB]\n",
            "Hit:15 https://ppa.launchpadcontent.net/ubuntugis/ppa/ubuntu jammy InRelease\n",
            "Fetched 6,607 kB in 1s (4,604 kB/s)\n",
            "Reading package lists... Done\n",
            "Building dependency tree... Done\n",
            "Reading state information... Done\n",
            "45 packages can be upgraded. Run 'apt list --upgradable' to see them.\n",
            "Reading package lists... Done\n",
            "Building dependency tree... Done\n",
            "Reading state information... Done\n",
            "The following NEW packages will be installed:\n",
            "  ngrok\n",
            "0 upgraded, 1 newly installed, 0 to remove and 45 not upgraded.\n",
            "Need to get 6,487 kB of archives.\n",
            "After this operation, 0 B of additional disk space will be used.\n",
            "Get:1 https://ngrok-agent.s3.amazonaws.com buster/main amd64 ngrok amd64 3.9.0 [6,487 kB]\n",
            "Fetched 6,487 kB in 0s (23.9 MB/s)\n",
            "debconf: unable to initialize frontend: Dialog\n",
            "debconf: (No usable dialog-like program is installed, so the dialog based frontend cannot be used. at /usr/share/perl5/Debconf/FrontEnd/Dialog.pm line 78, <> line 1.)\n",
            "debconf: falling back to frontend: Readline\n",
            "debconf: unable to initialize frontend: Readline\n",
            "debconf: (This frontend requires a controlling tty.)\n",
            "debconf: falling back to frontend: Teletype\n",
            "dpkg-preconfigure: unable to re-open stdin: \n",
            "Selecting previously unselected package ngrok.\n",
            "(Reading database ... 121918 files and directories currently installed.)\n",
            "Preparing to unpack .../archives/ngrok_3.9.0_amd64.deb ...\n",
            "Unpacking ngrok (3.9.0) ...\n",
            "Setting up ngrok (3.9.0) ...\n"
          ]
        }
      ]
    },
    {
      "cell_type": "code",
      "source": [
        "import os\n",
        "from flask import Flask, request, jsonify\n",
        "import logging\n",
        "\n",
        "app = Flask(__name__)\n",
        "\n",
        "# Setup logging\n",
        "logging.basicConfig(level=logging.DEBUG)\n",
        "\n",
        "def clone_repository(repo_url, target_directory):\n",
        "    if os.path.exists(target_directory) and os.listdir(target_directory):\n",
        "        app.logger.info(f\"Target directory '{target_directory}' already exists and is not empty.\")\n",
        "    else:\n",
        "        try:\n",
        "            os.system(f'git clone {repo_url} {target_directory}')\n",
        "            app.logger.info(\"Repository cloned successfully.\")\n",
        "        except Exception as e:\n",
        "            app.logger.error(\"Error while cloning repository:\", e)\n",
        "\n",
        "def process_images(source_image_path, output_folder):\n",
        "    templates_folder_path = r\"/content/template\"\n",
        "    os.makedirs(output_folder, exist_ok=True)\n",
        "\n",
        "    if not os.path.exists(templates_folder_path):\n",
        "        app.logger.error(\"Templates folder not found.\")\n",
        "        return \"Templates folder not found.\", 500\n",
        "\n",
        "    selected_source_image_path = source_image_path\n",
        "\n",
        "    for target_image_name in os.listdir(templates_folder_path):\n",
        "        target_image_path = os.path.join(templates_folder_path, target_image_name)\n",
        "\n",
        "        if os.path.isfile(target_image_path):\n",
        "            app.logger.info(f\"Processing target image: {target_image_name}\")\n",
        "            os.system(f'python /content/roop/run.py -s \"{selected_source_image_path}\" -t \"{target_image_path}\" -o \"{output_folder}\" --keep-fps --execution-threads 14 --many-faces --execution-provider cuda --frame-processor face_swapper face_enhancer --output-video-quality 35 --temp-frame-format jpg --max-memory 46')\n",
        "\n",
        "@app.route('/face_swap', methods=['POST'])\n",
        "def face_swap():\n",
        "    if 'file' not in request.files:\n",
        "        app.logger.error(\"No file part in the request.\")\n",
        "        return jsonify({'error': 'No file part'})\n",
        "\n",
        "    file = request.files['file']\n",
        "    if file.filename == '':\n",
        "        app.logger.error(\"No selected file.\")\n",
        "        return jsonify({'error': 'No selected file'})\n",
        "\n",
        "    source_image_path = r\"/content/uploaded\"\n",
        "    file.save(source_image_path)\n",
        "\n",
        "    output_folder = r\"/content/output\"\n",
        "    result = process_images(source_image_path, output_folder)\n",
        "    if isinstance(result, tuple) and result[1] == 500:\n",
        "        app.logger.error(f\"Error during image processing: {result[0]}\")\n",
        "        return jsonify({'error': result[0]}), 500\n",
        "\n",
        "    output_image_path = os.path.join(output_folder, \"output.jpg\")\n",
        "    return jsonify({'output_image_path': output_image_path})\n",
        "\n",
        "@app.route('/new_endpoint', methods=['POST'])\n",
        "def new_endpoint():\n",
        "    return jsonify({'message': 'This is the response from the new endpoint'})\n",
        "\n",
        "if __name__ == '__main__':\n",
        "    repo_url = \"https://github.com/girinath18/roop.git\"\n",
        "    target_directory = r\"/content/roop\"\n",
        "    clone_repository(repo_url, target_directory)\n",
        "    os.chdir(target_directory)\n",
        "\n",
        "    # Run the Flask app\n",
        "    app.run(port=5000)\n"
      ],
      "metadata": {
        "id": "XSKofJ809hlg",
        "outputId": "c714ceb7-69c9-452c-9794-588332d32c59",
        "colab": {
          "base_uri": "https://localhost:8080/"
        }
      },
      "execution_count": null,
      "outputs": [
        {
          "output_type": "stream",
          "name": "stdout",
          "text": [
            " * Serving Flask app '__main__'\n",
            " * Debug mode: off\n"
          ]
        },
        {
          "output_type": "stream",
          "name": "stderr",
          "text": [
            "INFO:werkzeug:\u001b[31m\u001b[1mWARNING: This is a development server. Do not use it in a production deployment. Use a production WSGI server instead.\u001b[0m\n",
            " * Running on http://127.0.0.1:5000\n",
            "INFO:werkzeug:\u001b[33mPress CTRL+C to quit\u001b[0m\n",
            "ERROR:__main__:Exception on /face_swap [POST]\n",
            "Traceback (most recent call last):\n",
            "  File \"/usr/local/lib/python3.10/dist-packages/flask/app.py\", line 2529, in wsgi_app\n",
            "    response = self.full_dispatch_request()\n",
            "  File \"/usr/local/lib/python3.10/dist-packages/flask/app.py\", line 1825, in full_dispatch_request\n",
            "    rv = self.handle_user_exception(e)\n",
            "  File \"/usr/local/lib/python3.10/dist-packages/flask/app.py\", line 1823, in full_dispatch_request\n",
            "    rv = self.dispatch_request()\n",
            "  File \"/usr/local/lib/python3.10/dist-packages/flask/app.py\", line 1799, in dispatch_request\n",
            "    return self.ensure_sync(self.view_functions[rule.endpoint])(**view_args)\n",
            "  File \"<ipython-input-17-83aac882a676>\", line 49, in face_swap\n",
            "    file.save(source_image_path)\n",
            "  File \"/usr/local/lib/python3.10/dist-packages/werkzeug/datastructures/file_storage.py\", line 125, in save\n",
            "    dst = open(dst, \"wb\")\n",
            "IsADirectoryError: [Errno 21] Is a directory: '/content/uploaded'\n",
            "INFO:werkzeug:127.0.0.1 - - [17/May/2024 15:08:59] \"\u001b[35m\u001b[1mPOST /face_swap HTTP/1.1\u001b[0m\" 500 -\n"
          ]
        }
      ]
    },
    {
      "cell_type": "code",
      "source": [
        "# Install pyngrok if not already installed\n",
        "!pip install pyngrok\n",
        "\n",
        "# Authenticate ngrok with your authtoken\n",
        "!ngrok authtoken 2gbCNOE5wJ9vXAdZQQRDAdCP0EU_47uYqH7uXrjbn7pkTsd7X\n",
        "\n",
        "# Start ngrok and expose the Flask app running on port 5000\n",
        "from pyngrok import ngrok\n",
        "\n",
        "# Open a tunnel on port 5000 for HTTP traffic\n",
        "public_url = ngrok.connect(5000)\n",
        "print(f\"ngrok tunnel URL: {public_url}\")\n"
      ],
      "metadata": {
        "id": "VZBWHJQ0EasD",
        "outputId": "ff8515b4-0b1b-4b10-bcfc-7edf29e9c4d5",
        "colab": {
          "base_uri": "https://localhost:8080/"
        }
      },
      "execution_count": 16,
      "outputs": [
        {
          "output_type": "stream",
          "name": "stdout",
          "text": [
            "Requirement already satisfied: pyngrok in /usr/local/lib/python3.10/dist-packages (7.1.6)\n",
            "Requirement already satisfied: PyYAML>=5.1 in /usr/local/lib/python3.10/dist-packages (from pyngrok) (6.0.1)\n",
            "Authtoken saved to configuration file: /root/.config/ngrok/ngrok.yml\n",
            "ngrok tunnel URL: NgrokTunnel: \"https://a4e1-34-82-193-196.ngrok-free.app\" -> \"http://localhost:5000\"\n"
          ]
        }
      ]
    },
    {
      "cell_type": "code",
      "source": [
        "import os\n",
        "from flask_ngrok import run_with_ngrok\n",
        "from flask import Flask, jsonify\n",
        "\n",
        "app = Flask(__name__)\n",
        "\n",
        "run_with_ngrok(app)\n",
        "@app.route('/')\n",
        "def home():\n",
        "    return \"Hello, Flask is running!\"\n",
        "\n",
        "if __name__ == '__main__':\n",
        "    app.run(port=5000)\n"
      ],
      "metadata": {
        "id": "J7flZFEPGgqb"
      },
      "execution_count": null,
      "outputs": []
    },
    {
      "cell_type": "code",
      "source": [
        "# Install pyngrok if not already installed\n",
        "!pip install pyngrok\n",
        "\n",
        "# Authenticate ngrok with your authtoken\n",
        "!ngrok authtoken 2gbCNOE5wJ9vXAdZQQRDAdCP0EU_47uYqH7uXrjbn7pkTsd7X\n",
        "\n",
        "# Start ngrok and expose the Flask app running on port 5000\n",
        "from pyngrok import ngrok\n",
        "\n",
        "# Open a tunnel on port 5000 for HTTP traffic\n",
        "public_url = ngrok.connect(5000)\n",
        "print(f\"ngrok tunnel URL: {public_url}\")\n"
      ],
      "metadata": {
        "id": "xQeTXAYoGiZo"
      },
      "execution_count": null,
      "outputs": []
    },
    {
      "cell_type": "markdown",
      "source": [
        "# **Sample Code**"
      ],
      "metadata": {
        "id": "uglW4VxU9iyP"
      }
    },
    {
      "cell_type": "code",
      "execution_count": null,
      "metadata": {
        "colab": {
          "base_uri": "https://localhost:8080/"
        },
        "id": "FTpXnotTRu48",
        "outputId": "e4c50a89-b210-438e-b498-be43213ad5b8"
      },
      "outputs": [
        {
          "output_type": "stream",
          "name": "stdout",
          "text": [
            " * Serving Flask app \"__main__\" (lazy loading)\n",
            " * Environment: production\n",
            "\u001b[31m   WARNING: This is a development server. Do not use it in a production deployment.\u001b[0m\n",
            "\u001b[2m   Use a production WSGI server instead.\u001b[0m\n",
            " * Debug mode: off\n"
          ]
        },
        {
          "output_type": "stream",
          "name": "stderr",
          "text": [
            " * Running on http://127.0.0.1:5000/ (Press CTRL+C to quit)\n"
          ]
        },
        {
          "output_type": "stream",
          "name": "stdout",
          "text": [
            " * Running on http://6258-35-247-6-25.ngrok.io\n",
            " * Traffic stats available on http://127.0.0.1:4040\n"
          ]
        },
        {
          "output_type": "stream",
          "name": "stderr",
          "text": [
            "127.0.0.1 - - [12/Dec/2021 06:21:53] \"\u001b[37mGET / HTTP/1.1\u001b[0m\" 200 -\n",
            "127.0.0.1 - - [12/Dec/2021 06:21:54] \"\u001b[33mGET /favicon.ico HTTP/1.1\u001b[0m\" 404 -\n"
          ]
        }
      ],
      "source": [
        "from flask_ngrok import run_with_ngrok\n",
        "from flask import Flask\n",
        "\n",
        "app = Flask(__name__)\n",
        "\n",
        "run_with_ngrok(app)\n",
        "@app.route(\"/\")\n",
        "def home():\n",
        "    return f\"Running Flask on Google Colab!\"\n",
        "\n",
        "app.run()"
      ]
    },
    {
      "cell_type": "code",
      "source": [],
      "metadata": {
        "id": "b6AqjL_6SNmp"
      },
      "execution_count": null,
      "outputs": []
    }
  ]
}