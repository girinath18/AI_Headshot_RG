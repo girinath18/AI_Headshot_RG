{
  "nbformat": 4,
  "nbformat_minor": 0,
  "metadata": {
    "colab": {
      "provenance": [],
      "gpuType": "T4",
      "include_colab_link": true
    },
    "kernelspec": {
      "name": "python3",
      "display_name": "Python 3"
    },
    "language_info": {
      "name": "python"
    },
    "accelerator": "GPU"
  },
  "cells": [
    {
      "cell_type": "markdown",
      "metadata": {
        "id": "view-in-github",
        "colab_type": "text"
      },
      "source": [
        "<a href=\"https://colab.research.google.com/github/girinath18/AI_Headshot_RG/blob/headshots/Nokia2API.ipynb\" target=\"_parent\"><img src=\"https://colab.research.google.com/assets/colab-badge.svg\" alt=\"Open In Colab\"/></a>"
      ]
    },
    {
      "cell_type": "code",
      "execution_count": 1,
      "metadata": {
        "colab": {
          "base_uri": "https://localhost:8080/"
        },
        "id": "JciKDOeft8qc",
        "outputId": "2ffbab4a-31a8-4115-ee5a-13c7954881dc"
      },
      "outputs": [
        {
          "output_type": "stream",
          "name": "stdout",
          "text": [
            "Requirement already satisfied: pyngrok in /usr/local/lib/python3.10/dist-packages (7.1.6)\n",
            "Requirement already satisfied: PyYAML>=5.1 in /usr/local/lib/python3.10/dist-packages (from pyngrok) (6.0.1)\n"
          ]
        }
      ],
      "source": [
        "!pip install pyngrok"
      ]
    },
    {
      "cell_type": "code",
      "source": [
        "from pyngrok import ngrok"
      ],
      "metadata": {
        "id": "hgrXj9DzuqAP"
      },
      "execution_count": 2,
      "outputs": []
    },
    {
      "cell_type": "code",
      "source": [
        "ngrok.set_auth_token(\"2ga6KvgSqbJ8a8UcyMG6EC2AeTJ_3tcyVNAHQsQXkzpxUgu9p\")\n",
        "public_url = ngrok.connect(5000).public_url"
      ],
      "metadata": {
        "id": "2zwX28_susTU"
      },
      "execution_count": 3,
      "outputs": []
    },
    {
      "cell_type": "code",
      "source": [
        "!git clone https://github.com/girinath18/roop.git"
      ],
      "metadata": {
        "colab": {
          "base_uri": "https://localhost:8080/"
        },
        "id": "Cp9dmAxtuwZk",
        "outputId": "92e5b96e-d1df-4e2f-a20b-fb50dbb73c9a"
      },
      "execution_count": 4,
      "outputs": [
        {
          "output_type": "stream",
          "name": "stdout",
          "text": [
            "fatal: destination path 'roop' already exists and is not an empty directory.\n"
          ]
        }
      ]
    },
    {
      "cell_type": "code",
      "source": [
        "!pip install flask_ngrok\n",
        "!pip install onnxruntime\n",
        "!pip install customtkinter\n",
        "!pip install torch torchvision\n",
        "!pip install flask\n",
        "!pip install pyngrok --upgrade\n",
        "!pip install --upgrade pyngrok\n",
        "!pip install -r /content/roop/requirements.txt"
      ],
      "metadata": {
        "colab": {
          "base_uri": "https://localhost:8080/"
        },
        "id": "h5b7HK9Ju0Ad",
        "outputId": "77abcfff-2b16-4e16-8ed0-482aad81d060"
      },
      "execution_count": 5,
      "outputs": [
        {
          "output_type": "stream",
          "name": "stdout",
          "text": [
            "Requirement already satisfied: flask_ngrok in /usr/local/lib/python3.10/dist-packages (0.0.25)\n",
            "Requirement already satisfied: Flask>=0.8 in /usr/local/lib/python3.10/dist-packages (from flask_ngrok) (2.2.5)\n",
            "Requirement already satisfied: requests in /usr/local/lib/python3.10/dist-packages (from flask_ngrok) (2.31.0)\n",
            "Requirement already satisfied: Werkzeug>=2.2.2 in /usr/local/lib/python3.10/dist-packages (from Flask>=0.8->flask_ngrok) (3.0.3)\n",
            "Requirement already satisfied: Jinja2>=3.0 in /usr/local/lib/python3.10/dist-packages (from Flask>=0.8->flask_ngrok) (3.1.4)\n",
            "Requirement already satisfied: itsdangerous>=2.0 in /usr/local/lib/python3.10/dist-packages (from Flask>=0.8->flask_ngrok) (2.2.0)\n",
            "Requirement already satisfied: click>=8.0 in /usr/local/lib/python3.10/dist-packages (from Flask>=0.8->flask_ngrok) (8.1.7)\n",
            "Requirement already satisfied: charset-normalizer<4,>=2 in /usr/local/lib/python3.10/dist-packages (from requests->flask_ngrok) (3.3.2)\n",
            "Requirement already satisfied: idna<4,>=2.5 in /usr/local/lib/python3.10/dist-packages (from requests->flask_ngrok) (3.7)\n",
            "Requirement already satisfied: urllib3<3,>=1.21.1 in /usr/local/lib/python3.10/dist-packages (from requests->flask_ngrok) (2.0.7)\n",
            "Requirement already satisfied: certifi>=2017.4.17 in /usr/local/lib/python3.10/dist-packages (from requests->flask_ngrok) (2024.2.2)\n",
            "Requirement already satisfied: MarkupSafe>=2.0 in /usr/local/lib/python3.10/dist-packages (from Jinja2>=3.0->Flask>=0.8->flask_ngrok) (2.1.5)\n",
            "Requirement already satisfied: onnxruntime in /usr/local/lib/python3.10/dist-packages (1.18.0)\n",
            "Requirement already satisfied: coloredlogs in /usr/local/lib/python3.10/dist-packages (from onnxruntime) (15.0.1)\n",
            "Requirement already satisfied: flatbuffers in /usr/local/lib/python3.10/dist-packages (from onnxruntime) (24.3.25)\n",
            "Requirement already satisfied: numpy>=1.21.6 in /usr/local/lib/python3.10/dist-packages (from onnxruntime) (1.24.3)\n",
            "Requirement already satisfied: packaging in /usr/local/lib/python3.10/dist-packages (from onnxruntime) (24.0)\n",
            "Requirement already satisfied: protobuf in /usr/local/lib/python3.10/dist-packages (from onnxruntime) (4.23.4)\n",
            "Requirement already satisfied: sympy in /usr/local/lib/python3.10/dist-packages (from onnxruntime) (1.12)\n",
            "Requirement already satisfied: humanfriendly>=9.1 in /usr/local/lib/python3.10/dist-packages (from coloredlogs->onnxruntime) (10.0)\n",
            "Requirement already satisfied: mpmath>=0.19 in /usr/local/lib/python3.10/dist-packages (from sympy->onnxruntime) (1.3.0)\n",
            "Requirement already satisfied: customtkinter in /usr/local/lib/python3.10/dist-packages (5.2.0)\n",
            "Requirement already satisfied: darkdetect in /usr/local/lib/python3.10/dist-packages (from customtkinter) (0.8.0)\n",
            "Requirement already satisfied: torch in /usr/local/lib/python3.10/dist-packages (2.1.2+cu118)\n",
            "Requirement already satisfied: torchvision in /usr/local/lib/python3.10/dist-packages (0.16.2+cu118)\n",
            "Requirement already satisfied: filelock in /usr/local/lib/python3.10/dist-packages (from torch) (3.14.0)\n",
            "Requirement already satisfied: typing-extensions in /usr/local/lib/python3.10/dist-packages (from torch) (4.5.0)\n",
            "Requirement already satisfied: sympy in /usr/local/lib/python3.10/dist-packages (from torch) (1.12)\n",
            "Requirement already satisfied: networkx in /usr/local/lib/python3.10/dist-packages (from torch) (3.3)\n",
            "Requirement already satisfied: jinja2 in /usr/local/lib/python3.10/dist-packages (from torch) (3.1.4)\n",
            "Requirement already satisfied: fsspec in /usr/local/lib/python3.10/dist-packages (from torch) (2023.6.0)\n",
            "Requirement already satisfied: triton==2.1.0 in /usr/local/lib/python3.10/dist-packages (from torch) (2.1.0)\n",
            "Requirement already satisfied: numpy in /usr/local/lib/python3.10/dist-packages (from torchvision) (1.24.3)\n",
            "Requirement already satisfied: requests in /usr/local/lib/python3.10/dist-packages (from torchvision) (2.31.0)\n",
            "Requirement already satisfied: pillow!=8.3.*,>=5.3.0 in /usr/local/lib/python3.10/dist-packages (from torchvision) (10.0.0)\n",
            "Requirement already satisfied: MarkupSafe>=2.0 in /usr/local/lib/python3.10/dist-packages (from jinja2->torch) (2.1.5)\n",
            "Requirement already satisfied: charset-normalizer<4,>=2 in /usr/local/lib/python3.10/dist-packages (from requests->torchvision) (3.3.2)\n",
            "Requirement already satisfied: idna<4,>=2.5 in /usr/local/lib/python3.10/dist-packages (from requests->torchvision) (3.7)\n",
            "Requirement already satisfied: urllib3<3,>=1.21.1 in /usr/local/lib/python3.10/dist-packages (from requests->torchvision) (2.0.7)\n",
            "Requirement already satisfied: certifi>=2017.4.17 in /usr/local/lib/python3.10/dist-packages (from requests->torchvision) (2024.2.2)\n",
            "Requirement already satisfied: mpmath>=0.19 in /usr/local/lib/python3.10/dist-packages (from sympy->torch) (1.3.0)\n",
            "Requirement already satisfied: flask in /usr/local/lib/python3.10/dist-packages (2.2.5)\n",
            "Requirement already satisfied: Werkzeug>=2.2.2 in /usr/local/lib/python3.10/dist-packages (from flask) (3.0.3)\n",
            "Requirement already satisfied: Jinja2>=3.0 in /usr/local/lib/python3.10/dist-packages (from flask) (3.1.4)\n",
            "Requirement already satisfied: itsdangerous>=2.0 in /usr/local/lib/python3.10/dist-packages (from flask) (2.2.0)\n",
            "Requirement already satisfied: click>=8.0 in /usr/local/lib/python3.10/dist-packages (from flask) (8.1.7)\n",
            "Requirement already satisfied: MarkupSafe>=2.0 in /usr/local/lib/python3.10/dist-packages (from Jinja2>=3.0->flask) (2.1.5)\n",
            "Requirement already satisfied: pyngrok in /usr/local/lib/python3.10/dist-packages (7.1.6)\n",
            "Requirement already satisfied: PyYAML>=5.1 in /usr/local/lib/python3.10/dist-packages (from pyngrok) (6.0.1)\n",
            "Requirement already satisfied: pyngrok in /usr/local/lib/python3.10/dist-packages (7.1.6)\n",
            "Requirement already satisfied: PyYAML>=5.1 in /usr/local/lib/python3.10/dist-packages (from pyngrok) (6.0.1)\n",
            "Looking in indexes: https://pypi.org/simple, https://download.pytorch.org/whl/cu118\n",
            "Ignoring tkinterdnd2-universal: markers 'sys_platform == \"darwin\" and platform_machine == \"arm64\"' don't match your environment\n",
            "Ignoring onnxruntime: markers 'python_version != \"3.9\" and sys_platform == \"darwin\" and platform_machine != \"arm64\"' don't match your environment\n",
            "Ignoring onnxruntime-coreml: markers 'python_version == \"3.9\" and sys_platform == \"darwin\" and platform_machine != \"arm64\"' don't match your environment\n",
            "Ignoring onnxruntime-silicon: markers 'sys_platform == \"darwin\" and platform_machine == \"arm64\"' don't match your environment\n",
            "Requirement already satisfied: numpy==1.24.3 in /usr/local/lib/python3.10/dist-packages (from -r /content/roop/requirements.txt (line 3)) (1.24.3)\n",
            "Requirement already satisfied: opencv-python==4.8.0.74 in /usr/local/lib/python3.10/dist-packages (from -r /content/roop/requirements.txt (line 4)) (4.8.0.74)\n",
            "Requirement already satisfied: onnx==1.14.0 in /usr/local/lib/python3.10/dist-packages (from -r /content/roop/requirements.txt (line 5)) (1.14.0)\n",
            "Requirement already satisfied: insightface==0.7.3 in /usr/local/lib/python3.10/dist-packages (from -r /content/roop/requirements.txt (line 6)) (0.7.3)\n",
            "Requirement already satisfied: psutil==5.9.5 in /usr/local/lib/python3.10/dist-packages (from -r /content/roop/requirements.txt (line 7)) (5.9.5)\n",
            "Requirement already satisfied: tk==0.1.0 in /usr/local/lib/python3.10/dist-packages (from -r /content/roop/requirements.txt (line 8)) (0.1.0)\n",
            "Requirement already satisfied: customtkinter==5.2.0 in /usr/local/lib/python3.10/dist-packages (from -r /content/roop/requirements.txt (line 9)) (5.2.0)\n",
            "Requirement already satisfied: tkinterdnd2==0.3.0 in /usr/local/lib/python3.10/dist-packages (from -r /content/roop/requirements.txt (line 10)) (0.3.0)\n",
            "Requirement already satisfied: pillow==10.0.0 in /usr/local/lib/python3.10/dist-packages (from -r /content/roop/requirements.txt (line 12)) (10.0.0)\n",
            "Requirement already satisfied: onnxruntime-gpu==1.15.1 in /usr/local/lib/python3.10/dist-packages (from -r /content/roop/requirements.txt (line 16)) (1.15.1)\n",
            "Requirement already satisfied: tensorflow==2.13.0 in /usr/local/lib/python3.10/dist-packages (from -r /content/roop/requirements.txt (line 17)) (2.13.0)\n",
            "Requirement already satisfied: opennsfw2==0.10.2 in /usr/local/lib/python3.10/dist-packages (from -r /content/roop/requirements.txt (line 18)) (0.10.2)\n",
            "Requirement already satisfied: protobuf==4.23.4 in /usr/local/lib/python3.10/dist-packages (from -r /content/roop/requirements.txt (line 19)) (4.23.4)\n",
            "Requirement already satisfied: tqdm==4.65.0 in /usr/local/lib/python3.10/dist-packages (from -r /content/roop/requirements.txt (line 20)) (4.65.0)\n",
            "Requirement already satisfied: gfpgan==1.3.8 in /usr/local/lib/python3.10/dist-packages (from -r /content/roop/requirements.txt (line 21)) (1.3.8)\n",
            "Requirement already satisfied: typing-extensions>=3.6.2.1 in /usr/local/lib/python3.10/dist-packages (from onnx==1.14.0->-r /content/roop/requirements.txt (line 5)) (4.5.0)\n",
            "Requirement already satisfied: requests in /usr/local/lib/python3.10/dist-packages (from insightface==0.7.3->-r /content/roop/requirements.txt (line 6)) (2.31.0)\n",
            "Requirement already satisfied: matplotlib in /usr/local/lib/python3.10/dist-packages (from insightface==0.7.3->-r /content/roop/requirements.txt (line 6)) (3.7.1)\n",
            "Requirement already satisfied: scipy in /usr/local/lib/python3.10/dist-packages (from insightface==0.7.3->-r /content/roop/requirements.txt (line 6)) (1.11.4)\n",
            "Requirement already satisfied: scikit-learn in /usr/local/lib/python3.10/dist-packages (from insightface==0.7.3->-r /content/roop/requirements.txt (line 6)) (1.2.2)\n",
            "Requirement already satisfied: scikit-image in /usr/local/lib/python3.10/dist-packages (from insightface==0.7.3->-r /content/roop/requirements.txt (line 6)) (0.19.3)\n",
            "Requirement already satisfied: easydict in /usr/local/lib/python3.10/dist-packages (from insightface==0.7.3->-r /content/roop/requirements.txt (line 6)) (1.13)\n",
            "Requirement already satisfied: cython in /usr/local/lib/python3.10/dist-packages (from insightface==0.7.3->-r /content/roop/requirements.txt (line 6)) (3.0.10)\n",
            "Requirement already satisfied: albumentations in /usr/local/lib/python3.10/dist-packages (from insightface==0.7.3->-r /content/roop/requirements.txt (line 6)) (1.3.1)\n",
            "Requirement already satisfied: prettytable in /usr/local/lib/python3.10/dist-packages (from insightface==0.7.3->-r /content/roop/requirements.txt (line 6)) (3.10.0)\n",
            "Requirement already satisfied: darkdetect in /usr/local/lib/python3.10/dist-packages (from customtkinter==5.2.0->-r /content/roop/requirements.txt (line 9)) (0.8.0)\n",
            "Requirement already satisfied: coloredlogs in /usr/local/lib/python3.10/dist-packages (from onnxruntime-gpu==1.15.1->-r /content/roop/requirements.txt (line 16)) (15.0.1)\n",
            "Requirement already satisfied: flatbuffers in /usr/local/lib/python3.10/dist-packages (from onnxruntime-gpu==1.15.1->-r /content/roop/requirements.txt (line 16)) (24.3.25)\n",
            "Requirement already satisfied: packaging in /usr/local/lib/python3.10/dist-packages (from onnxruntime-gpu==1.15.1->-r /content/roop/requirements.txt (line 16)) (24.0)\n",
            "Requirement already satisfied: sympy in /usr/local/lib/python3.10/dist-packages (from onnxruntime-gpu==1.15.1->-r /content/roop/requirements.txt (line 16)) (1.12)\n",
            "Requirement already satisfied: absl-py>=1.0.0 in /usr/local/lib/python3.10/dist-packages (from tensorflow==2.13.0->-r /content/roop/requirements.txt (line 17)) (1.4.0)\n",
            "Requirement already satisfied: astunparse>=1.6.0 in /usr/local/lib/python3.10/dist-packages (from tensorflow==2.13.0->-r /content/roop/requirements.txt (line 17)) (1.6.3)\n",
            "Requirement already satisfied: gast<=0.4.0,>=0.2.1 in /usr/local/lib/python3.10/dist-packages (from tensorflow==2.13.0->-r /content/roop/requirements.txt (line 17)) (0.4.0)\n",
            "Requirement already satisfied: google-pasta>=0.1.1 in /usr/local/lib/python3.10/dist-packages (from tensorflow==2.13.0->-r /content/roop/requirements.txt (line 17)) (0.2.0)\n",
            "Requirement already satisfied: grpcio<2.0,>=1.24.3 in /usr/local/lib/python3.10/dist-packages (from tensorflow==2.13.0->-r /content/roop/requirements.txt (line 17)) (1.63.0)\n",
            "Requirement already satisfied: h5py>=2.9.0 in /usr/local/lib/python3.10/dist-packages (from tensorflow==2.13.0->-r /content/roop/requirements.txt (line 17)) (3.9.0)\n",
            "Requirement already satisfied: keras<2.14,>=2.13.1 in /usr/local/lib/python3.10/dist-packages (from tensorflow==2.13.0->-r /content/roop/requirements.txt (line 17)) (2.13.1)\n",
            "Requirement already satisfied: libclang>=13.0.0 in /usr/local/lib/python3.10/dist-packages (from tensorflow==2.13.0->-r /content/roop/requirements.txt (line 17)) (18.1.1)\n",
            "Requirement already satisfied: opt-einsum>=2.3.2 in /usr/local/lib/python3.10/dist-packages (from tensorflow==2.13.0->-r /content/roop/requirements.txt (line 17)) (3.3.0)\n",
            "Requirement already satisfied: setuptools in /usr/local/lib/python3.10/dist-packages (from tensorflow==2.13.0->-r /content/roop/requirements.txt (line 17)) (67.7.2)\n",
            "Requirement already satisfied: six>=1.12.0 in /usr/local/lib/python3.10/dist-packages (from tensorflow==2.13.0->-r /content/roop/requirements.txt (line 17)) (1.16.0)\n",
            "Requirement already satisfied: tensorboard<2.14,>=2.13 in /usr/local/lib/python3.10/dist-packages (from tensorflow==2.13.0->-r /content/roop/requirements.txt (line 17)) (2.13.0)\n",
            "Requirement already satisfied: tensorflow-estimator<2.14,>=2.13.0 in /usr/local/lib/python3.10/dist-packages (from tensorflow==2.13.0->-r /content/roop/requirements.txt (line 17)) (2.13.0)\n",
            "Requirement already satisfied: termcolor>=1.1.0 in /usr/local/lib/python3.10/dist-packages (from tensorflow==2.13.0->-r /content/roop/requirements.txt (line 17)) (2.4.0)\n",
            "Requirement already satisfied: wrapt>=1.11.0 in /usr/local/lib/python3.10/dist-packages (from tensorflow==2.13.0->-r /content/roop/requirements.txt (line 17)) (1.14.1)\n",
            "Requirement already satisfied: tensorflow-io-gcs-filesystem>=0.23.1 in /usr/local/lib/python3.10/dist-packages (from tensorflow==2.13.0->-r /content/roop/requirements.txt (line 17)) (0.37.0)\n",
            "Requirement already satisfied: gdown>=4.2.0 in /usr/local/lib/python3.10/dist-packages (from opennsfw2==0.10.2->-r /content/roop/requirements.txt (line 18)) (5.1.0)\n",
            "Requirement already satisfied: basicsr>=1.4.2 in /usr/local/lib/python3.10/dist-packages (from gfpgan==1.3.8->-r /content/roop/requirements.txt (line 21)) (1.4.2)\n",
            "Requirement already satisfied: facexlib>=0.2.5 in /usr/local/lib/python3.10/dist-packages (from gfpgan==1.3.8->-r /content/roop/requirements.txt (line 21)) (0.3.0)\n",
            "Requirement already satisfied: lmdb in /usr/local/lib/python3.10/dist-packages (from gfpgan==1.3.8->-r /content/roop/requirements.txt (line 21)) (1.4.1)\n",
            "Requirement already satisfied: pyyaml in /usr/local/lib/python3.10/dist-packages (from gfpgan==1.3.8->-r /content/roop/requirements.txt (line 21)) (6.0.1)\n",
            "Requirement already satisfied: tb-nightly in /usr/local/lib/python3.10/dist-packages (from gfpgan==1.3.8->-r /content/roop/requirements.txt (line 21)) (2.17.0a20240520)\n",
            "Requirement already satisfied: torch>=1.7 in /usr/local/lib/python3.10/dist-packages (from gfpgan==1.3.8->-r /content/roop/requirements.txt (line 21)) (2.1.2+cu118)\n",
            "Requirement already satisfied: torchvision in /usr/local/lib/python3.10/dist-packages (from gfpgan==1.3.8->-r /content/roop/requirements.txt (line 21)) (0.16.2+cu118)\n",
            "Requirement already satisfied: yapf in /usr/local/lib/python3.10/dist-packages (from gfpgan==1.3.8->-r /content/roop/requirements.txt (line 21)) (0.40.2)\n",
            "Requirement already satisfied: wheel<1.0,>=0.23.0 in /usr/local/lib/python3.10/dist-packages (from astunparse>=1.6.0->tensorflow==2.13.0->-r /content/roop/requirements.txt (line 17)) (0.43.0)\n",
            "Requirement already satisfied: addict in /usr/local/lib/python3.10/dist-packages (from basicsr>=1.4.2->gfpgan==1.3.8->-r /content/roop/requirements.txt (line 21)) (2.4.0)\n",
            "Requirement already satisfied: future in /usr/local/lib/python3.10/dist-packages (from basicsr>=1.4.2->gfpgan==1.3.8->-r /content/roop/requirements.txt (line 21)) (0.18.3)\n",
            "Requirement already satisfied: filterpy in /usr/local/lib/python3.10/dist-packages (from facexlib>=0.2.5->gfpgan==1.3.8->-r /content/roop/requirements.txt (line 21)) (1.4.5)\n",
            "Requirement already satisfied: numba in /usr/local/lib/python3.10/dist-packages (from facexlib>=0.2.5->gfpgan==1.3.8->-r /content/roop/requirements.txt (line 21)) (0.58.1)\n",
            "Requirement already satisfied: beautifulsoup4 in /usr/local/lib/python3.10/dist-packages (from gdown>=4.2.0->opennsfw2==0.10.2->-r /content/roop/requirements.txt (line 18)) (4.12.3)\n",
            "Requirement already satisfied: filelock in /usr/local/lib/python3.10/dist-packages (from gdown>=4.2.0->opennsfw2==0.10.2->-r /content/roop/requirements.txt (line 18)) (3.14.0)\n",
            "Requirement already satisfied: contourpy>=1.0.1 in /usr/local/lib/python3.10/dist-packages (from matplotlib->insightface==0.7.3->-r /content/roop/requirements.txt (line 6)) (1.2.1)\n",
            "Requirement already satisfied: cycler>=0.10 in /usr/local/lib/python3.10/dist-packages (from matplotlib->insightface==0.7.3->-r /content/roop/requirements.txt (line 6)) (0.12.1)\n",
            "Requirement already satisfied: fonttools>=4.22.0 in /usr/local/lib/python3.10/dist-packages (from matplotlib->insightface==0.7.3->-r /content/roop/requirements.txt (line 6)) (4.51.0)\n",
            "Requirement already satisfied: kiwisolver>=1.0.1 in /usr/local/lib/python3.10/dist-packages (from matplotlib->insightface==0.7.3->-r /content/roop/requirements.txt (line 6)) (1.4.5)\n",
            "Requirement already satisfied: pyparsing>=2.3.1 in /usr/local/lib/python3.10/dist-packages (from matplotlib->insightface==0.7.3->-r /content/roop/requirements.txt (line 6)) (3.1.2)\n",
            "Requirement already satisfied: python-dateutil>=2.7 in /usr/local/lib/python3.10/dist-packages (from matplotlib->insightface==0.7.3->-r /content/roop/requirements.txt (line 6)) (2.8.2)\n",
            "Requirement already satisfied: networkx>=2.2 in /usr/local/lib/python3.10/dist-packages (from scikit-image->insightface==0.7.3->-r /content/roop/requirements.txt (line 6)) (3.3)\n",
            "Requirement already satisfied: imageio>=2.4.1 in /usr/local/lib/python3.10/dist-packages (from scikit-image->insightface==0.7.3->-r /content/roop/requirements.txt (line 6)) (2.31.6)\n",
            "Requirement already satisfied: tifffile>=2019.7.26 in /usr/local/lib/python3.10/dist-packages (from scikit-image->insightface==0.7.3->-r /content/roop/requirements.txt (line 6)) (2024.5.10)\n",
            "Requirement already satisfied: PyWavelets>=1.1.1 in /usr/local/lib/python3.10/dist-packages (from scikit-image->insightface==0.7.3->-r /content/roop/requirements.txt (line 6)) (1.6.0)\n",
            "Requirement already satisfied: google-auth<3,>=1.6.3 in /usr/local/lib/python3.10/dist-packages (from tensorboard<2.14,>=2.13->tensorflow==2.13.0->-r /content/roop/requirements.txt (line 17)) (2.27.0)\n",
            "Requirement already satisfied: google-auth-oauthlib<1.1,>=0.5 in /usr/local/lib/python3.10/dist-packages (from tensorboard<2.14,>=2.13->tensorflow==2.13.0->-r /content/roop/requirements.txt (line 17)) (1.0.0)\n",
            "Requirement already satisfied: markdown>=2.6.8 in /usr/local/lib/python3.10/dist-packages (from tensorboard<2.14,>=2.13->tensorflow==2.13.0->-r /content/roop/requirements.txt (line 17)) (3.6)\n",
            "Requirement already satisfied: tensorboard-data-server<0.8.0,>=0.7.0 in /usr/local/lib/python3.10/dist-packages (from tensorboard<2.14,>=2.13->tensorflow==2.13.0->-r /content/roop/requirements.txt (line 17)) (0.7.2)\n",
            "Requirement already satisfied: werkzeug>=1.0.1 in /usr/local/lib/python3.10/dist-packages (from tensorboard<2.14,>=2.13->tensorflow==2.13.0->-r /content/roop/requirements.txt (line 17)) (3.0.3)\n",
            "Requirement already satisfied: charset-normalizer<4,>=2 in /usr/local/lib/python3.10/dist-packages (from requests->insightface==0.7.3->-r /content/roop/requirements.txt (line 6)) (3.3.2)\n",
            "Requirement already satisfied: idna<4,>=2.5 in /usr/local/lib/python3.10/dist-packages (from requests->insightface==0.7.3->-r /content/roop/requirements.txt (line 6)) (3.7)\n",
            "Requirement already satisfied: urllib3<3,>=1.21.1 in /usr/local/lib/python3.10/dist-packages (from requests->insightface==0.7.3->-r /content/roop/requirements.txt (line 6)) (2.0.7)\n",
            "Requirement already satisfied: certifi>=2017.4.17 in /usr/local/lib/python3.10/dist-packages (from requests->insightface==0.7.3->-r /content/roop/requirements.txt (line 6)) (2024.2.2)\n",
            "Requirement already satisfied: jinja2 in /usr/local/lib/python3.10/dist-packages (from torch>=1.7->gfpgan==1.3.8->-r /content/roop/requirements.txt (line 21)) (3.1.4)\n",
            "Requirement already satisfied: fsspec in /usr/local/lib/python3.10/dist-packages (from torch>=1.7->gfpgan==1.3.8->-r /content/roop/requirements.txt (line 21)) (2023.6.0)\n",
            "Requirement already satisfied: triton==2.1.0 in /usr/local/lib/python3.10/dist-packages (from torch>=1.7->gfpgan==1.3.8->-r /content/roop/requirements.txt (line 21)) (2.1.0)\n",
            "Requirement already satisfied: qudida>=0.0.4 in /usr/local/lib/python3.10/dist-packages (from albumentations->insightface==0.7.3->-r /content/roop/requirements.txt (line 6)) (0.0.4)\n",
            "Requirement already satisfied: opencv-python-headless>=4.1.1 in /usr/local/lib/python3.10/dist-packages (from albumentations->insightface==0.7.3->-r /content/roop/requirements.txt (line 6)) (4.9.0.80)\n",
            "Requirement already satisfied: humanfriendly>=9.1 in /usr/local/lib/python3.10/dist-packages (from coloredlogs->onnxruntime-gpu==1.15.1->-r /content/roop/requirements.txt (line 16)) (10.0)\n",
            "Requirement already satisfied: wcwidth in /usr/local/lib/python3.10/dist-packages (from prettytable->insightface==0.7.3->-r /content/roop/requirements.txt (line 6)) (0.2.13)\n",
            "Requirement already satisfied: joblib>=1.1.1 in /usr/local/lib/python3.10/dist-packages (from scikit-learn->insightface==0.7.3->-r /content/roop/requirements.txt (line 6)) (1.4.2)\n",
            "Requirement already satisfied: threadpoolctl>=2.0.0 in /usr/local/lib/python3.10/dist-packages (from scikit-learn->insightface==0.7.3->-r /content/roop/requirements.txt (line 6)) (3.5.0)\n",
            "Requirement already satisfied: mpmath>=0.19 in /usr/local/lib/python3.10/dist-packages (from sympy->onnxruntime-gpu==1.15.1->-r /content/roop/requirements.txt (line 16)) (1.3.0)\n",
            "Requirement already satisfied: importlib-metadata>=6.6.0 in /usr/local/lib/python3.10/dist-packages (from yapf->gfpgan==1.3.8->-r /content/roop/requirements.txt (line 21)) (7.1.0)\n",
            "Requirement already satisfied: platformdirs>=3.5.1 in /usr/local/lib/python3.10/dist-packages (from yapf->gfpgan==1.3.8->-r /content/roop/requirements.txt (line 21)) (4.2.2)\n",
            "Requirement already satisfied: tomli>=2.0.1 in /usr/local/lib/python3.10/dist-packages (from yapf->gfpgan==1.3.8->-r /content/roop/requirements.txt (line 21)) (2.0.1)\n",
            "Requirement already satisfied: cachetools<6.0,>=2.0.0 in /usr/local/lib/python3.10/dist-packages (from google-auth<3,>=1.6.3->tensorboard<2.14,>=2.13->tensorflow==2.13.0->-r /content/roop/requirements.txt (line 17)) (5.3.3)\n",
            "Requirement already satisfied: pyasn1-modules>=0.2.1 in /usr/local/lib/python3.10/dist-packages (from google-auth<3,>=1.6.3->tensorboard<2.14,>=2.13->tensorflow==2.13.0->-r /content/roop/requirements.txt (line 17)) (0.4.0)\n",
            "Requirement already satisfied: rsa<5,>=3.1.4 in /usr/local/lib/python3.10/dist-packages (from google-auth<3,>=1.6.3->tensorboard<2.14,>=2.13->tensorflow==2.13.0->-r /content/roop/requirements.txt (line 17)) (4.9)\n",
            "Requirement already satisfied: requests-oauthlib>=0.7.0 in /usr/local/lib/python3.10/dist-packages (from google-auth-oauthlib<1.1,>=0.5->tensorboard<2.14,>=2.13->tensorflow==2.13.0->-r /content/roop/requirements.txt (line 17)) (1.3.1)\n",
            "Requirement already satisfied: zipp>=0.5 in /usr/local/lib/python3.10/dist-packages (from importlib-metadata>=6.6.0->yapf->gfpgan==1.3.8->-r /content/roop/requirements.txt (line 21)) (3.18.2)\n",
            "Requirement already satisfied: MarkupSafe>=2.1.1 in /usr/local/lib/python3.10/dist-packages (from werkzeug>=1.0.1->tensorboard<2.14,>=2.13->tensorflow==2.13.0->-r /content/roop/requirements.txt (line 17)) (2.1.5)\n",
            "Requirement already satisfied: soupsieve>1.2 in /usr/local/lib/python3.10/dist-packages (from beautifulsoup4->gdown>=4.2.0->opennsfw2==0.10.2->-r /content/roop/requirements.txt (line 18)) (2.5)\n",
            "Requirement already satisfied: llvmlite<0.42,>=0.41.0dev0 in /usr/local/lib/python3.10/dist-packages (from numba->facexlib>=0.2.5->gfpgan==1.3.8->-r /content/roop/requirements.txt (line 21)) (0.41.1)\n",
            "Requirement already satisfied: PySocks!=1.5.7,>=1.5.6 in /usr/local/lib/python3.10/dist-packages (from requests->insightface==0.7.3->-r /content/roop/requirements.txt (line 6)) (1.7.1)\n",
            "Requirement already satisfied: pyasn1<0.7.0,>=0.4.6 in /usr/local/lib/python3.10/dist-packages (from pyasn1-modules>=0.2.1->google-auth<3,>=1.6.3->tensorboard<2.14,>=2.13->tensorflow==2.13.0->-r /content/roop/requirements.txt (line 17)) (0.6.0)\n",
            "Requirement already satisfied: oauthlib>=3.0.0 in /usr/local/lib/python3.10/dist-packages (from requests-oauthlib>=0.7.0->google-auth-oauthlib<1.1,>=0.5->tensorboard<2.14,>=2.13->tensorflow==2.13.0->-r /content/roop/requirements.txt (line 17)) (3.2.2)\n"
          ]
        }
      ]
    },
    {
      "cell_type": "markdown",
      "source": [
        "# **To changing the directory**"
      ],
      "metadata": {
        "id": "r1NMw57fw7oM"
      }
    },
    {
      "cell_type": "code",
      "source": [
        "%cd roop"
      ],
      "metadata": {
        "colab": {
          "base_uri": "https://localhost:8080/"
        },
        "id": "foF9pLPk0bFW",
        "outputId": "adc8048d-e33b-4607-ac73-583c5cf2c5f0"
      },
      "execution_count": 6,
      "outputs": [
        {
          "output_type": "stream",
          "name": "stdout",
          "text": [
            "/content/roop\n"
          ]
        }
      ]
    },
    {
      "cell_type": "markdown",
      "source": [
        "# **Also working code API script**"
      ],
      "metadata": {
        "id": "QkMCMFKtw0SA"
      }
    },
    {
      "cell_type": "code",
      "source": [
        "from flask import Flask, request, jsonify\n",
        "import os\n",
        "import shutil\n",
        "import logging\n",
        "from pyngrok import ngrok\n",
        "import subprocess\n",
        "\n",
        "app = Flask(__name__)\n",
        "\n",
        "logging.basicConfig(level=logging.INFO)\n",
        "\n",
        "\n",
        "TEMPLATES_FOLDER_PATH = \"/content/template/Teacher\"\n",
        "\n",
        "def face_swap(source_image_folder, output_base_folder):\n",
        "    try:\n",
        "\n",
        "        output_folder = os.path.join(output_base_folder, \"(Outputs)\")\n",
        "        os.makedirs(output_folder, exist_ok=True)\n",
        "        logging.info(f\"Output folder created at: {output_folder}\")\n",
        "\n",
        "\n",
        "        source_images = os.listdir(source_image_folder)\n",
        "        if not source_images:\n",
        "            logging.error(\"No source images found.\")\n",
        "            return\n",
        "        logging.info(f\"Found {len(source_images)} source images.\")\n",
        "\n",
        "\n",
        "        template_images = os.listdir(TEMPLATES_FOLDER_PATH)\n",
        "        if not template_images:\n",
        "            logging.error(\"No template images found.\")\n",
        "            return\n",
        "        logging.info(f\"Found {len(template_images)} template images.\")\n",
        "\n",
        "\n",
        "        for source_image_name in source_images:\n",
        "            source_image_path = os.path.join(source_image_folder, source_image_name)\n",
        "\n",
        "\n",
        "            if os.path.isfile(source_image_path):\n",
        "                logging.info(f\"Processing source image: {source_image_name}\")\n",
        "\n",
        "                processed_image_paths = set()\n",
        "\n",
        "                for target_image_name in template_images:\n",
        "                    target_image_path = os.path.join(TEMPLATES_FOLDER_PATH, target_image_name)\n",
        "\n",
        "\n",
        "                    if os.path.isfile(target_image_path):\n",
        "                        logging.info(f\"Processing target image: {target_image_name}\")\n",
        "\n",
        "                        output_image_path = os.path.join(output_folder, f\"{source_image_name}_{target_image_name}\")\n",
        "                        if output_image_path in processed_image_paths:\n",
        "                            logging.info(f\"Skipping already processed image: {output_image_path}\")\n",
        "                            continue\n",
        "\n",
        "\n",
        "                        command = (\n",
        "                            f'python run.py -s \"{source_image_path}\" -t \"{target_image_path}\" '\n",
        "                            f'-o \"{output_image_path}\" --keep-fps --execution-threads 14 --many-faces '\n",
        "                            f'--execution-provider cuda --frame-processor face_swapper face_enhancer '\n",
        "                            f'--output-video-quality 35 --temp-frame-format jpg --max-memory 46'\n",
        "                        )\n",
        "                        logging.info(f\"Running command: {command}\")\n",
        "\n",
        "                        process = subprocess.Popen(command, shell=True, stdout=subprocess.PIPE, stderr=subprocess.PIPE)\n",
        "                        stdout, stderr = process.communicate()\n",
        "                        if process.returncode != 0:\n",
        "                            logging.error(f\"Failed to process target image: {target_image_name}\")\n",
        "                            logging.error(f\"Command output: {stderr.decode('utf-8')}\")\n",
        "                        else:\n",
        "                            logging.info(f\"Successfully processed target image: {target_image_name}\")\n",
        "                            logging.info(f\"Command output: {stdout.decode('utf-8')}\")\n",
        "                            processed_image_paths.add(output_image_path)\n",
        "\n",
        "\n",
        "                        if len(processed_image_paths) >= len(template_images):\n",
        "                            break\n",
        "\n",
        "    except Exception as e:\n",
        "        logging.exception(f\"An error occurred: {e}\")\n",
        "\n",
        "@app.route('/faceswap', methods=['POST'])\n",
        "def faceswap_api():\n",
        "    try:\n",
        "\n",
        "        source_image_folder = \"/content/source_images\"\n",
        "        os.makedirs(source_image_folder, exist_ok=True)\n",
        "\n",
        "\n",
        "        source_images = request.files.getlist('source_images')\n",
        "        if not source_images:\n",
        "            logging.error(\"No images uploaded.\")\n",
        "            return jsonify({\"error\": \"No images uploaded\"}), 400\n",
        "\n",
        "        for source_image in source_images:\n",
        "            source_image.save(os.path.join(source_image_folder, source_image.filename))\n",
        "            logging.info(f\"Uploaded image: {source_image.filename}\")\n",
        "\n",
        "        output_base_folder = \"/content\"\n",
        "\n",
        "        face_swap(source_image_folder, output_base_folder)\n",
        "\n",
        "\n",
        "        shutil.rmtree(source_image_folder)\n",
        "\n",
        "        return jsonify({\"message\": \"Face swap process initiated.\"}), 200\n",
        "\n",
        "    except Exception as e:\n",
        "        logging.exception(f\"An error occurred: {e}\")\n",
        "        return jsonify({\"error\": \"An error occurred\"}), 500\n",
        "\n",
        "if __name__ == '__main__':\n",
        "\n",
        "    url = ngrok.connect(5000)\n",
        "    print(f\" * Ngrok tunnel URL: {url}\")\n",
        "\n",
        "    app.run(port=5000)\n"
      ],
      "metadata": {
        "id": "JArzYeREuyXU"
      },
      "execution_count": null,
      "outputs": []
    },
    {
      "cell_type": "markdown",
      "source": [
        "# **Creating the json file for template API**"
      ],
      "metadata": {
        "id": "9YPVugoYL3fK"
      }
    },
    {
      "cell_type": "code",
      "source": [
        "from google.colab import drive\n",
        "drive.mount('/content/drive')"
      ],
      "metadata": {
        "id": "Sewb1tHMjkf5",
        "outputId": "cf41c260-13e9-41f5-ddf8-21f183ceab1b",
        "colab": {
          "base_uri": "https://localhost:8080/",
          "height": 321
        }
      },
      "execution_count": 7,
      "outputs": [
        {
          "output_type": "error",
          "ename": "ValueError",
          "evalue": "mount failed",
          "traceback": [
            "\u001b[0;31m---------------------------------------------------------------------------\u001b[0m",
            "\u001b[0;31mValueError\u001b[0m                                Traceback (most recent call last)",
            "\u001b[0;32m<ipython-input-7-d5df0069828e>\u001b[0m in \u001b[0;36m<cell line: 2>\u001b[0;34m()\u001b[0m\n\u001b[1;32m      1\u001b[0m \u001b[0;32mfrom\u001b[0m \u001b[0mgoogle\u001b[0m\u001b[0;34m.\u001b[0m\u001b[0mcolab\u001b[0m \u001b[0;32mimport\u001b[0m \u001b[0mdrive\u001b[0m\u001b[0;34m\u001b[0m\u001b[0;34m\u001b[0m\u001b[0m\n\u001b[0;32m----> 2\u001b[0;31m \u001b[0mdrive\u001b[0m\u001b[0;34m.\u001b[0m\u001b[0mmount\u001b[0m\u001b[0;34m(\u001b[0m\u001b[0;34m'/content/drive'\u001b[0m\u001b[0;34m)\u001b[0m\u001b[0;34m\u001b[0m\u001b[0;34m\u001b[0m\u001b[0m\n\u001b[0m",
            "\u001b[0;32m/usr/local/lib/python3.10/dist-packages/google/colab/drive.py\u001b[0m in \u001b[0;36mmount\u001b[0;34m(mountpoint, force_remount, timeout_ms, readonly)\u001b[0m\n\u001b[1;32m     98\u001b[0m \u001b[0;32mdef\u001b[0m \u001b[0mmount\u001b[0m\u001b[0;34m(\u001b[0m\u001b[0mmountpoint\u001b[0m\u001b[0;34m,\u001b[0m \u001b[0mforce_remount\u001b[0m\u001b[0;34m=\u001b[0m\u001b[0;32mFalse\u001b[0m\u001b[0;34m,\u001b[0m \u001b[0mtimeout_ms\u001b[0m\u001b[0;34m=\u001b[0m\u001b[0;36m120000\u001b[0m\u001b[0;34m,\u001b[0m \u001b[0mreadonly\u001b[0m\u001b[0;34m=\u001b[0m\u001b[0;32mFalse\u001b[0m\u001b[0;34m)\u001b[0m\u001b[0;34m:\u001b[0m\u001b[0;34m\u001b[0m\u001b[0;34m\u001b[0m\u001b[0m\n\u001b[1;32m     99\u001b[0m   \u001b[0;34m\"\"\"Mount your Google Drive at the specified mountpoint path.\"\"\"\u001b[0m\u001b[0;34m\u001b[0m\u001b[0;34m\u001b[0m\u001b[0m\n\u001b[0;32m--> 100\u001b[0;31m   return _mount(\n\u001b[0m\u001b[1;32m    101\u001b[0m       \u001b[0mmountpoint\u001b[0m\u001b[0;34m,\u001b[0m\u001b[0;34m\u001b[0m\u001b[0;34m\u001b[0m\u001b[0m\n\u001b[1;32m    102\u001b[0m       \u001b[0mforce_remount\u001b[0m\u001b[0;34m=\u001b[0m\u001b[0mforce_remount\u001b[0m\u001b[0;34m,\u001b[0m\u001b[0;34m\u001b[0m\u001b[0;34m\u001b[0m\u001b[0m\n",
            "\u001b[0;32m/usr/local/lib/python3.10/dist-packages/google/colab/drive.py\u001b[0m in \u001b[0;36m_mount\u001b[0;34m(mountpoint, force_remount, timeout_ms, ephemeral, readonly)\u001b[0m\n\u001b[1;32m    280\u001b[0m             \u001b[0;34m'https://research.google.com/colaboratory/faq.html#drive-timeout'\u001b[0m\u001b[0;34m\u001b[0m\u001b[0;34m\u001b[0m\u001b[0m\n\u001b[1;32m    281\u001b[0m         )\n\u001b[0;32m--> 282\u001b[0;31m       \u001b[0;32mraise\u001b[0m \u001b[0mValueError\u001b[0m\u001b[0;34m(\u001b[0m\u001b[0;34m'mount failed'\u001b[0m \u001b[0;34m+\u001b[0m \u001b[0mextra_reason\u001b[0m\u001b[0;34m)\u001b[0m\u001b[0;34m\u001b[0m\u001b[0;34m\u001b[0m\u001b[0m\n\u001b[0m\u001b[1;32m    283\u001b[0m     \u001b[0;32melif\u001b[0m \u001b[0mcase\u001b[0m \u001b[0;34m==\u001b[0m \u001b[0;36m4\u001b[0m\u001b[0;34m:\u001b[0m\u001b[0;34m\u001b[0m\u001b[0;34m\u001b[0m\u001b[0m\n\u001b[1;32m    284\u001b[0m       \u001b[0;31m# Terminate the DriveFS binary before killing bash.\u001b[0m\u001b[0;34m\u001b[0m\u001b[0;34m\u001b[0m\u001b[0m\n",
            "\u001b[0;31mValueError\u001b[0m: mount failed"
          ]
        }
      ]
    },
    {
      "cell_type": "code",
      "source": [
        "{\n",
        "  \"categories\": {\n",
        "    \"category1\": [\n",
        "      \"https://drive.google.com/uc?id=1-T922LMrBkHBQL9OuM8ZMWcW91k19oot\",\n",
        "      \"https://drive.google.com/uc?id=1-NTz8uGFjXHOfweygfbZI3UaZ7sBGvtt\",\n",
        "      \"https://drive.google.com/uc?id=1-EVrOQOBrrH4cIndzFjGQr58gyPBe1Sh\",\n",
        "      \"https://drive.google.com/uc?id=1-Ch2-ANY3_r72jwQ63macpj-Ju-HsmVl\",\n",
        "      \"https://drive.google.com/uc?id=1-Ay6QO8Bt2Lr97F8jscb22DiQ-MRhNe9\",\n",
        "      \"https://drive.google.com/uc?id=1-ADxhsyYbYtfjsuFtHOJlUM52FlkKTDi\"\n",
        "    ],\n",
        "    \"category2\": [\n",
        "      \"https://drive.google.com/uc?id=10HQHbfjV_33xa7WhZeYS4DMuQBqNpw3s\",\n",
        "      \"https://drive.google.com/uc?id=109B1r5auRVDKuUJhzn0TrLHhbQf7depB\",\n",
        "      \"https://drive.google.com/uc?id=1-sZ8lV6OGo4p1Kp7PPah58cZB0KfOiJ1\",\n",
        "      \"https://drive.google.com/uc?id=1-sJ-qYh9gAYHrbujcdBUaKOadLUuFtjj\",\n",
        "      \"https://drive.google.com/uc?id=1-poq_gCGlIWoTKRQFXgCGs1t_IAjPH2l\",\n",
        "      \"https://drive.google.com/uc?id=1-lmK7Fq_7UpqP_a1gP969MFgggfebKwI\",\n",
        "      \"https://drive.google.com/uc?id=1-gNkqHvt_wHnQyTskO-SIdxhlB_vDH_o\",\n",
        "      \"https://drive.google.com/uc?id=1-ePjWcUSawXII4El6iiI27p05dZkUjgm\",\n",
        "      \"https://drive.google.com/uc?id=10Zu6mPX9G50Bi89CkzBTgaIIOe9jPQaP\",\n",
        "      \"https://drive.google.com/uc?id=10S62IrVbLyIa7rDlm0v6bL4hw88iCay-\",\n",
        "      \"https://drive.google.com/uc?id=10RazuWfDgbAjUQ8e7LnQhqjvZEzwNWfA\",\n",
        "      \"https://drive.google.com/uc?id=10M_UvI7fhyOSz4JuHyrdRx1r2QePNCki\",\n",
        "      \"https://drive.google.com/uc?id=10LGIUYQptd6O91ld2KaCw52LdT9VVgf5\"\n",
        "    ]\n",
        "  }\n",
        "}\n"
      ],
      "metadata": {
        "id": "ypEvxcS9Pbhy",
        "outputId": "7f0946f9-baaf-48a8-e36e-5fbeca4d7d2e",
        "colab": {
          "base_uri": "https://localhost:8080/"
        }
      },
      "execution_count": 17,
      "outputs": [
        {
          "output_type": "execute_result",
          "data": {
            "text/plain": [
              "{'categories': {'category1': ['https://drive.google.com/uc?id=1-T922LMrBkHBQL9OuM8ZMWcW91k19oot',\n",
              "   'https://drive.google.com/uc?id=1-NTz8uGFjXHOfweygfbZI3UaZ7sBGvtt',\n",
              "   'https://drive.google.com/uc?id=1-EVrOQOBrrH4cIndzFjGQr58gyPBe1Sh',\n",
              "   'https://drive.google.com/uc?id=1-Ch2-ANY3_r72jwQ63macpj-Ju-HsmVl',\n",
              "   'https://drive.google.com/uc?id=1-Ay6QO8Bt2Lr97F8jscb22DiQ-MRhNe9',\n",
              "   'https://drive.google.com/uc?id=1-ADxhsyYbYtfjsuFtHOJlUM52FlkKTDi'],\n",
              "  'category2': ['https://drive.google.com/uc?id=10HQHbfjV_33xa7WhZeYS4DMuQBqNpw3s',\n",
              "   'https://drive.google.com/uc?id=109B1r5auRVDKuUJhzn0TrLHhbQf7depB',\n",
              "   'https://drive.google.com/uc?id=1-sZ8lV6OGo4p1Kp7PPah58cZB0KfOiJ1',\n",
              "   'https://drive.google.com/uc?id=1-sJ-qYh9gAYHrbujcdBUaKOadLUuFtjj',\n",
              "   'https://drive.google.com/uc?id=1-poq_gCGlIWoTKRQFXgCGs1t_IAjPH2l',\n",
              "   'https://drive.google.com/uc?id=1-lmK7Fq_7UpqP_a1gP969MFgggfebKwI',\n",
              "   'https://drive.google.com/uc?id=1-gNkqHvt_wHnQyTskO-SIdxhlB_vDH_o',\n",
              "   'https://drive.google.com/uc?id=1-ePjWcUSawXII4El6iiI27p05dZkUjgm',\n",
              "   'https://drive.google.com/uc?id=10Zu6mPX9G50Bi89CkzBTgaIIOe9jPQaP',\n",
              "   'https://drive.google.com/uc?id=10S62IrVbLyIa7rDlm0v6bL4hw88iCay-',\n",
              "   'https://drive.google.com/uc?id=10RazuWfDgbAjUQ8e7LnQhqjvZEzwNWfA',\n",
              "   'https://drive.google.com/uc?id=10M_UvI7fhyOSz4JuHyrdRx1r2QePNCki',\n",
              "   'https://drive.google.com/uc?id=10LGIUYQptd6O91ld2KaCw52LdT9VVgf5']}}"
            ]
          },
          "metadata": {},
          "execution_count": 17
        }
      ]
    },
    {
      "cell_type": "markdown",
      "source": [
        "# **creating your Flask app to serve the JSON data**"
      ],
      "metadata": {
        "id": "w5INxbwrwGKp"
      }
    },
    {
      "cell_type": "code",
      "source": [
        "!pip install flask flask-ngrok"
      ],
      "metadata": {
        "id": "V8pgIylQxieN",
        "outputId": "df99df2f-4266-4780-ab5b-d0717ff79c04",
        "colab": {
          "base_uri": "https://localhost:8080/"
        }
      },
      "execution_count": 11,
      "outputs": [
        {
          "output_type": "stream",
          "name": "stdout",
          "text": [
            "Requirement already satisfied: flask in /usr/local/lib/python3.10/dist-packages (2.2.5)\n",
            "Requirement already satisfied: flask-ngrok in /usr/local/lib/python3.10/dist-packages (0.0.25)\n",
            "Requirement already satisfied: Werkzeug>=2.2.2 in /usr/local/lib/python3.10/dist-packages (from flask) (3.0.3)\n",
            "Requirement already satisfied: Jinja2>=3.0 in /usr/local/lib/python3.10/dist-packages (from flask) (3.1.4)\n",
            "Requirement already satisfied: itsdangerous>=2.0 in /usr/local/lib/python3.10/dist-packages (from flask) (2.2.0)\n",
            "Requirement already satisfied: click>=8.0 in /usr/local/lib/python3.10/dist-packages (from flask) (8.1.7)\n",
            "Requirement already satisfied: requests in /usr/local/lib/python3.10/dist-packages (from flask-ngrok) (2.31.0)\n",
            "Requirement already satisfied: MarkupSafe>=2.0 in /usr/local/lib/python3.10/dist-packages (from Jinja2>=3.0->flask) (2.1.5)\n",
            "Requirement already satisfied: charset-normalizer<4,>=2 in /usr/local/lib/python3.10/dist-packages (from requests->flask-ngrok) (3.3.2)\n",
            "Requirement already satisfied: idna<4,>=2.5 in /usr/local/lib/python3.10/dist-packages (from requests->flask-ngrok) (3.7)\n",
            "Requirement already satisfied: urllib3<3,>=1.21.1 in /usr/local/lib/python3.10/dist-packages (from requests->flask-ngrok) (2.0.7)\n",
            "Requirement already satisfied: certifi>=2017.4.17 in /usr/local/lib/python3.10/dist-packages (from requests->flask-ngrok) (2024.2.2)\n"
          ]
        }
      ]
    },
    {
      "cell_type": "code",
      "source": [
        "from flask import Flask, jsonify\n",
        "from flask_ngrok import run_with_ngrok\n",
        "import json\n",
        "import time\n",
        "import requests\n",
        "\n",
        "app = Flask(__name__)\n",
        "run_with_ngrok(app)\n",
        "\n",
        "\n",
        "json_path = '/content/drive/MyDrive/templates/categories.json'\n",
        "with open(json_path) as f:\n",
        "    data = json.load(f)\n",
        "\n",
        "@app.route('/categories', methods=['GET'])\n",
        "def get_categories():\n",
        "    return jsonify(data)\n",
        "\n",
        "if __name__ == '__main__':\n",
        "    try:\n",
        "        app.run()\n",
        "    except Exception as e:\n",
        "        print(f\"Error occurred: {e}\")\n",
        "\n",
        "        time.sleep(5)\n",
        "        app.run()\n"
      ],
      "metadata": {
        "id": "j-_zkBVuz68V",
        "outputId": "0f40c7c3-7de7-4d15-8a12-6308836b205b",
        "colab": {
          "base_uri": "https://localhost:8080/"
        }
      },
      "execution_count": 23,
      "outputs": [
        {
          "output_type": "stream",
          "name": "stdout",
          "text": [
            " * Serving Flask app '__main__'\n",
            " * Debug mode: off\n"
          ]
        },
        {
          "output_type": "stream",
          "name": "stderr",
          "text": [
            "INFO:werkzeug:\u001b[31m\u001b[1mWARNING: This is a development server. Do not use it in a production deployment. Use a production WSGI server instead.\u001b[0m\n",
            " * Running on http://127.0.0.1:5000\n",
            "INFO:werkzeug:\u001b[33mPress CTRL+C to quit\u001b[0m\n"
          ]
        },
        {
          "output_type": "stream",
          "name": "stdout",
          "text": [
            " * Running on http://7b94-34-16-151-178.ngrok-free.app\n",
            " * Traffic stats available on http://127.0.0.1:4040\n"
          ]
        },
        {
          "output_type": "stream",
          "name": "stderr",
          "text": [
            "INFO:werkzeug:127.0.0.1 - - [22/May/2024 06:30:12] \"GET /categories HTTP/1.1\" 200 -\n"
          ]
        }
      ]
    },
    {
      "cell_type": "markdown",
      "source": [
        "# **Want to add API to display output images**"
      ],
      "metadata": {
        "id": "lYHDGRklWIBW"
      }
    },
    {
      "cell_type": "code",
      "source": [
        "from flask import Flask, request, jsonify, send_from_directory\n",
        "import os\n",
        "import shutil\n",
        "import logging\n",
        "from pyngrok import ngrok\n",
        "import subprocess\n",
        "\n",
        "app = Flask(__name__)\n",
        "\n",
        "logging.basicConfig(level=logging.INFO)\n",
        "\n",
        "TEMPLATES_FOLDER_PATH = \"/content/templates\"\n",
        "OUTPUT_BASE_FOLDER = \"/content\"\n",
        "\n",
        "def face_swap(source_image_folder, output_base_folder):\n",
        "    try:\n",
        "        output_folder = os.path.join(output_base_folder, \"(Outputs)\")\n",
        "        os.makedirs(output_folder, exist_ok=True)\n",
        "        logging.info(f\"Output folder created at: {output_folder}\")\n",
        "\n",
        "        source_images = os.listdir(source_image_folder)\n",
        "        if not source_images:\n",
        "            logging.error(\"No source images found.\")\n",
        "            return\n",
        "        logging.info(f\"Found {len(source_images)} source images.\")\n",
        "\n",
        "        template_images = os.listdir(TEMPLATES_FOLDER_PATH)\n",
        "        if not template_images:\n",
        "            logging.error(\"No template images found.\")\n",
        "            return\n",
        "        logging.info(f\"Found {len(template_images)} template images.\")\n",
        "\n",
        "        # Select only the first source image\n",
        "        source_image_name = source_images[0]\n",
        "        source_image_path = os.path.join(source_image_folder, source_image_name)\n",
        "\n",
        "        if os.path.isfile(source_image_path):\n",
        "            logging.info(f\"Processing source image: {source_image_name}\")\n",
        "\n",
        "            processed_image_paths = set()\n",
        "\n",
        "            for target_image_name in template_images:\n",
        "                target_image_path = os.path.join(TEMPLATES_FOLDER_PATH, target_image_name)\n",
        "\n",
        "                if os.path.isfile(target_image_path):\n",
        "                    logging.info(f\"Processing target image: {target_image_name}\")\n",
        "\n",
        "                    output_image_path = os.path.join(output_folder, f\"{source_image_name}_{target_image_name}\")\n",
        "                    if output_image_path in processed_image_paths:\n",
        "                        logging.info(f\"Skipping already processed image: {output_image_path}\")\n",
        "                        continue\n",
        "\n",
        "                    command = (\n",
        "                        f'python run.py -s \"{source_image_path}\" -t \"{target_image_path}\" '\n",
        "                        f'-o \"{output_image_path}\" --keep-fps --execution-threads 14 --many-faces '\n",
        "                        f'--execution-provider cuda --frame-processor face_swapper face_enhancer '\n",
        "                        f'--output-video-quality 35 --temp-frame-format jpg --max-memory 46'\n",
        "                    )\n",
        "                    logging.info(f\"Running command: {command}\")\n",
        "\n",
        "                    process = subprocess.Popen(command, shell=True, stdout=subprocess.PIPE, stderr=subprocess.PIPE)\n",
        "                    stdout, stderr = process.communicate()\n",
        "                    if process.returncode != 0:\n",
        "                        logging.error(f\"Failed to process target image: {target_image_name}\")\n",
        "                        logging.error(f\"Command output: {stderr.decode('utf-8')}\")\n",
        "                    else:\n",
        "                        logging.info(f\"Successfully processed target image: {target_image_name}\")\n",
        "                        logging.info(f\"Command output: {stdout.decode('utf-8')}\")\n",
        "                        processed_image_paths.add(output_image_path)\n",
        "\n",
        "                    if len(processed_image_paths) >= len(template_images):\n",
        "                        break\n",
        "\n",
        "    except Exception as e:\n",
        "        logging.exception(f\"An error occurred: {e}\")\n",
        "\n",
        "@app.route('/faceswap', methods=['POST'])\n",
        "def faceswap_api():\n",
        "    try:\n",
        "        source_image_folder = \"/content/source_images\"\n",
        "        os.makedirs(source_image_folder, exist_ok=True)\n",
        "\n",
        "        source_images = request.files.getlist('source_images')\n",
        "        if not source_images:\n",
        "            logging.error(\"No images uploaded.\")\n",
        "            return jsonify({\"error\": \"No images uploaded\"}), 400\n",
        "\n",
        "        for source_image in source_images:\n",
        "            source_image.save(os.path.join(source_image_folder, source_image.filename))\n",
        "            logging.info(f\"Uploaded image: {source_image.filename}\")\n",
        "\n",
        "        face_swap(source_image_folder, OUTPUT_BASE_FOLDER)\n",
        "\n",
        "        shutil.rmtree(source_image_folder)\n",
        "\n",
        "        return jsonify({\"message\": \"Face swap process initiated.\"}), 200\n",
        "\n",
        "    except Exception as e:\n",
        "        logging.exception(f\"An error occurred: {e}\")\n",
        "        return jsonify({\"error\": \"An error occurred\"}), 500\n",
        "\n",
        "@app.route('/output_images', methods=['GET'])\n",
        "def output_images_api():\n",
        "    try:\n",
        "        output_folder = os.path.join(OUTPUT_BASE_FOLDER, \"(Outputs)\")\n",
        "        if not os.path.exists(output_folder):\n",
        "            logging.error(\"Output folder does not exist.\")\n",
        "            return jsonify({\"error\": \"Output folder does not exist\"}), 404\n",
        "\n",
        "        output_images = os.listdir(output_folder)\n",
        "        if not output_images:\n",
        "            logging.info(\"No output images found.\")\n",
        "            return jsonify({\"message\": \"No output images found.\"}), 200\n",
        "\n",
        "        return jsonify({\"output_images\": output_images}), 200\n",
        "\n",
        "    except Exception as e:\n",
        "        logging.exception(f\"An error occurred: {e}\")\n",
        "        return jsonify({\"error\": \"An error occurred\"}), 500\n",
        "\n",
        "@app.route('/output_images/<filename>', methods=['GET'])\n",
        "def get_output_image(filename):\n",
        "    try:\n",
        "        output_folder = os.path.join(OUTPUT_BASE_FOLDER, \"(Outputs)\")\n",
        "        return send_from_directory(output_folder, filename)\n",
        "    except Exception as e:\n",
        "        logging.exception(f\"An error occurred: {e}\")\n",
        "        return jsonify({\"error\": \"An error occurred\"}), 500\n",
        "\n",
        "if __name__ == '__main__':\n",
        "    url = ngrok.connect(5000)\n",
        "    print(f\" * Ngrok tunnel URL: {url}\")\n",
        "\n",
        "    app.run(port=5000)\n"
      ],
      "metadata": {
        "id": "cmEI_j80WHGW",
        "outputId": "97761469-cf2f-41d9-9122-c3f02e916771",
        "colab": {
          "base_uri": "https://localhost:8080/"
        }
      },
      "execution_count": null,
      "outputs": [
        {
          "metadata": {
            "tags": null
          },
          "name": "stdout",
          "output_type": "stream",
          "text": [
            " * Ngrok tunnel URL: NgrokTunnel: \"https://d5c3-35-233-203-121.ngrok-free.app\" -> \"http://localhost:5000\"\n",
            " * Serving Flask app '__main__'\n",
            " * Debug mode: off\n"
          ]
        },
        {
          "metadata": {
            "tags": null
          },
          "name": "stderr",
          "output_type": "stream",
          "text": [
            "INFO:werkzeug:\u001b[31m\u001b[1mWARNING: This is a development server. Do not use it in a production deployment. Use a production WSGI server instead.\u001b[0m\n",
            " * Running on http://127.0.0.1:5000\n",
            "INFO:werkzeug:\u001b[33mPress CTRL+C to quit\u001b[0m\n",
            "ERROR:root:Failed to process target image: B (1).jpeg\n",
            "Downloading: 529MB [00:02, 256MB/s]                           \n",
            "Downloading: 332MB [00:02, 158MB/s]                           \n",
            "100%|██████████| 281857/281857 [00:03<00:00, 84597.50KB/s]\n",
            "Downloading...\n",
            "From: https://github.com/bhky/opennsfw2/releases/download/v0.1.0/open_nsfw_weights.h5\n",
            "To: /root/.opennsfw2/weights/open_nsfw_weights.h5\n",
            "100%|██████████| 24.2M/24.2M [00:00<00:00, 44.6MB/s]\n",
            "100%|██████████| 104M/104M [00:00<00:00, 303MB/s] \n",
            "100%|██████████| 81.4M/81.4M [00:00<00:00, 264MB/s]\n",
            "Segmentation fault (core dumped)\n",
            "\n",
            "ERROR:root:Failed to process target image: B (9).jpg\n",
            "ERROR:root:Command output: Segmentation fault (core dumped)\n",
            "\n",
            "ERROR:root:Failed to process target image: B (5).jpg\n",
            "ERROR:root:Command output: Segmentation fault (core dumped)\n",
            "\n",
            "ERROR:root:Failed to process target image: B (7).jpg\n",
            "ERROR:root:Command output: Segmentation fault (core dumped)\n",
            "\n",
            "ERROR:root:Failed to process target image: B (4).jpg\n",
            "ERROR:root:Command output: Segmentation fault (core dumped)\n",
            "\n",
            "ERROR:root:Failed to process target image: B (2).jpg\n",
            "ERROR:root:Command output: Segmentation fault (core dumped)\n",
            "\n",
            "ERROR:root:Failed to process target image: B (2).jpeg\n",
            "ERROR:root:Command output: Segmentation fault (core dumped)\n",
            "\n",
            "ERROR:root:Failed to process target image: B (3).jpg\n",
            "ERROR:root:Command output: Segmentation fault (core dumped)\n",
            "\n",
            "ERROR:root:Failed to process target image: B (1).jpg\n",
            "ERROR:root:Command output: Segmentation fault (core dumped)\n",
            "\n",
            "ERROR:root:Failed to process target image: B (8).jpg\n",
            "ERROR:root:Command output: Segmentation fault (core dumped)\n",
            "\n",
            "ERROR:root:Failed to process target image: B (6).jpg\n",
            "ERROR:root:Command output: Segmentation fault (core dumped)\n",
            "\n",
            "ERROR:root:Failed to process target image: B (3).jpeg\n",
            "ERROR:root:Command output: Segmentation fault (core dumped)\n",
            "\n",
            "INFO:werkzeug:127.0.0.1 - - [22/May/2024 09:45:53] \"POST /faceswap HTTP/1.1\" 200 -\n",
            "INFO:werkzeug:127.0.0.1 - - [22/May/2024 09:47:10] \"\u001b[33mPOST /faceswap/output_images HTTP/1.1\u001b[0m\" 404 -\n",
            "INFO:werkzeug:127.0.0.1 - - [22/May/2024 09:48:08] \"\u001b[31m\u001b[1mPOST /output_images HTTP/1.1\u001b[0m\" 405 -\n",
            "INFO:werkzeug:127.0.0.1 - - [22/May/2024 09:48:24] \"\u001b[31m\u001b[1mPOST /output_images HTTP/1.1\u001b[0m\" 405 -\n",
            "INFO:werkzeug:127.0.0.1 - - [22/May/2024 09:49:15] \"GET /output_images HTTP/1.1\" 200 -\n"
          ]
        }
      ]
    }
  ]
}