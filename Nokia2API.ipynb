{
  "nbformat": 4,
  "nbformat_minor": 0,
  "metadata": {
    "colab": {
      "provenance": [],
      "gpuType": "T4",
      "include_colab_link": true
    },
    "kernelspec": {
      "name": "python3",
      "display_name": "Python 3"
    },
    "language_info": {
      "name": "python"
    },
    "accelerator": "GPU"
  },
  "cells": [
    {
      "cell_type": "markdown",
      "metadata": {
        "id": "view-in-github",
        "colab_type": "text"
      },
      "source": [
        "<a href=\"https://colab.research.google.com/github/girinath18/AI_Headshot_RG/blob/Winter/Nokia2API.ipynb\" target=\"_parent\"><img src=\"https://colab.research.google.com/assets/colab-badge.svg\" alt=\"Open In Colab\"/></a>"
      ]
    },
    {
      "cell_type": "markdown",
      "source": [
        "# **Run Before the script cell**"
      ],
      "metadata": {
        "id": "f2FN2BAsoWl3"
      }
    },
    {
      "cell_type": "code",
      "execution_count": 1,
      "metadata": {
        "colab": {
          "base_uri": "https://localhost:8080/"
        },
        "id": "JciKDOeft8qc",
        "outputId": "da773132-74fa-49d3-fe10-2fc8c249a665"
      },
      "outputs": [
        {
          "output_type": "stream",
          "name": "stdout",
          "text": [
            "Requirement already satisfied: pyngrok in /usr/local/lib/python3.10/dist-packages (7.1.6)\n",
            "Requirement already satisfied: PyYAML>=5.1 in /usr/local/lib/python3.10/dist-packages (from pyngrok) (6.0.1)\n",
            "fatal: destination path 'roop' already exists and is not an empty directory.\n",
            "/content/roop\n"
          ]
        }
      ],
      "source": [
        "!pip install pyngrok\n",
        "from pyngrok import ngrok\n",
        "ngrok.set_auth_token(\"2grhewRoUtjHE4SVcxmbIPobZ9e_7KdSgCrcQoczPKpuwUtpm\")\n",
        "public_url = ngrok.connect(5000).public_url\n",
        "!git clone https://github.com/girinath18/roop.git\n",
        "%cd roop"
      ]
    },
    {
      "cell_type": "code",
      "source": [
        "from google.colab import drive\n",
        "drive.mount('/content/drive')"
      ],
      "metadata": {
        "id": "FpUrnl67n87v",
        "outputId": "b74955a3-69eb-4426-a344-3435ce2582e8",
        "colab": {
          "base_uri": "https://localhost:8080/"
        }
      },
      "execution_count": 2,
      "outputs": [
        {
          "output_type": "stream",
          "name": "stdout",
          "text": [
            "Drive already mounted at /content/drive; to attempt to forcibly remount, call drive.mount(\"/content/drive\", force_remount=True).\n"
          ]
        }
      ]
    },
    {
      "cell_type": "code",
      "source": [
        "!pip install flask_ngrok\n",
        "!pip install onnxruntime\n",
        "!pip install customtkinter\n",
        "!pip install torch torchvision\n",
        "!pip install flask\n",
        "!pip install pyngrok --upgrade\n",
        "!pip install --upgrade pyngrok\n",
        "!pip install -r /content/roop/requirements.txt"
      ],
      "metadata": {
        "colab": {
          "base_uri": "https://localhost:8080/"
        },
        "id": "h5b7HK9Ju0Ad",
        "outputId": "2c3c7b17-ce5b-454e-9170-9609cc1d0fd9"
      },
      "execution_count": null,
      "outputs": [
        {
          "output_type": "stream",
          "name": "stdout",
          "text": [
            "Requirement already satisfied: flask_ngrok in /usr/local/lib/python3.10/dist-packages (0.0.25)\n",
            "Requirement already satisfied: Flask>=0.8 in /usr/local/lib/python3.10/dist-packages (from flask_ngrok) (2.2.5)\n",
            "Requirement already satisfied: requests in /usr/local/lib/python3.10/dist-packages (from flask_ngrok) (2.31.0)\n",
            "Requirement already satisfied: Werkzeug>=2.2.2 in /usr/local/lib/python3.10/dist-packages (from Flask>=0.8->flask_ngrok) (3.0.3)\n",
            "Requirement already satisfied: Jinja2>=3.0 in /usr/local/lib/python3.10/dist-packages (from Flask>=0.8->flask_ngrok) (3.1.4)\n",
            "Requirement already satisfied: itsdangerous>=2.0 in /usr/local/lib/python3.10/dist-packages (from Flask>=0.8->flask_ngrok) (2.2.0)\n",
            "Requirement already satisfied: click>=8.0 in /usr/local/lib/python3.10/dist-packages (from Flask>=0.8->flask_ngrok) (8.1.7)\n",
            "Requirement already satisfied: charset-normalizer<4,>=2 in /usr/local/lib/python3.10/dist-packages (from requests->flask_ngrok) (3.3.2)\n",
            "Requirement already satisfied: idna<4,>=2.5 in /usr/local/lib/python3.10/dist-packages (from requests->flask_ngrok) (3.7)\n",
            "Requirement already satisfied: urllib3<3,>=1.21.1 in /usr/local/lib/python3.10/dist-packages (from requests->flask_ngrok) (2.0.7)\n",
            "Requirement already satisfied: certifi>=2017.4.17 in /usr/local/lib/python3.10/dist-packages (from requests->flask_ngrok) (2024.6.2)\n",
            "Requirement already satisfied: MarkupSafe>=2.0 in /usr/local/lib/python3.10/dist-packages (from Jinja2>=3.0->Flask>=0.8->flask_ngrok) (2.1.5)\n",
            "Requirement already satisfied: onnxruntime in /usr/local/lib/python3.10/dist-packages (1.18.0)\n",
            "Requirement already satisfied: coloredlogs in /usr/local/lib/python3.10/dist-packages (from onnxruntime) (15.0.1)\n",
            "Requirement already satisfied: flatbuffers in /usr/local/lib/python3.10/dist-packages (from onnxruntime) (24.3.25)\n",
            "Requirement already satisfied: numpy>=1.21.6 in /usr/local/lib/python3.10/dist-packages (from onnxruntime) (1.24.3)\n",
            "Requirement already satisfied: packaging in /usr/local/lib/python3.10/dist-packages (from onnxruntime) (24.0)\n",
            "Requirement already satisfied: protobuf in /usr/local/lib/python3.10/dist-packages (from onnxruntime) (4.23.4)\n",
            "Requirement already satisfied: sympy in /usr/local/lib/python3.10/dist-packages (from onnxruntime) (1.12.1)\n",
            "Requirement already satisfied: humanfriendly>=9.1 in /usr/local/lib/python3.10/dist-packages (from coloredlogs->onnxruntime) (10.0)\n",
            "Requirement already satisfied: mpmath<1.4.0,>=1.1.0 in /usr/local/lib/python3.10/dist-packages (from sympy->onnxruntime) (1.3.0)\n",
            "Requirement already satisfied: customtkinter in /usr/local/lib/python3.10/dist-packages (5.2.0)\n",
            "Requirement already satisfied: darkdetect in /usr/local/lib/python3.10/dist-packages (from customtkinter) (0.8.0)\n",
            "Requirement already satisfied: torch in /usr/local/lib/python3.10/dist-packages (2.1.2+cu118)\n",
            "Requirement already satisfied: torchvision in /usr/local/lib/python3.10/dist-packages (0.16.2+cu118)\n",
            "Requirement already satisfied: filelock in /usr/local/lib/python3.10/dist-packages (from torch) (3.14.0)\n",
            "Requirement already satisfied: typing-extensions in /usr/local/lib/python3.10/dist-packages (from torch) (4.5.0)\n",
            "Requirement already satisfied: sympy in /usr/local/lib/python3.10/dist-packages (from torch) (1.12.1)\n",
            "Requirement already satisfied: networkx in /usr/local/lib/python3.10/dist-packages (from torch) (3.3)\n",
            "Requirement already satisfied: jinja2 in /usr/local/lib/python3.10/dist-packages (from torch) (3.1.4)\n",
            "Requirement already satisfied: fsspec in /usr/local/lib/python3.10/dist-packages (from torch) (2023.6.0)\n",
            "Requirement already satisfied: triton==2.1.0 in /usr/local/lib/python3.10/dist-packages (from torch) (2.1.0)\n",
            "Requirement already satisfied: numpy in /usr/local/lib/python3.10/dist-packages (from torchvision) (1.24.3)\n",
            "Requirement already satisfied: requests in /usr/local/lib/python3.10/dist-packages (from torchvision) (2.31.0)\n",
            "Requirement already satisfied: pillow!=8.3.*,>=5.3.0 in /usr/local/lib/python3.10/dist-packages (from torchvision) (10.0.0)\n",
            "Requirement already satisfied: MarkupSafe>=2.0 in /usr/local/lib/python3.10/dist-packages (from jinja2->torch) (2.1.5)\n",
            "Requirement already satisfied: charset-normalizer<4,>=2 in /usr/local/lib/python3.10/dist-packages (from requests->torchvision) (3.3.2)\n",
            "Requirement already satisfied: idna<4,>=2.5 in /usr/local/lib/python3.10/dist-packages (from requests->torchvision) (3.7)\n",
            "Requirement already satisfied: urllib3<3,>=1.21.1 in /usr/local/lib/python3.10/dist-packages (from requests->torchvision) (2.0.7)\n",
            "Requirement already satisfied: certifi>=2017.4.17 in /usr/local/lib/python3.10/dist-packages (from requests->torchvision) (2024.6.2)\n",
            "Requirement already satisfied: mpmath<1.4.0,>=1.1.0 in /usr/local/lib/python3.10/dist-packages (from sympy->torch) (1.3.0)\n"
          ]
        }
      ]
    },
    {
      "cell_type": "markdown",
      "source": [
        "# **creating your Flask app to serve the JSON data**"
      ],
      "metadata": {
        "id": "w5INxbwrwGKp"
      }
    },
    {
      "cell_type": "code",
      "source": [
        "!pip install flask flask-ngrok"
      ],
      "metadata": {
        "id": "V8pgIylQxieN",
        "outputId": "00f38f03-ff89-49a0-b538-6e97af6766a3",
        "colab": {
          "base_uri": "https://localhost:8080/"
        }
      },
      "execution_count": null,
      "outputs": [
        {
          "output_type": "stream",
          "name": "stdout",
          "text": [
            "Requirement already satisfied: flask in /usr/local/lib/python3.10/dist-packages (2.2.5)\n",
            "Requirement already satisfied: flask-ngrok in /usr/local/lib/python3.10/dist-packages (0.0.25)\n",
            "Requirement already satisfied: Werkzeug>=2.2.2 in /usr/local/lib/python3.10/dist-packages (from flask) (3.0.3)\n",
            "Requirement already satisfied: Jinja2>=3.0 in /usr/local/lib/python3.10/dist-packages (from flask) (3.1.4)\n",
            "Requirement already satisfied: itsdangerous>=2.0 in /usr/local/lib/python3.10/dist-packages (from flask) (2.2.0)\n",
            "Requirement already satisfied: click>=8.0 in /usr/local/lib/python3.10/dist-packages (from flask) (8.1.7)\n",
            "Requirement already satisfied: requests in /usr/local/lib/python3.10/dist-packages (from flask-ngrok) (2.31.0)\n",
            "Requirement already satisfied: MarkupSafe>=2.0 in /usr/local/lib/python3.10/dist-packages (from Jinja2>=3.0->flask) (2.1.5)\n",
            "Requirement already satisfied: charset-normalizer<4,>=2 in /usr/local/lib/python3.10/dist-packages (from requests->flask-ngrok) (3.3.2)\n",
            "Requirement already satisfied: idna<4,>=2.5 in /usr/local/lib/python3.10/dist-packages (from requests->flask-ngrok) (3.7)\n",
            "Requirement already satisfied: urllib3<3,>=1.21.1 in /usr/local/lib/python3.10/dist-packages (from requests->flask-ngrok) (2.0.7)\n",
            "Requirement already satisfied: certifi>=2017.4.17 in /usr/local/lib/python3.10/dist-packages (from requests->flask-ngrok) (2024.2.2)\n"
          ]
        }
      ]
    },
    {
      "cell_type": "code",
      "source": [
        "from flask import Flask, jsonify\n",
        "from flask_ngrok import run_with_ngrok\n",
        "import json\n",
        "import time\n",
        "import requests\n",
        "\n",
        "app = Flask(__name__)\n",
        "run_with_ngrok(app)\n",
        "\n",
        "\n",
        "json_path = '/content/drive/MyDrive/templates/categories.json'\n",
        "with open(json_path) as f:\n",
        "    data = json.load(f)\n",
        "\n",
        "@app.route('/categories', methods=['GET'])\n",
        "def get_categories():\n",
        "    return jsonify(data)\n",
        "\n",
        "if __name__ == '__main__':\n",
        "    try:\n",
        "        app.run()\n",
        "    except Exception as e:\n",
        "        print(f\"Error occurred: {e}\")\n",
        "\n",
        "        time.sleep(5)\n",
        "        app.run()\n"
      ],
      "metadata": {
        "id": "j-_zkBVuz68V"
      },
      "execution_count": null,
      "outputs": []
    },
    {
      "cell_type": "markdown",
      "source": [
        "# **Latest working code**"
      ],
      "metadata": {
        "id": "0g28gbMihX-X"
      }
    },
    {
      "cell_type": "code",
      "source": [
        "from flask import Flask, request, jsonify, send_from_directory, url_for\n",
        "import os\n",
        "import shutil\n",
        "import logging\n",
        "from pyngrok import ngrok\n",
        "import subprocess\n",
        "\n",
        "app = Flask(__name__)\n",
        "\n",
        "logging.basicConfig(level=logging.INFO)\n",
        "\n",
        "TEMPLATES_FOLDER_PATH = \"/content/drive/MyDrive/templates/florist\"\n",
        "OUTPUT_BASE_FOLDER = \"/content/output_Bot\"\n",
        "PERMANENT_OUTPUT_FOLDER = \"/content/output_Bot/RGR(Outputs)\"\n",
        "\n",
        "def face_swap(source_image_folder, output_base_folder):\n",
        "    try:\n",
        "        output_folder = os.path.join(output_base_folder, \"RGR(Outputs)\")\n",
        "        os.makedirs(output_folder, exist_ok=True)\n",
        "        os.makedirs(PERMANENT_OUTPUT_FOLDER, exist_ok=True)\n",
        "        logging.info(f\"Output folder created at: {output_folder}\")\n",
        "\n",
        "        source_images = os.listdir(source_image_folder)\n",
        "        if not source_images:\n",
        "            logging.error(\"No source images found.\")\n",
        "            return\n",
        "        logging.info(f\"Found {len(source_images)} source images.\")\n",
        "\n",
        "        template_images = os.listdir(TEMPLATES_FOLDER_PATH)\n",
        "        if not template_images:\n",
        "            logging.error(\"No template images found.\")\n",
        "            return\n",
        "        logging.info(f\"Found {len(template_images)} template images.\")\n",
        "\n",
        "        source_image_name = source_images[0]\n",
        "        source_image_path = os.path.join(source_image_folder, source_image_name)\n",
        "\n",
        "        if os.path.isfile(source_image_path):\n",
        "            logging.info(f\"Processing source image: {source_image_name}\")\n",
        "\n",
        "            processed_image_paths = set()\n",
        "\n",
        "            for target_image_name in template_images:\n",
        "                target_image_path = os.path.join(TEMPLATES_FOLDER_PATH, target_image_name)\n",
        "\n",
        "                if os.path.isfile(target_image_path):\n",
        "                    logging.info(f\"Processing target image: {target_image_name}\")\n",
        "\n",
        "                    output_image_path = os.path.join(output_folder, f\"{source_image_name}_{target_image_name}\")\n",
        "                    permanent_output_image_path = os.path.join(PERMANENT_OUTPUT_FOLDER, f\"{source_image_name}_{target_image_name}\")\n",
        "\n",
        "                    if output_image_path in processed_image_paths:\n",
        "                        logging.info(f\"Skipping already processed image: {output_image_path}\")\n",
        "                        continue\n",
        "\n",
        "                    command = (\n",
        "                        f'python run.py -s \"{source_image_path}\" -t \"{target_image_path}\" '\n",
        "                        f'-o \"{output_image_path}\" --keep-fps --execution-threads 14 --many-faces '\n",
        "                        f'--execution-provider cuda --frame-processor face_swapper face_enhancer '\n",
        "                        f'--output-video-quality 35 --temp-frame-format jpg --max-memory 46'\n",
        "                    )\n",
        "                    logging.info(f\"Running command: {command}\")\n",
        "\n",
        "                    process = subprocess.Popen(command, shell=True, stdout=subprocess.PIPE, stderr=subprocess.PIPE)\n",
        "                    stdout, stderr = process.communicate()\n",
        "                    if process.returncode != 0:\n",
        "                        logging.error(f\"Failed to process target image: {target_image_name}\")\n",
        "                        logging.error(f\"Command output: {stderr.decode('utf-8')}\")\n",
        "                    else:\n",
        "                        logging.info(f\"Successfully processed target image: {target_image_name}\")\n",
        "                        logging.info(f\"Command output: {stdout.decode('utf-8')}\")\n",
        "                        shutil.copy(output_image_path, permanent_output_image_path)\n",
        "                        processed_image_paths.add(output_image_path)\n",
        "\n",
        "                    if len(processed_image_paths) >= len(template_images):\n",
        "                        break\n",
        "\n",
        "    except Exception as e:\n",
        "        logging.exception(f\"An error occurred: {e}\")\n",
        "\n",
        "@app.route('/faceswap', methods=['POST'])\n",
        "def faceswap_api():\n",
        "    try:\n",
        "        source_image_folder = \"/content/source_images\"\n",
        "        os.makedirs(source_image_folder, exist_ok=True)\n",
        "\n",
        "        source_images = request.files.getlist('source_images')\n",
        "        if not source_images:\n",
        "            logging.error(\"No images uploaded.\")\n",
        "            return jsonify({\"error\": \"No images uploaded\"}), 400\n",
        "\n",
        "        for source_image in source_images:\n",
        "            source_image.save(os.path.join(source_image_folder, source_image.filename))\n",
        "            logging.info(f\"Uploaded image: {source_image.filename}\")\n",
        "\n",
        "        face_swap(source_image_folder, OUTPUT_BASE_FOLDER)\n",
        "\n",
        "        shutil.rmtree(source_image_folder)\n",
        "\n",
        "        return jsonify({\"message\": \"Face swap process initiated.\"}), 200\n",
        "\n",
        "    except Exception as e:\n",
        "        logging.exception(f\"An error occurred: {e}\")\n",
        "        return jsonify({\"error\": \"An error occurred\"}), 500\n",
        "\n",
        "@app.route('/output_images', methods=['GET'])\n",
        "def output_images_api():\n",
        "    try:\n",
        "        if not os.path.exists(PERMANENT_OUTPUT_FOLDER):\n",
        "            logging.error(\"Output folder does not exist.\")\n",
        "            return jsonify({\"error\": \"Output folder does not exist\"}), 404\n",
        "\n",
        "        output_images = os.listdir(PERMANENT_OUTPUT_FOLDER)\n",
        "        if not output_images:\n",
        "            logging.info(\"No output images found.\")\n",
        "            return jsonify({\"message\": \"No output images found.\"}), 200\n",
        "\n",
        "        image_urls = [\n",
        "            url_for('get_output_image', filename=img, _external=True)\n",
        "            for img in output_images\n",
        "        ]\n",
        "        return jsonify({\"images\": image_urls})\n",
        "\n",
        "    except Exception as e:\n",
        "        logging.exception(f\"An error occurred: {e}\")\n",
        "        return jsonify({\"error\": \"An error occurred\"}), 500\n",
        "\n",
        "@app.route('/output_images/<path:filename>', methods=['GET'])\n",
        "def get_output_image(filename):\n",
        "    try:\n",
        "        if os.path.exists(os.path.join(PERMANENT_OUTPUT_FOLDER, filename)):\n",
        "            return send_from_directory(PERMANENT_OUTPUT_FOLDER, filename)\n",
        "        else:\n",
        "            return jsonify({\"error\": \"File not found\"}), 404\n",
        "    except Exception as e:\n",
        "        logging.exception(f\"An error occurred: {e}\")\n",
        "        return jsonify({\"error\": \"An error occurred\"}), 500\n",
        "\n",
        "if __name__ == '__main__':\n",
        "    url = ngrok.connect(5000)\n",
        "    print(f\" * Ngrok tunnel URL: {url}\")\n",
        "\n",
        "    app.run(port=5000)\n"
      ],
      "metadata": {
        "colab": {
          "base_uri": "https://localhost:8080/"
        },
        "id": "OjieF-Ko85_5",
        "outputId": "8b770799-0c84-4653-d499-cd762a0ef0a3"
      },
      "execution_count": null,
      "outputs": [
        {
          "output_type": "stream",
          "name": "stdout",
          "text": [
            " * Ngrok tunnel URL: NgrokTunnel: \"https://9845-34-125-14-219.ngrok-free.app\" -> \"http://localhost:5000\"\n",
            " * Serving Flask app '__main__'\n",
            " * Debug mode: off\n"
          ]
        },
        {
          "output_type": "stream",
          "name": "stderr",
          "text": [
            "INFO:werkzeug:\u001b[31m\u001b[1mWARNING: This is a development server. Do not use it in a production deployment. Use a production WSGI server instead.\u001b[0m\n",
            " * Running on http://127.0.0.1:5000\n",
            "INFO:werkzeug:\u001b[33mPress CTRL+C to quit\u001b[0m\n",
            "ERROR:root:Failed to process target image: Florist (16).jpg\n",
            "Downloading: 529MB [00:02, 259MB/s]                           \n",
            "Downloading: 332MB [00:01, 195MB/s]                           \n",
            "100%|██████████| 281857/281857 [00:04<00:00, 67461.90KB/s]\n",
            "Downloading...\n",
            "From: https://github.com/bhky/opennsfw2/releases/download/v0.1.0/open_nsfw_weights.h5\n",
            "To: /root/.opennsfw2/weights/open_nsfw_weights.h5\n",
            "100%|██████████| 24.2M/24.2M [00:00<00:00, 47.4MB/s]\n",
            "100%|██████████| 104M/104M [00:00<00:00, 235MB/s] \n",
            "100%|██████████| 81.4M/81.4M [00:00<00:00, 239MB/s]\n",
            "Segmentation fault (core dumped)\n",
            "\n",
            "ERROR:root:Failed to process target image: Florist (17).jpg\n",
            "ERROR:root:Command output: Segmentation fault (core dumped)\n",
            "\n",
            "ERROR:root:Failed to process target image: Florist (18).jpg\n",
            "ERROR:root:Command output: Segmentation fault (core dumped)\n",
            "\n",
            "INFO:werkzeug:127.0.0.1 - - [05/Jun/2024 10:45:34] \"POST /faceswap HTTP/1.1\" 200 -\n",
            "INFO:werkzeug:127.0.0.1 - - [05/Jun/2024 10:49:02] \"GET /output_images HTTP/1.1\" 200 -\n",
            "INFO:werkzeug:127.0.0.1 - - [05/Jun/2024 10:49:26] \"GET /output_images/Sam%20(1).jpg_Florist%20(17).jpg HTTP/1.1\" 200 -\n",
            "INFO:werkzeug:127.0.0.1 - - [05/Jun/2024 10:50:10] \"GET /output_images/Sam%20(1).jpg_Florist%20(17).jpg HTTP/1.1\" 200 -\n",
            "INFO:werkzeug:127.0.0.1 - - [05/Jun/2024 10:51:25] \"GET /output_images/Sam%20(1).jpg_Florist%20(17).jpg HTTP/1.1\" 200 -\n"
          ]
        }
      ]
    },
    {
      "cell_type": "markdown",
      "source": [
        "# **Sample**"
      ],
      "metadata": {
        "id": "ueeTy-BA3ul1"
      }
    },
    {
      "cell_type": "code",
      "source": [],
      "metadata": {
        "id": "Q7a2Z59M32zE"
      },
      "execution_count": null,
      "outputs": []
    },
    {
      "cell_type": "code",
      "source": [
        "from flask import Flask, request, jsonify\n",
        "\n",
        "app = Flask(__name__)\n",
        "\n",
        "# Global variable to store the folder path\n",
        "folder_path = None\n",
        "\n",
        "@app.route('/set_folder_path', methods=['GET'])\n",
        "def set_folder_path():\n",
        "    global folder_path\n",
        "    folder_path = request.args.get('path')\n",
        "    if not folder_path:\n",
        "        return jsonify({\"error\": \"No path provided\"}), 400\n",
        "    return jsonify({\"message\": f\"Folder path set to: {folder_path}\"}), 200\n",
        "\n",
        "@app.route('/get_folder_path', methods=['GET'])\n",
        "def get_folder_path():\n",
        "    if not folder_path:\n",
        "        return jsonify({\"error\": \"No folder path set\"}), 404\n",
        "    return jsonify({\"folder_path\": folder_path}), 200\n",
        "\n",
        "if __name__ == '__main__':\n",
        "    app.run(port=5000, debug=True)\n"
      ],
      "metadata": {
        "id": "gwfBsiS43pw3",
        "outputId": "22f68d8a-e430-42d4-a614-cf211ccc62e3",
        "colab": {
          "base_uri": "https://localhost:8080/"
        }
      },
      "execution_count": 4,
      "outputs": [
        {
          "output_type": "stream",
          "name": "stdout",
          "text": [
            " * Serving Flask app '__main__'\n",
            " * Debug mode: on\n"
          ]
        },
        {
          "output_type": "stream",
          "name": "stderr",
          "text": [
            "INFO:werkzeug:\u001b[31m\u001b[1mWARNING: This is a development server. Do not use it in a production deployment. Use a production WSGI server instead.\u001b[0m\n",
            " * Running on http://127.0.0.1:5000\n",
            "INFO:werkzeug:\u001b[33mPress CTRL+C to quit\u001b[0m\n",
            "INFO:werkzeug: * Restarting with stat\n"
          ]
        }
      ]
    }
  ]
}