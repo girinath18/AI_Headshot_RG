{
  "nbformat": 4,
  "nbformat_minor": 0,
  "metadata": {
    "colab": {
      "provenance": [],
      "gpuType": "T4",
      "include_colab_link": true
    },
    "kernelspec": {
      "name": "python3",
      "display_name": "Python 3"
    },
    "language_info": {
      "name": "python"
    },
    "accelerator": "GPU"
  },
  "cells": [
    {
      "cell_type": "markdown",
      "metadata": {
        "id": "view-in-github",
        "colab_type": "text"
      },
      "source": [
        "<a href=\"https://colab.research.google.com/github/girinath18/AI_Headshot_RG/blob/headshots/Nokia2API.ipynb\" target=\"_parent\"><img src=\"https://colab.research.google.com/assets/colab-badge.svg\" alt=\"Open In Colab\"/></a>"
      ]
    },
    {
      "cell_type": "code",
      "execution_count": 11,
      "metadata": {
        "colab": {
          "base_uri": "https://localhost:8080/"
        },
        "id": "JciKDOeft8qc",
        "outputId": "bbcb2eb6-7072-4c4d-8210-2de645b5f6f3"
      },
      "outputs": [
        {
          "output_type": "stream",
          "name": "stdout",
          "text": [
            "Requirement already satisfied: pyngrok in /usr/local/lib/python3.10/dist-packages (7.1.6)\n",
            "Requirement already satisfied: PyYAML>=5.1 in /usr/local/lib/python3.10/dist-packages (from pyngrok) (6.0.1)\n"
          ]
        }
      ],
      "source": [
        "!pip install pyngrok"
      ]
    },
    {
      "cell_type": "code",
      "source": [
        "from pyngrok import ngrok"
      ],
      "metadata": {
        "id": "hgrXj9DzuqAP"
      },
      "execution_count": 12,
      "outputs": []
    },
    {
      "cell_type": "code",
      "source": [
        "ngrok.set_auth_token(\"2grhewRoUtjHE4SVcxmbIPobZ9e_7KdSgCrcQoczPKpuwUtpm\")\n",
        "public_url = ngrok.connect(5000).public_url"
      ],
      "metadata": {
        "id": "2zwX28_susTU"
      },
      "execution_count": 13,
      "outputs": []
    },
    {
      "cell_type": "code",
      "source": [
        "!git clone https://github.com/girinath18/roop.git"
      ],
      "metadata": {
        "colab": {
          "base_uri": "https://localhost:8080/"
        },
        "id": "Cp9dmAxtuwZk",
        "outputId": "4f802b80-6e23-49cc-f402-9c59996d4bec"
      },
      "execution_count": 4,
      "outputs": [
        {
          "output_type": "stream",
          "name": "stdout",
          "text": [
            "fatal: destination path 'roop' already exists and is not an empty directory.\n"
          ]
        }
      ]
    },
    {
      "cell_type": "markdown",
      "source": [
        "# **To changing the directory**"
      ],
      "metadata": {
        "id": "r1NMw57fw7oM"
      }
    },
    {
      "cell_type": "markdown",
      "source": [
        "# **Connecting notebook to the Drive**"
      ],
      "metadata": {
        "id": "2xL9b7bIkPMu"
      }
    },
    {
      "cell_type": "code",
      "source": [
        "%cd roop"
      ],
      "metadata": {
        "id": "atUmT6y9Gk94",
        "outputId": "59c34911-26a2-4e70-a7ed-9bd4600930fd",
        "colab": {
          "base_uri": "https://localhost:8080/"
        }
      },
      "execution_count": 14,
      "outputs": [
        {
          "output_type": "stream",
          "name": "stdout",
          "text": [
            "/content/roop/roop\n"
          ]
        }
      ]
    },
    {
      "cell_type": "code",
      "source": [
        "!pip install flask_ngrok\n",
        "!pip install onnxruntime\n",
        "!pip install customtkinter\n",
        "!pip install torch torchvision\n",
        "!pip install flask\n",
        "!pip install pyngrok --upgrade\n",
        "!pip install --upgrade pyngrok\n",
        "!pip install -r /content/roop/requirements.txt"
      ],
      "metadata": {
        "colab": {
          "base_uri": "https://localhost:8080/"
        },
        "id": "h5b7HK9Ju0Ad",
        "outputId": "c62a2129-e279-43d2-be09-a65d42b2c252"
      },
      "execution_count": 6,
      "outputs": [
        {
          "output_type": "stream",
          "name": "stdout",
          "text": [
            "Requirement already satisfied: flask_ngrok in /usr/local/lib/python3.10/dist-packages (0.0.25)\n",
            "Requirement already satisfied: Flask>=0.8 in /usr/local/lib/python3.10/dist-packages (from flask_ngrok) (2.2.5)\n",
            "Requirement already satisfied: requests in /usr/local/lib/python3.10/dist-packages (from flask_ngrok) (2.31.0)\n",
            "Requirement already satisfied: Werkzeug>=2.2.2 in /usr/local/lib/python3.10/dist-packages (from Flask>=0.8->flask_ngrok) (3.0.3)\n",
            "Requirement already satisfied: Jinja2>=3.0 in /usr/local/lib/python3.10/dist-packages (from Flask>=0.8->flask_ngrok) (3.1.4)\n",
            "Requirement already satisfied: itsdangerous>=2.0 in /usr/local/lib/python3.10/dist-packages (from Flask>=0.8->flask_ngrok) (2.2.0)\n",
            "Requirement already satisfied: click>=8.0 in /usr/local/lib/python3.10/dist-packages (from Flask>=0.8->flask_ngrok) (8.1.7)\n",
            "Requirement already satisfied: charset-normalizer<4,>=2 in /usr/local/lib/python3.10/dist-packages (from requests->flask_ngrok) (3.3.2)\n",
            "Requirement already satisfied: idna<4,>=2.5 in /usr/local/lib/python3.10/dist-packages (from requests->flask_ngrok) (3.7)\n",
            "Requirement already satisfied: urllib3<3,>=1.21.1 in /usr/local/lib/python3.10/dist-packages (from requests->flask_ngrok) (2.0.7)\n",
            "Requirement already satisfied: certifi>=2017.4.17 in /usr/local/lib/python3.10/dist-packages (from requests->flask_ngrok) (2024.2.2)\n",
            "Requirement already satisfied: MarkupSafe>=2.0 in /usr/local/lib/python3.10/dist-packages (from Jinja2>=3.0->Flask>=0.8->flask_ngrok) (2.1.5)\n",
            "Requirement already satisfied: onnxruntime in /usr/local/lib/python3.10/dist-packages (1.18.0)\n",
            "Requirement already satisfied: coloredlogs in /usr/local/lib/python3.10/dist-packages (from onnxruntime) (15.0.1)\n",
            "Requirement already satisfied: flatbuffers in /usr/local/lib/python3.10/dist-packages (from onnxruntime) (24.3.25)\n",
            "Requirement already satisfied: numpy>=1.21.6 in /usr/local/lib/python3.10/dist-packages (from onnxruntime) (1.24.3)\n",
            "Requirement already satisfied: packaging in /usr/local/lib/python3.10/dist-packages (from onnxruntime) (24.0)\n",
            "Requirement already satisfied: protobuf in /usr/local/lib/python3.10/dist-packages (from onnxruntime) (4.23.4)\n",
            "Requirement already satisfied: sympy in /usr/local/lib/python3.10/dist-packages (from onnxruntime) (1.12.1)\n",
            "Requirement already satisfied: humanfriendly>=9.1 in /usr/local/lib/python3.10/dist-packages (from coloredlogs->onnxruntime) (10.0)\n",
            "Requirement already satisfied: mpmath<1.4.0,>=1.1.0 in /usr/local/lib/python3.10/dist-packages (from sympy->onnxruntime) (1.3.0)\n",
            "Requirement already satisfied: customtkinter in /usr/local/lib/python3.10/dist-packages (5.2.0)\n",
            "Requirement already satisfied: darkdetect in /usr/local/lib/python3.10/dist-packages (from customtkinter) (0.8.0)\n",
            "Requirement already satisfied: torch in /usr/local/lib/python3.10/dist-packages (2.1.2+cu118)\n",
            "Requirement already satisfied: torchvision in /usr/local/lib/python3.10/dist-packages (0.16.2+cu118)\n",
            "Requirement already satisfied: filelock in /usr/local/lib/python3.10/dist-packages (from torch) (3.14.0)\n",
            "Requirement already satisfied: typing-extensions in /usr/local/lib/python3.10/dist-packages (from torch) (4.5.0)\n",
            "Requirement already satisfied: sympy in /usr/local/lib/python3.10/dist-packages (from torch) (1.12.1)\n",
            "Requirement already satisfied: networkx in /usr/local/lib/python3.10/dist-packages (from torch) (3.3)\n",
            "Requirement already satisfied: jinja2 in /usr/local/lib/python3.10/dist-packages (from torch) (3.1.4)\n",
            "Requirement already satisfied: fsspec in /usr/local/lib/python3.10/dist-packages (from torch) (2023.6.0)\n",
            "Requirement already satisfied: triton==2.1.0 in /usr/local/lib/python3.10/dist-packages (from torch) (2.1.0)\n",
            "Requirement already satisfied: numpy in /usr/local/lib/python3.10/dist-packages (from torchvision) (1.24.3)\n",
            "Requirement already satisfied: requests in /usr/local/lib/python3.10/dist-packages (from torchvision) (2.31.0)\n",
            "Requirement already satisfied: pillow!=8.3.*,>=5.3.0 in /usr/local/lib/python3.10/dist-packages (from torchvision) (10.0.0)\n",
            "Requirement already satisfied: MarkupSafe>=2.0 in /usr/local/lib/python3.10/dist-packages (from jinja2->torch) (2.1.5)\n",
            "Requirement already satisfied: charset-normalizer<4,>=2 in /usr/local/lib/python3.10/dist-packages (from requests->torchvision) (3.3.2)\n",
            "Requirement already satisfied: idna<4,>=2.5 in /usr/local/lib/python3.10/dist-packages (from requests->torchvision) (3.7)\n",
            "Requirement already satisfied: urllib3<3,>=1.21.1 in /usr/local/lib/python3.10/dist-packages (from requests->torchvision) (2.0.7)\n",
            "Requirement already satisfied: certifi>=2017.4.17 in /usr/local/lib/python3.10/dist-packages (from requests->torchvision) (2024.2.2)\n",
            "Requirement already satisfied: mpmath<1.4.0,>=1.1.0 in /usr/local/lib/python3.10/dist-packages (from sympy->torch) (1.3.0)\n",
            "Requirement already satisfied: flask in /usr/local/lib/python3.10/dist-packages (2.2.5)\n",
            "Requirement already satisfied: Werkzeug>=2.2.2 in /usr/local/lib/python3.10/dist-packages (from flask) (3.0.3)\n",
            "Requirement already satisfied: Jinja2>=3.0 in /usr/local/lib/python3.10/dist-packages (from flask) (3.1.4)\n",
            "Requirement already satisfied: itsdangerous>=2.0 in /usr/local/lib/python3.10/dist-packages (from flask) (2.2.0)\n",
            "Requirement already satisfied: click>=8.0 in /usr/local/lib/python3.10/dist-packages (from flask) (8.1.7)\n",
            "Requirement already satisfied: MarkupSafe>=2.0 in /usr/local/lib/python3.10/dist-packages (from Jinja2>=3.0->flask) (2.1.5)\n",
            "Requirement already satisfied: pyngrok in /usr/local/lib/python3.10/dist-packages (7.1.6)\n",
            "Requirement already satisfied: PyYAML>=5.1 in /usr/local/lib/python3.10/dist-packages (from pyngrok) (6.0.1)\n",
            "Requirement already satisfied: pyngrok in /usr/local/lib/python3.10/dist-packages (7.1.6)\n",
            "Requirement already satisfied: PyYAML>=5.1 in /usr/local/lib/python3.10/dist-packages (from pyngrok) (6.0.1)\n",
            "Looking in indexes: https://pypi.org/simple, https://download.pytorch.org/whl/cu118\n",
            "Ignoring tkinterdnd2-universal: markers 'sys_platform == \"darwin\" and platform_machine == \"arm64\"' don't match your environment\n",
            "Ignoring onnxruntime: markers 'python_version != \"3.9\" and sys_platform == \"darwin\" and platform_machine != \"arm64\"' don't match your environment\n",
            "Ignoring onnxruntime-coreml: markers 'python_version == \"3.9\" and sys_platform == \"darwin\" and platform_machine != \"arm64\"' don't match your environment\n",
            "Ignoring onnxruntime-silicon: markers 'sys_platform == \"darwin\" and platform_machine == \"arm64\"' don't match your environment\n",
            "Requirement already satisfied: numpy==1.24.3 in /usr/local/lib/python3.10/dist-packages (from -r /content/roop/requirements.txt (line 3)) (1.24.3)\n",
            "Requirement already satisfied: opencv-python==4.8.0.74 in /usr/local/lib/python3.10/dist-packages (from -r /content/roop/requirements.txt (line 4)) (4.8.0.74)\n",
            "Requirement already satisfied: onnx==1.14.0 in /usr/local/lib/python3.10/dist-packages (from -r /content/roop/requirements.txt (line 5)) (1.14.0)\n",
            "Requirement already satisfied: insightface==0.7.3 in /usr/local/lib/python3.10/dist-packages (from -r /content/roop/requirements.txt (line 6)) (0.7.3)\n",
            "Requirement already satisfied: psutil==5.9.5 in /usr/local/lib/python3.10/dist-packages (from -r /content/roop/requirements.txt (line 7)) (5.9.5)\n",
            "Requirement already satisfied: tk==0.1.0 in /usr/local/lib/python3.10/dist-packages (from -r /content/roop/requirements.txt (line 8)) (0.1.0)\n",
            "Requirement already satisfied: customtkinter==5.2.0 in /usr/local/lib/python3.10/dist-packages (from -r /content/roop/requirements.txt (line 9)) (5.2.0)\n",
            "Requirement already satisfied: tkinterdnd2==0.3.0 in /usr/local/lib/python3.10/dist-packages (from -r /content/roop/requirements.txt (line 10)) (0.3.0)\n",
            "Requirement already satisfied: pillow==10.0.0 in /usr/local/lib/python3.10/dist-packages (from -r /content/roop/requirements.txt (line 12)) (10.0.0)\n",
            "Requirement already satisfied: onnxruntime-gpu==1.15.1 in /usr/local/lib/python3.10/dist-packages (from -r /content/roop/requirements.txt (line 16)) (1.15.1)\n",
            "Requirement already satisfied: tensorflow==2.13.0 in /usr/local/lib/python3.10/dist-packages (from -r /content/roop/requirements.txt (line 17)) (2.13.0)\n",
            "Requirement already satisfied: opennsfw2==0.10.2 in /usr/local/lib/python3.10/dist-packages (from -r /content/roop/requirements.txt (line 18)) (0.10.2)\n",
            "Requirement already satisfied: protobuf==4.23.4 in /usr/local/lib/python3.10/dist-packages (from -r /content/roop/requirements.txt (line 19)) (4.23.4)\n",
            "Requirement already satisfied: tqdm==4.65.0 in /usr/local/lib/python3.10/dist-packages (from -r /content/roop/requirements.txt (line 20)) (4.65.0)\n",
            "Requirement already satisfied: gfpgan==1.3.8 in /usr/local/lib/python3.10/dist-packages (from -r /content/roop/requirements.txt (line 21)) (1.3.8)\n",
            "Requirement already satisfied: typing-extensions>=3.6.2.1 in /usr/local/lib/python3.10/dist-packages (from onnx==1.14.0->-r /content/roop/requirements.txt (line 5)) (4.5.0)\n",
            "Requirement already satisfied: requests in /usr/local/lib/python3.10/dist-packages (from insightface==0.7.3->-r /content/roop/requirements.txt (line 6)) (2.31.0)\n",
            "Requirement already satisfied: matplotlib in /usr/local/lib/python3.10/dist-packages (from insightface==0.7.3->-r /content/roop/requirements.txt (line 6)) (3.7.1)\n",
            "Requirement already satisfied: scipy in /usr/local/lib/python3.10/dist-packages (from insightface==0.7.3->-r /content/roop/requirements.txt (line 6)) (1.11.4)\n",
            "Requirement already satisfied: scikit-learn in /usr/local/lib/python3.10/dist-packages (from insightface==0.7.3->-r /content/roop/requirements.txt (line 6)) (1.2.2)\n",
            "Requirement already satisfied: scikit-image in /usr/local/lib/python3.10/dist-packages (from insightface==0.7.3->-r /content/roop/requirements.txt (line 6)) (0.19.3)\n",
            "Requirement already satisfied: easydict in /usr/local/lib/python3.10/dist-packages (from insightface==0.7.3->-r /content/roop/requirements.txt (line 6)) (1.13)\n",
            "Requirement already satisfied: cython in /usr/local/lib/python3.10/dist-packages (from insightface==0.7.3->-r /content/roop/requirements.txt (line 6)) (3.0.10)\n",
            "Requirement already satisfied: albumentations in /usr/local/lib/python3.10/dist-packages (from insightface==0.7.3->-r /content/roop/requirements.txt (line 6)) (1.3.1)\n",
            "Requirement already satisfied: prettytable in /usr/local/lib/python3.10/dist-packages (from insightface==0.7.3->-r /content/roop/requirements.txt (line 6)) (3.10.0)\n",
            "Requirement already satisfied: darkdetect in /usr/local/lib/python3.10/dist-packages (from customtkinter==5.2.0->-r /content/roop/requirements.txt (line 9)) (0.8.0)\n",
            "Requirement already satisfied: coloredlogs in /usr/local/lib/python3.10/dist-packages (from onnxruntime-gpu==1.15.1->-r /content/roop/requirements.txt (line 16)) (15.0.1)\n",
            "Requirement already satisfied: flatbuffers in /usr/local/lib/python3.10/dist-packages (from onnxruntime-gpu==1.15.1->-r /content/roop/requirements.txt (line 16)) (24.3.25)\n",
            "Requirement already satisfied: packaging in /usr/local/lib/python3.10/dist-packages (from onnxruntime-gpu==1.15.1->-r /content/roop/requirements.txt (line 16)) (24.0)\n",
            "Requirement already satisfied: sympy in /usr/local/lib/python3.10/dist-packages (from onnxruntime-gpu==1.15.1->-r /content/roop/requirements.txt (line 16)) (1.12.1)\n",
            "Requirement already satisfied: absl-py>=1.0.0 in /usr/local/lib/python3.10/dist-packages (from tensorflow==2.13.0->-r /content/roop/requirements.txt (line 17)) (1.4.0)\n",
            "Requirement already satisfied: astunparse>=1.6.0 in /usr/local/lib/python3.10/dist-packages (from tensorflow==2.13.0->-r /content/roop/requirements.txt (line 17)) (1.6.3)\n",
            "Requirement already satisfied: gast<=0.4.0,>=0.2.1 in /usr/local/lib/python3.10/dist-packages (from tensorflow==2.13.0->-r /content/roop/requirements.txt (line 17)) (0.4.0)\n",
            "Requirement already satisfied: google-pasta>=0.1.1 in /usr/local/lib/python3.10/dist-packages (from tensorflow==2.13.0->-r /content/roop/requirements.txt (line 17)) (0.2.0)\n",
            "Requirement already satisfied: grpcio<2.0,>=1.24.3 in /usr/local/lib/python3.10/dist-packages (from tensorflow==2.13.0->-r /content/roop/requirements.txt (line 17)) (1.64.0)\n",
            "Requirement already satisfied: h5py>=2.9.0 in /usr/local/lib/python3.10/dist-packages (from tensorflow==2.13.0->-r /content/roop/requirements.txt (line 17)) (3.9.0)\n",
            "Requirement already satisfied: keras<2.14,>=2.13.1 in /usr/local/lib/python3.10/dist-packages (from tensorflow==2.13.0->-r /content/roop/requirements.txt (line 17)) (2.13.1)\n",
            "Requirement already satisfied: libclang>=13.0.0 in /usr/local/lib/python3.10/dist-packages (from tensorflow==2.13.0->-r /content/roop/requirements.txt (line 17)) (18.1.1)\n",
            "Requirement already satisfied: opt-einsum>=2.3.2 in /usr/local/lib/python3.10/dist-packages (from tensorflow==2.13.0->-r /content/roop/requirements.txt (line 17)) (3.3.0)\n",
            "Requirement already satisfied: setuptools in /usr/local/lib/python3.10/dist-packages (from tensorflow==2.13.0->-r /content/roop/requirements.txt (line 17)) (67.7.2)\n",
            "Requirement already satisfied: six>=1.12.0 in /usr/local/lib/python3.10/dist-packages (from tensorflow==2.13.0->-r /content/roop/requirements.txt (line 17)) (1.16.0)\n",
            "Requirement already satisfied: tensorboard<2.14,>=2.13 in /usr/local/lib/python3.10/dist-packages (from tensorflow==2.13.0->-r /content/roop/requirements.txt (line 17)) (2.13.0)\n",
            "Requirement already satisfied: tensorflow-estimator<2.14,>=2.13.0 in /usr/local/lib/python3.10/dist-packages (from tensorflow==2.13.0->-r /content/roop/requirements.txt (line 17)) (2.13.0)\n",
            "Requirement already satisfied: termcolor>=1.1.0 in /usr/local/lib/python3.10/dist-packages (from tensorflow==2.13.0->-r /content/roop/requirements.txt (line 17)) (2.4.0)\n",
            "Requirement already satisfied: wrapt>=1.11.0 in /usr/local/lib/python3.10/dist-packages (from tensorflow==2.13.0->-r /content/roop/requirements.txt (line 17)) (1.14.1)\n",
            "Requirement already satisfied: tensorflow-io-gcs-filesystem>=0.23.1 in /usr/local/lib/python3.10/dist-packages (from tensorflow==2.13.0->-r /content/roop/requirements.txt (line 17)) (0.37.0)\n",
            "Requirement already satisfied: gdown>=4.2.0 in /usr/local/lib/python3.10/dist-packages (from opennsfw2==0.10.2->-r /content/roop/requirements.txt (line 18)) (5.1.0)\n",
            "Requirement already satisfied: basicsr>=1.4.2 in /usr/local/lib/python3.10/dist-packages (from gfpgan==1.3.8->-r /content/roop/requirements.txt (line 21)) (1.4.2)\n",
            "Requirement already satisfied: facexlib>=0.2.5 in /usr/local/lib/python3.10/dist-packages (from gfpgan==1.3.8->-r /content/roop/requirements.txt (line 21)) (0.3.0)\n",
            "Requirement already satisfied: lmdb in /usr/local/lib/python3.10/dist-packages (from gfpgan==1.3.8->-r /content/roop/requirements.txt (line 21)) (1.4.1)\n",
            "Requirement already satisfied: pyyaml in /usr/local/lib/python3.10/dist-packages (from gfpgan==1.3.8->-r /content/roop/requirements.txt (line 21)) (6.0.1)\n",
            "Requirement already satisfied: tb-nightly in /usr/local/lib/python3.10/dist-packages (from gfpgan==1.3.8->-r /content/roop/requirements.txt (line 21)) (2.17.0a20240604)\n",
            "Requirement already satisfied: torch>=1.7 in /usr/local/lib/python3.10/dist-packages (from gfpgan==1.3.8->-r /content/roop/requirements.txt (line 21)) (2.1.2+cu118)\n",
            "Requirement already satisfied: torchvision in /usr/local/lib/python3.10/dist-packages (from gfpgan==1.3.8->-r /content/roop/requirements.txt (line 21)) (0.16.2+cu118)\n",
            "Requirement already satisfied: yapf in /usr/local/lib/python3.10/dist-packages (from gfpgan==1.3.8->-r /content/roop/requirements.txt (line 21)) (0.40.2)\n",
            "Requirement already satisfied: wheel<1.0,>=0.23.0 in /usr/local/lib/python3.10/dist-packages (from astunparse>=1.6.0->tensorflow==2.13.0->-r /content/roop/requirements.txt (line 17)) (0.43.0)\n",
            "Requirement already satisfied: addict in /usr/local/lib/python3.10/dist-packages (from basicsr>=1.4.2->gfpgan==1.3.8->-r /content/roop/requirements.txt (line 21)) (2.4.0)\n",
            "Requirement already satisfied: future in /usr/local/lib/python3.10/dist-packages (from basicsr>=1.4.2->gfpgan==1.3.8->-r /content/roop/requirements.txt (line 21)) (0.18.3)\n",
            "Requirement already satisfied: filterpy in /usr/local/lib/python3.10/dist-packages (from facexlib>=0.2.5->gfpgan==1.3.8->-r /content/roop/requirements.txt (line 21)) (1.4.5)\n",
            "Requirement already satisfied: numba in /usr/local/lib/python3.10/dist-packages (from facexlib>=0.2.5->gfpgan==1.3.8->-r /content/roop/requirements.txt (line 21)) (0.58.1)\n",
            "Requirement already satisfied: beautifulsoup4 in /usr/local/lib/python3.10/dist-packages (from gdown>=4.2.0->opennsfw2==0.10.2->-r /content/roop/requirements.txt (line 18)) (4.12.3)\n",
            "Requirement already satisfied: filelock in /usr/local/lib/python3.10/dist-packages (from gdown>=4.2.0->opennsfw2==0.10.2->-r /content/roop/requirements.txt (line 18)) (3.14.0)\n",
            "Requirement already satisfied: contourpy>=1.0.1 in /usr/local/lib/python3.10/dist-packages (from matplotlib->insightface==0.7.3->-r /content/roop/requirements.txt (line 6)) (1.2.1)\n",
            "Requirement already satisfied: cycler>=0.10 in /usr/local/lib/python3.10/dist-packages (from matplotlib->insightface==0.7.3->-r /content/roop/requirements.txt (line 6)) (0.12.1)\n",
            "Requirement already satisfied: fonttools>=4.22.0 in /usr/local/lib/python3.10/dist-packages (from matplotlib->insightface==0.7.3->-r /content/roop/requirements.txt (line 6)) (4.52.4)\n",
            "Requirement already satisfied: kiwisolver>=1.0.1 in /usr/local/lib/python3.10/dist-packages (from matplotlib->insightface==0.7.3->-r /content/roop/requirements.txt (line 6)) (1.4.5)\n",
            "Requirement already satisfied: pyparsing>=2.3.1 in /usr/local/lib/python3.10/dist-packages (from matplotlib->insightface==0.7.3->-r /content/roop/requirements.txt (line 6)) (3.1.2)\n",
            "Requirement already satisfied: python-dateutil>=2.7 in /usr/local/lib/python3.10/dist-packages (from matplotlib->insightface==0.7.3->-r /content/roop/requirements.txt (line 6)) (2.8.2)\n",
            "Requirement already satisfied: networkx>=2.2 in /usr/local/lib/python3.10/dist-packages (from scikit-image->insightface==0.7.3->-r /content/roop/requirements.txt (line 6)) (3.3)\n",
            "Requirement already satisfied: imageio>=2.4.1 in /usr/local/lib/python3.10/dist-packages (from scikit-image->insightface==0.7.3->-r /content/roop/requirements.txt (line 6)) (2.31.6)\n",
            "Requirement already satisfied: tifffile>=2019.7.26 in /usr/local/lib/python3.10/dist-packages (from scikit-image->insightface==0.7.3->-r /content/roop/requirements.txt (line 6)) (2024.5.22)\n",
            "Requirement already satisfied: PyWavelets>=1.1.1 in /usr/local/lib/python3.10/dist-packages (from scikit-image->insightface==0.7.3->-r /content/roop/requirements.txt (line 6)) (1.6.0)\n",
            "Requirement already satisfied: google-auth<3,>=1.6.3 in /usr/local/lib/python3.10/dist-packages (from tensorboard<2.14,>=2.13->tensorflow==2.13.0->-r /content/roop/requirements.txt (line 17)) (2.27.0)\n",
            "Requirement already satisfied: google-auth-oauthlib<1.1,>=0.5 in /usr/local/lib/python3.10/dist-packages (from tensorboard<2.14,>=2.13->tensorflow==2.13.0->-r /content/roop/requirements.txt (line 17)) (1.0.0)\n",
            "Requirement already satisfied: markdown>=2.6.8 in /usr/local/lib/python3.10/dist-packages (from tensorboard<2.14,>=2.13->tensorflow==2.13.0->-r /content/roop/requirements.txt (line 17)) (3.6)\n",
            "Requirement already satisfied: tensorboard-data-server<0.8.0,>=0.7.0 in /usr/local/lib/python3.10/dist-packages (from tensorboard<2.14,>=2.13->tensorflow==2.13.0->-r /content/roop/requirements.txt (line 17)) (0.7.2)\n",
            "Requirement already satisfied: werkzeug>=1.0.1 in /usr/local/lib/python3.10/dist-packages (from tensorboard<2.14,>=2.13->tensorflow==2.13.0->-r /content/roop/requirements.txt (line 17)) (3.0.3)\n",
            "Requirement already satisfied: charset-normalizer<4,>=2 in /usr/local/lib/python3.10/dist-packages (from requests->insightface==0.7.3->-r /content/roop/requirements.txt (line 6)) (3.3.2)\n",
            "Requirement already satisfied: idna<4,>=2.5 in /usr/local/lib/python3.10/dist-packages (from requests->insightface==0.7.3->-r /content/roop/requirements.txt (line 6)) (3.7)\n",
            "Requirement already satisfied: urllib3<3,>=1.21.1 in /usr/local/lib/python3.10/dist-packages (from requests->insightface==0.7.3->-r /content/roop/requirements.txt (line 6)) (2.0.7)\n",
            "Requirement already satisfied: certifi>=2017.4.17 in /usr/local/lib/python3.10/dist-packages (from requests->insightface==0.7.3->-r /content/roop/requirements.txt (line 6)) (2024.2.2)\n",
            "Requirement already satisfied: jinja2 in /usr/local/lib/python3.10/dist-packages (from torch>=1.7->gfpgan==1.3.8->-r /content/roop/requirements.txt (line 21)) (3.1.4)\n",
            "Requirement already satisfied: fsspec in /usr/local/lib/python3.10/dist-packages (from torch>=1.7->gfpgan==1.3.8->-r /content/roop/requirements.txt (line 21)) (2023.6.0)\n",
            "Requirement already satisfied: triton==2.1.0 in /usr/local/lib/python3.10/dist-packages (from torch>=1.7->gfpgan==1.3.8->-r /content/roop/requirements.txt (line 21)) (2.1.0)\n",
            "Requirement already satisfied: qudida>=0.0.4 in /usr/local/lib/python3.10/dist-packages (from albumentations->insightface==0.7.3->-r /content/roop/requirements.txt (line 6)) (0.0.4)\n",
            "Requirement already satisfied: opencv-python-headless>=4.1.1 in /usr/local/lib/python3.10/dist-packages (from albumentations->insightface==0.7.3->-r /content/roop/requirements.txt (line 6)) (4.9.0.80)\n",
            "Requirement already satisfied: humanfriendly>=9.1 in /usr/local/lib/python3.10/dist-packages (from coloredlogs->onnxruntime-gpu==1.15.1->-r /content/roop/requirements.txt (line 16)) (10.0)\n",
            "Requirement already satisfied: wcwidth in /usr/local/lib/python3.10/dist-packages (from prettytable->insightface==0.7.3->-r /content/roop/requirements.txt (line 6)) (0.2.13)\n",
            "Requirement already satisfied: joblib>=1.1.1 in /usr/local/lib/python3.10/dist-packages (from scikit-learn->insightface==0.7.3->-r /content/roop/requirements.txt (line 6)) (1.4.2)\n",
            "Requirement already satisfied: threadpoolctl>=2.0.0 in /usr/local/lib/python3.10/dist-packages (from scikit-learn->insightface==0.7.3->-r /content/roop/requirements.txt (line 6)) (3.5.0)\n",
            "Requirement already satisfied: mpmath<1.4.0,>=1.1.0 in /usr/local/lib/python3.10/dist-packages (from sympy->onnxruntime-gpu==1.15.1->-r /content/roop/requirements.txt (line 16)) (1.3.0)\n",
            "Requirement already satisfied: importlib-metadata>=6.6.0 in /usr/local/lib/python3.10/dist-packages (from yapf->gfpgan==1.3.8->-r /content/roop/requirements.txt (line 21)) (7.1.0)\n",
            "Requirement already satisfied: platformdirs>=3.5.1 in /usr/local/lib/python3.10/dist-packages (from yapf->gfpgan==1.3.8->-r /content/roop/requirements.txt (line 21)) (4.2.2)\n",
            "Requirement already satisfied: tomli>=2.0.1 in /usr/local/lib/python3.10/dist-packages (from yapf->gfpgan==1.3.8->-r /content/roop/requirements.txt (line 21)) (2.0.1)\n",
            "Requirement already satisfied: cachetools<6.0,>=2.0.0 in /usr/local/lib/python3.10/dist-packages (from google-auth<3,>=1.6.3->tensorboard<2.14,>=2.13->tensorflow==2.13.0->-r /content/roop/requirements.txt (line 17)) (5.3.3)\n",
            "Requirement already satisfied: pyasn1-modules>=0.2.1 in /usr/local/lib/python3.10/dist-packages (from google-auth<3,>=1.6.3->tensorboard<2.14,>=2.13->tensorflow==2.13.0->-r /content/roop/requirements.txt (line 17)) (0.4.0)\n",
            "Requirement already satisfied: rsa<5,>=3.1.4 in /usr/local/lib/python3.10/dist-packages (from google-auth<3,>=1.6.3->tensorboard<2.14,>=2.13->tensorflow==2.13.0->-r /content/roop/requirements.txt (line 17)) (4.9)\n",
            "Requirement already satisfied: requests-oauthlib>=0.7.0 in /usr/local/lib/python3.10/dist-packages (from google-auth-oauthlib<1.1,>=0.5->tensorboard<2.14,>=2.13->tensorflow==2.13.0->-r /content/roop/requirements.txt (line 17)) (1.3.1)\n",
            "Requirement already satisfied: zipp>=0.5 in /usr/local/lib/python3.10/dist-packages (from importlib-metadata>=6.6.0->yapf->gfpgan==1.3.8->-r /content/roop/requirements.txt (line 21)) (3.19.0)\n",
            "Requirement already satisfied: MarkupSafe>=2.1.1 in /usr/local/lib/python3.10/dist-packages (from werkzeug>=1.0.1->tensorboard<2.14,>=2.13->tensorflow==2.13.0->-r /content/roop/requirements.txt (line 17)) (2.1.5)\n",
            "Requirement already satisfied: soupsieve>1.2 in /usr/local/lib/python3.10/dist-packages (from beautifulsoup4->gdown>=4.2.0->opennsfw2==0.10.2->-r /content/roop/requirements.txt (line 18)) (2.5)\n",
            "Requirement already satisfied: llvmlite<0.42,>=0.41.0dev0 in /usr/local/lib/python3.10/dist-packages (from numba->facexlib>=0.2.5->gfpgan==1.3.8->-r /content/roop/requirements.txt (line 21)) (0.41.1)\n",
            "Requirement already satisfied: PySocks!=1.5.7,>=1.5.6 in /usr/local/lib/python3.10/dist-packages (from requests->insightface==0.7.3->-r /content/roop/requirements.txt (line 6)) (1.7.1)\n",
            "Requirement already satisfied: pyasn1<0.7.0,>=0.4.6 in /usr/local/lib/python3.10/dist-packages (from pyasn1-modules>=0.2.1->google-auth<3,>=1.6.3->tensorboard<2.14,>=2.13->tensorflow==2.13.0->-r /content/roop/requirements.txt (line 17)) (0.6.0)\n",
            "Requirement already satisfied: oauthlib>=3.0.0 in /usr/local/lib/python3.10/dist-packages (from requests-oauthlib>=0.7.0->google-auth-oauthlib<1.1,>=0.5->tensorboard<2.14,>=2.13->tensorflow==2.13.0->-r /content/roop/requirements.txt (line 17)) (3.2.2)\n"
          ]
        }
      ]
    },
    {
      "cell_type": "code",
      "source": [
        "from google.colab import drive\n",
        "drive.mount('/content/drive')"
      ],
      "metadata": {
        "id": "Sewb1tHMjkf5",
        "outputId": "8b4d9eb3-3f0a-40fc-8849-ccda3bf4bab3",
        "colab": {
          "base_uri": "https://localhost:8080/"
        }
      },
      "execution_count": 1,
      "outputs": [
        {
          "output_type": "stream",
          "name": "stdout",
          "text": [
            "Mounted at /content/drive\n"
          ]
        }
      ]
    },
    {
      "cell_type": "markdown",
      "source": [
        "# **Basic logic code but working code API script**"
      ],
      "metadata": {
        "id": "QkMCMFKtw0SA"
      }
    },
    {
      "cell_type": "code",
      "source": [
        "from flask import Flask, request, jsonify\n",
        "import os\n",
        "import shutil\n",
        "import logging\n",
        "from pyngrok import ngrok\n",
        "import subprocess\n",
        "\n",
        "app = Flask(__name__)\n",
        "\n",
        "logging.basicConfig(level=logging.INFO)\n",
        "\n",
        "\n",
        "TEMPLATES_FOLDER_PATH = \"/content/drive/MyDrive/template/captain/Female\"\n",
        "\n",
        "def face_swap(source_image_folder, output_base_folder):\n",
        "    try:\n",
        "\n",
        "        output_folder = os.path.join(output_base_folder, \"(Outputs)\")\n",
        "        os.makedirs(output_folder, exist_ok=True)\n",
        "        logging.info(f\"Output folder created at: {output_folder}\")\n",
        "\n",
        "\n",
        "        source_images = os.listdir(source_image_folder)\n",
        "        if not source_images:\n",
        "            logging.error(\"No source images found.\")\n",
        "            return\n",
        "        logging.info(f\"Found {len(source_images)} source images.\")\n",
        "\n",
        "\n",
        "        template_images = os.listdir(TEMPLATES_FOLDER_PATH)\n",
        "        if not template_images:\n",
        "            logging.error(\"No template images found.\")\n",
        "            return\n",
        "        logging.info(f\"Found {len(template_images)} template images.\")\n",
        "\n",
        "\n",
        "        for source_image_name in source_images:\n",
        "            source_image_path = os.path.join(source_image_folder, source_image_name)\n",
        "\n",
        "\n",
        "            if os.path.isfile(source_image_path):\n",
        "                logging.info(f\"Processing source image: {source_image_name}\")\n",
        "\n",
        "                processed_image_paths = set()\n",
        "\n",
        "                for target_image_name in template_images:\n",
        "                    target_image_path = os.path.join(TEMPLATES_FOLDER_PATH, target_image_name)\n",
        "\n",
        "\n",
        "                    if os.path.isfile(target_image_path):\n",
        "                        logging.info(f\"Processing target image: {target_image_name}\")\n",
        "\n",
        "                        output_image_path = os.path.join(output_folder, f\"{source_image_name}_{target_image_name}\")\n",
        "                        if output_image_path in processed_image_paths:\n",
        "                            logging.info(f\"Skipping already processed image: {output_image_path}\")\n",
        "                            continue\n",
        "\n",
        "\n",
        "                        command = (\n",
        "                            f'python run.py -s \"{source_image_path}\" -t \"{target_image_path}\" '\n",
        "                            f'-o \"{output_image_path}\" --keep-fps --execution-threads 14 --many-faces '\n",
        "                            f'--execution-provider cuda --frame-processor face_swapper face_enhancer '\n",
        "                            f'--output-video-quality 35 --temp-frame-format jpg --max-memory 46'\n",
        "                        )\n",
        "                        logging.info(f\"Running command: {command}\")\n",
        "\n",
        "                        process = subprocess.Popen(command, shell=True, stdout=subprocess.PIPE, stderr=subprocess.PIPE)\n",
        "                        stdout, stderr = process.communicate()\n",
        "                        if process.returncode != 0:\n",
        "                            logging.error(f\"Failed to process target image: {target_image_name}\")\n",
        "                            logging.error(f\"Command output: {stderr.decode('utf-8')}\")\n",
        "                        else:\n",
        "                            logging.info(f\"Successfully processed target image: {target_image_name}\")\n",
        "                            logging.info(f\"Command output: {stdout.decode('utf-8')}\")\n",
        "                            processed_image_paths.add(output_image_path)\n",
        "\n",
        "\n",
        "                        if len(processed_image_paths) >= len(template_images):\n",
        "                            break\n",
        "\n",
        "    except Exception as e:\n",
        "        logging.exception(f\"An error occurred: {e}\")\n",
        "\n",
        "@app.route('/faceswap', methods=['POST'])\n",
        "def faceswap_api():\n",
        "    try:\n",
        "\n",
        "        source_image_folder = \"/content/source_images\"\n",
        "        os.makedirs(source_image_folder, exist_ok=True)\n",
        "\n",
        "\n",
        "        source_images = request.files.getlist('source_images')\n",
        "        if not source_images:\n",
        "            logging.error(\"No images uploaded.\")\n",
        "            return jsonify({\"error\": \"No images uploaded\"}), 400\n",
        "\n",
        "        for source_image in source_images:\n",
        "            source_image.save(os.path.join(source_image_folder, source_image.filename))\n",
        "            logging.info(f\"Uploaded image: {source_image.filename}\")\n",
        "\n",
        "        output_base_folder = \"/content\"\n",
        "\n",
        "        face_swap(source_image_folder, output_base_folder)\n",
        "\n",
        "\n",
        "        shutil.rmtree(source_image_folder)\n",
        "\n",
        "        return jsonify({\"message\": \"Face swap process initiated.\"}), 200\n",
        "\n",
        "    except Exception as e:\n",
        "        logging.exception(f\"An error occurred: {e}\")\n",
        "        return jsonify({\"error\": \"An error occurred\"}), 500\n",
        "\n",
        "if __name__ == '__main__':\n",
        "\n",
        "    url = ngrok.connect(5000)\n",
        "    print(f\" * Ngrok tunnel URL: {url}\")\n",
        "\n",
        "    app.run(port=5000)\n"
      ],
      "metadata": {
        "id": "JArzYeREuyXU",
        "outputId": "7489d691-61e6-4c5d-c6cf-5a1d9f4f8ada",
        "colab": {
          "base_uri": "https://localhost:8080/"
        }
      },
      "execution_count": null,
      "outputs": [
        {
          "output_type": "stream",
          "name": "stdout",
          "text": [
            " * Ngrok tunnel URL: NgrokTunnel: \"https://e12b-35-240-203-31.ngrok-free.app\" -> \"http://localhost:5000\"\n",
            " * Serving Flask app '__main__'\n",
            " * Debug mode: off\n"
          ]
        },
        {
          "output_type": "stream",
          "name": "stderr",
          "text": [
            "INFO:werkzeug:\u001b[31m\u001b[1mWARNING: This is a development server. Do not use it in a production deployment. Use a production WSGI server instead.\u001b[0m\n",
            " * Running on http://127.0.0.1:5000\n",
            "INFO:werkzeug:\u001b[33mPress CTRL+C to quit\u001b[0m\n",
            "ERROR:root:Failed to process target image: Navy Cap (3).png\n",
            "Downloading: 529MB [00:02, 190MB/s]                           \n",
            "Downloading: 332MB [00:04, 70.0MB/s]                          \n",
            "100%|██████████| 281857/281857 [00:03<00:00, 80275.17KB/s]\n",
            "Downloading...\n",
            "From: https://github.com/bhky/opennsfw2/releases/download/v0.1.0/open_nsfw_weights.h5\n",
            "To: /root/.opennsfw2/weights/open_nsfw_weights.h5\n",
            "100%|██████████| 24.2M/24.2M [00:00<00:00, 220MB/s]\n",
            "100%|██████████| 104M/104M [00:00<00:00, 312MB/s]\n",
            "100%|██████████| 81.4M/81.4M [00:00<00:00, 267MB/s]\n",
            "Segmentation fault (core dumped)\n",
            "\n",
            "ERROR:root:Failed to process target image: Navy Cap (1).png\n",
            "ERROR:root:Command output: Segmentation fault (core dumped)\n",
            "\n",
            "ERROR:root:Failed to process target image: Navy Cap (26).png\n",
            "ERROR:root:Command output: Segmentation fault (core dumped)\n",
            "\n",
            "ERROR:root:Failed to process target image: Navy Cap (19).png\n",
            "ERROR:root:Command output: Segmentation fault (core dumped)\n",
            "\n",
            "ERROR:root:Failed to process target image: Navy Cap (17).png\n",
            "ERROR:root:Command output: Segmentation fault (core dumped)\n",
            "\n",
            "ERROR:root:Failed to process target image: Navy Cap (27).png\n",
            "ERROR:root:Command output: Segmentation fault (core dumped)\n",
            "\n",
            "ERROR:root:Failed to process target image: Navy Cap (21).png\n",
            "ERROR:root:Command output: Segmentation fault (core dumped)\n",
            "\n",
            "ERROR:root:Failed to process target image: Navy Cap (23).png\n",
            "ERROR:root:Command output: Segmentation fault (core dumped)\n",
            "\n",
            "ERROR:root:Failed to process target image: Navy Cap (14).png\n",
            "ERROR:root:Command output: Segmentation fault (core dumped)\n",
            "\n",
            "ERROR:root:Failed to process target image: Navy Cap (24).png\n",
            "ERROR:root:Command output: Segmentation fault (core dumped)\n",
            "\n",
            "ERROR:root:Failed to process target image: Navy Cap (20).png\n",
            "ERROR:root:Command output: Segmentation fault (core dumped)\n",
            "\n",
            "ERROR:root:Failed to process target image: Navy Cap (22).png\n",
            "ERROR:root:Command output: Segmentation fault (core dumped)\n",
            "\n",
            "ERROR:root:Failed to process target image: Navy Cap (18).png\n",
            "ERROR:root:Command output: Segmentation fault (core dumped)\n",
            "\n",
            "ERROR:root:Failed to process target image: Navy Cap (25).png\n",
            "ERROR:root:Command output: Segmentation fault (core dumped)\n",
            "\n",
            "ERROR:root:Failed to process target image: Navy Cap (3).png\n",
            "ERROR:root:Command output: Segmentation fault (core dumped)\n",
            "\n",
            "ERROR:root:Failed to process target image: Navy Cap (1).png\n",
            "ERROR:root:Command output: Segmentation fault (core dumped)\n",
            "\n",
            "ERROR:root:Failed to process target image: Navy Cap (26).png\n",
            "ERROR:root:Command output: Segmentation fault (core dumped)\n",
            "\n",
            "ERROR:root:Failed to process target image: Navy Cap (19).png\n",
            "ERROR:root:Command output: Segmentation fault (core dumped)\n",
            "\n",
            "ERROR:root:Failed to process target image: Navy Cap (17).png\n",
            "ERROR:root:Command output: Segmentation fault (core dumped)\n",
            "\n",
            "ERROR:root:Failed to process target image: Navy Cap (27).png\n",
            "ERROR:root:Command output: Segmentation fault (core dumped)\n",
            "\n",
            "ERROR:root:Failed to process target image: Navy Cap (21).png\n",
            "ERROR:root:Command output: Segmentation fault (core dumped)\n",
            "\n",
            "ERROR:root:Failed to process target image: Navy Cap (23).png\n",
            "ERROR:root:Command output: Segmentation fault (core dumped)\n",
            "\n",
            "ERROR:root:Failed to process target image: Navy Cap (14).png\n",
            "ERROR:root:Command output: Segmentation fault (core dumped)\n",
            "\n",
            "ERROR:root:Failed to process target image: Navy Cap (24).png\n",
            "ERROR:root:Command output: Segmentation fault (core dumped)\n",
            "\n",
            "ERROR:root:Failed to process target image: Navy Cap (20).png\n",
            "ERROR:root:Command output: Segmentation fault (core dumped)\n",
            "\n",
            "ERROR:root:Failed to process target image: Navy Cap (22).png\n",
            "ERROR:root:Command output: Segmentation fault (core dumped)\n",
            "\n",
            "ERROR:root:Failed to process target image: Navy Cap (18).png\n",
            "ERROR:root:Command output: Segmentation fault (core dumped)\n",
            "\n",
            "ERROR:root:Failed to process target image: Navy Cap (25).png\n",
            "ERROR:root:Command output: Segmentation fault (core dumped)\n",
            "\n",
            "INFO:werkzeug:127.0.0.1 - - [23/May/2024 11:14:21] \"POST /faceswap HTTP/1.1\" 200 -\n"
          ]
        }
      ]
    },
    {
      "cell_type": "markdown",
      "source": [
        "# **New JSON file for sample templates**"
      ],
      "metadata": {
        "id": "sHqa2MtoH5Dn"
      }
    },
    {
      "cell_type": "code",
      "source": [
        "{\n",
        "  \"categories\": {\n",
        "    \"Mall\": {\n",
        "      \"Male\": [\n",
        "        {\n",
        "          \"id\": \"1\",\n",
        "          \"url\": \"https://drive.google.com/drive/folders/13BBrnYNBRBlybsemOi9WYTnm3zIEWLR2\"\n",
        "        },\n",
        "        {\n",
        "          \"id\": \"2\",\n",
        "          \"url\": \"https://drive.google.com/drive/folders/13BBrnYNBRBlybsemOi9WYTnm3zIEWLR2\"\n",
        "        },\n",
        "        {\n",
        "          \"id\": \"3\",\n",
        "          \"url\": \"https://drive.google.com/drive/folders/13BBrnYNBRBlybsemOi9WYTnm3zIEWLR2\"\n",
        "        },\n",
        "        {\n",
        "          \"id\": \"4\",\n",
        "          \"url\": \"https://drive.google.com/drive/folders/13BBrnYNBRBlybsemOi9WYTnm3zIEWLR2\"\n",
        "        },\n",
        "        {\n",
        "          \"id\": \"5\",\n",
        "          \"url\": \"https://drive.google.com/drive/folders/13BBrnYNBRBlybsemOi9WYTnm3zIEWLR2\"\n",
        "        },\n",
        "        {\n",
        "          \"id\": \"6\",\n",
        "          \"url\": \"https://drive.google.com/drive/folders/13BBrnYNBRBlybsemOi9WYTnm3zIEWLR2\"\n",
        "        },\n",
        "        {\n",
        "          \"id\": \"7\",\n",
        "          \"url\": \"https://drive.google.com/drive/folders/13BBrnYNBRBlybsemOi9WYTnm3zIEWLR2\"\n",
        "        }\n",
        "      ],\n",
        "      \"Female\": [\n",
        "        {\n",
        "          \"id\": \"8\",\n",
        "          \"url\": \"https://drive.google.com/drive/folders/11Lg4gyOPV0om7isdbbnmvs9i5K_uTtGP\"\n",
        "        },\n",
        "        {\n",
        "          \"id\": \"9\",\n",
        "          \"url\": \"https://drive.google.com/drive/folders/11Lg4gyOPV0om7isdbbnmvs9i5K_uTtGP\"\n",
        "        },\n",
        "        {\n",
        "          \"id\": \"10\",\n",
        "          \"url\": \"https://drive.google.com/drive/folders/11Lg4gyOPV0om7isdbbnmvs9i5K_uTtGP\"\n",
        "        },\n",
        "        {\n",
        "          \"id\": \"11\",\n",
        "          \"url\": \"https://drive.google.com/drive/folders/11Lg4gyOPV0om7isdbbnmvs9i5K_uTtGP\"\n",
        "        },\n",
        "        {\n",
        "          \"id\": \"12\",\n",
        "          \"url\": \"https://drive.google.com/drive/folders/11Lg4gyOPV0om7isdbbnmvs9i5K_uTtGP\"\n",
        "        },\n",
        "        {\n",
        "          \"id\": \"13\",\n",
        "          \"url\": \"https://drive.google.com/drive/folders/11Lg4gyOPV0om7isdbbnmvs9i5K_uTtGP\"\n",
        "        },\n",
        "        {\n",
        "          \"id\": \"14\",\n",
        "          \"url\": \"https://drive.google.com/drive/folders/11Lg4gyOPV0om7isdbbnmvs9i5K_uTtGP\"\n",
        "        },\n",
        "        {\n",
        "          \"id\": \"15\",\n",
        "          \"url\": \"https://drive.google.com/drive/folders/11Lg4gyOPV0om7isdbbnmvs9i5K_uTtGP\"\n",
        "        },\n",
        "        {\n",
        "          \"id\": \"16\",\n",
        "          \"url\": \"https://drive.google.com/drive/folders/11Lg4gyOPV0om7isdbbnmvs9i5K_uTtGP\"\n",
        "        },\n",
        "        {\n",
        "          \"id\": \"17\",\n",
        "          \"url\": \"https://drive.google.com/drive/folders/11Lg4gyOPV0om7isdbbnmvs9i5K_uTtGP\"\n",
        "        },\n",
        "        {\n",
        "          \"id\": \"18\",\n",
        "          \"url\": \"https://drive.google.com/drive/folders/11Lg4gyOPV0om7isdbbnmvs9i5K_uTtGP\"\n",
        "        },\n",
        "        {\n",
        "          \"id\": \"19\",\n",
        "          \"url\": \"https://drive.google.com/drive/folders/11Lg4gyOPV0om7isdbbnmvs9i5K_uTtGP\"\n",
        "        },\n",
        "        {\n",
        "          \"id\": \"20\",\n",
        "          \"url\": \"https://drive.google.com/drive/folders/11Lg4gyOPV0om7isdbbnmvs9i5K_uTtGP\"\n",
        "        }\n",
        "      ]\n",
        "    },\n",
        "    \"Nayagara\": {\n",
        "      \"Male\": [\n",
        "        {\n",
        "          \"id\": \"21\",\n",
        "          \"url\": \"https://drive.google.com/drive/folders/1-TYdIsNt_Hu-1cvIuk07QEBwM3JNr8H-\"\n",
        "        },\n",
        "        {\n",
        "          \"id\": \"22\",\n",
        "          \"url\": \"https://drive.google.com/drive/folders/1-TYdIsNt_Hu-1cvIuk07QEBwM3JNr8H-\"\n",
        "        },\n",
        "        {\n",
        "          \"id\": \"23\",\n",
        "          \"url\": \"https://drive.google.com/drive/folders/1-TYdIsNt_Hu-1cvIuk07QEBwM3JNr8H-\"\n",
        "        },\n",
        "        {\n",
        "          \"id\": \"24\",\n",
        "          \"url\": \"https://drive.google.com/drive/folders/1-TYdIsNt_Hu-1cvIuk07QEBwM3JNr8H-\"\n",
        "        },\n",
        "        {\n",
        "          \"id\": \"25\",\n",
        "          \"url\": \"https://drive.google.com/drive/folders/1-TYdIsNt_Hu-1cvIuk07QEBwM3JNr8H-\"\n",
        "        },\n",
        "        {\n",
        "          \"id\": \"26\",\n",
        "          \"url\": \"https://drive.google.com/drive/folders/1-TYdIsNt_Hu-1cvIuk07QEBwM3JNr8H-\"\n",
        "        },\n",
        "        {\n",
        "          \"id\": \"27\",\n",
        "          \"url\": \"https://drive.google.com/drive/folders/1-TYdIsNt_Hu-1cvIuk07QEBwM3JNr8H-\"\n",
        "        },\n",
        "        {\n",
        "          \"id\": \"28\",\n",
        "          \"url\": \"https://drive.google.com/drive/folders/1-TYdIsNt_Hu-1cvIuk07QEBwM3JNr8H-\"\n",
        "        }\n",
        "      ],\n",
        "      \"Female\": [\n",
        "        {\n",
        "          \"id\": \"29\",\n",
        "          \"url\": \"https://drive.google.com/drive/folders/1-bdRq16dLMxSOmqdlpXLvyGp6oZ7hBMX\"\n",
        "        },\n",
        "        {\n",
        "          \"id\": \"30\",\n",
        "          \"url\": \"https://drive.google.com/drive/folders/1-bdRq16dLMxSOmqdlpXLvyGp6oZ7hBMX\"\n",
        "        },\n",
        "        {\n",
        "          \"id\": \"31\",\n",
        "          \"url\": \"https://drive.google.com/drive/folders/1-bdRq16dLMxSOmqdlpXLvyGp6oZ7hBMX\"\n",
        "        },\n",
        "        {\n",
        "          \"id\": \"32\",\n",
        "          \"url\": \"https://drive.google.com/drive/folders/1-bdRq16dLMxSOmqdlpXLvyGp6oZ7hBMX\"\n",
        "        },\n",
        "        {\n",
        "          \"id\": \"33\",\n",
        "          \"url\": \"https://drive.google.com/drive/folders/1-bdRq16dLMxSOmqdlpXLvyGp6oZ7hBMX\"\n",
        "        },\n",
        "        {\n",
        "          \"id\": \"34\",\n",
        "          \"url\": \"https://drive.google.com/drive/folders/1-bdRq16dLMxSOmqdlpXLvyGp6oZ7hBMX\"\n",
        "        },\n",
        "        {\n",
        "          \"id\": \"35\",\n",
        "          \"url\": \"https://drive.google.com/drive/folders/1-bdRq16dLMxSOmqdlpXLvyGp6oZ7hBMX\"\n",
        "        },\n",
        "        {\n",
        "          \"id\": \"36\",\n",
        "          \"url\": \"https://drive.google.com/drive/folders/1-bdRq16dLMxSOmqdlpXLvyGp6oZ7hBMX\"\n",
        "        },\n",
        "        {\n",
        "          \"id\": \"37\",\n",
        "          \"url\": \"https://drive.google.com/drive/folders/1-bdRq16dLMxSOmqdlpXLvyGp6oZ7hBMX\"\n",
        "        },\n",
        "        {\n",
        "          \"id\": \"38\",\n",
        "          \"url\": \"https://drive.google.com/drive/folders/1-bdRq16dLMxSOmqdlpXLvyGp6oZ7hBMX\"\n",
        "        }\n",
        "      ]\n",
        "    }\n",
        "  }\n",
        "}\n"
      ],
      "metadata": {
        "id": "RWAwhaJNH4eA",
        "outputId": "71f7c401-1317-4018-ba18-7b28ddf16486",
        "colab": {
          "base_uri": "https://localhost:8080/"
        }
      },
      "execution_count": null,
      "outputs": [
        {
          "output_type": "execute_result",
          "data": {
            "text/plain": [
              "{'categories': {'Mall': {'Male': [{'id': '1',\n",
              "     'url': 'https://drive.google.com/drive/folders/13BBrnYNBRBlybsemOi9WYTnm3zIEWLR2'},\n",
              "    {'id': '2',\n",
              "     'url': 'https://drive.google.com/drive/folders/13BBrnYNBRBlybsemOi9WYTnm3zIEWLR2'},\n",
              "    {'id': '3',\n",
              "     'url': 'https://drive.google.com/drive/folders/13BBrnYNBRBlybsemOi9WYTnm3zIEWLR2'},\n",
              "    {'id': '4',\n",
              "     'url': 'https://drive.google.com/drive/folders/13BBrnYNBRBlybsemOi9WYTnm3zIEWLR2'},\n",
              "    {'id': '5',\n",
              "     'url': 'https://drive.google.com/drive/folders/13BBrnYNBRBlybsemOi9WYTnm3zIEWLR2'},\n",
              "    {'id': '6',\n",
              "     'url': 'https://drive.google.com/drive/folders/13BBrnYNBRBlybsemOi9WYTnm3zIEWLR2'},\n",
              "    {'id': '7',\n",
              "     'url': 'https://drive.google.com/drive/folders/13BBrnYNBRBlybsemOi9WYTnm3zIEWLR2'}],\n",
              "   'Female': [{'id': '8',\n",
              "     'url': 'https://drive.google.com/drive/folders/11Lg4gyOPV0om7isdbbnmvs9i5K_uTtGP'},\n",
              "    {'id': '9',\n",
              "     'url': 'https://drive.google.com/drive/folders/11Lg4gyOPV0om7isdbbnmvs9i5K_uTtGP'},\n",
              "    {'id': '10',\n",
              "     'url': 'https://drive.google.com/drive/folders/11Lg4gyOPV0om7isdbbnmvs9i5K_uTtGP'},\n",
              "    {'id': '11',\n",
              "     'url': 'https://drive.google.com/drive/folders/11Lg4gyOPV0om7isdbbnmvs9i5K_uTtGP'},\n",
              "    {'id': '12',\n",
              "     'url': 'https://drive.google.com/drive/folders/11Lg4gyOPV0om7isdbbnmvs9i5K_uTtGP'},\n",
              "    {'id': '13',\n",
              "     'url': 'https://drive.google.com/drive/folders/11Lg4gyOPV0om7isdbbnmvs9i5K_uTtGP'},\n",
              "    {'id': '14',\n",
              "     'url': 'https://drive.google.com/drive/folders/11Lg4gyOPV0om7isdbbnmvs9i5K_uTtGP'},\n",
              "    {'id': '15',\n",
              "     'url': 'https://drive.google.com/drive/folders/11Lg4gyOPV0om7isdbbnmvs9i5K_uTtGP'},\n",
              "    {'id': '16',\n",
              "     'url': 'https://drive.google.com/drive/folders/11Lg4gyOPV0om7isdbbnmvs9i5K_uTtGP'},\n",
              "    {'id': '17',\n",
              "     'url': 'https://drive.google.com/drive/folders/11Lg4gyOPV0om7isdbbnmvs9i5K_uTtGP'},\n",
              "    {'id': '18',\n",
              "     'url': 'https://drive.google.com/drive/folders/11Lg4gyOPV0om7isdbbnmvs9i5K_uTtGP'},\n",
              "    {'id': '19',\n",
              "     'url': 'https://drive.google.com/drive/folders/11Lg4gyOPV0om7isdbbnmvs9i5K_uTtGP'},\n",
              "    {'id': '20',\n",
              "     'url': 'https://drive.google.com/drive/folders/11Lg4gyOPV0om7isdbbnmvs9i5K_uTtGP'}]},\n",
              "  'Nayagara': {'Male': [{'id': '21',\n",
              "     'url': 'https://drive.google.com/drive/folders/1-TYdIsNt_Hu-1cvIuk07QEBwM3JNr8H-'},\n",
              "    {'id': '22',\n",
              "     'url': 'https://drive.google.com/drive/folders/1-TYdIsNt_Hu-1cvIuk07QEBwM3JNr8H-'},\n",
              "    {'id': '23',\n",
              "     'url': 'https://drive.google.com/drive/folders/1-TYdIsNt_Hu-1cvIuk07QEBwM3JNr8H-'},\n",
              "    {'id': '24',\n",
              "     'url': 'https://drive.google.com/drive/folders/1-TYdIsNt_Hu-1cvIuk07QEBwM3JNr8H-'},\n",
              "    {'id': '25',\n",
              "     'url': 'https://drive.google.com/drive/folders/1-TYdIsNt_Hu-1cvIuk07QEBwM3JNr8H-'},\n",
              "    {'id': '26',\n",
              "     'url': 'https://drive.google.com/drive/folders/1-TYdIsNt_Hu-1cvIuk07QEBwM3JNr8H-'},\n",
              "    {'id': '27',\n",
              "     'url': 'https://drive.google.com/drive/folders/1-TYdIsNt_Hu-1cvIuk07QEBwM3JNr8H-'},\n",
              "    {'id': '28',\n",
              "     'url': 'https://drive.google.com/drive/folders/1-TYdIsNt_Hu-1cvIuk07QEBwM3JNr8H-'}],\n",
              "   'Female': [{'id': '29',\n",
              "     'url': 'https://drive.google.com/drive/folders/1-bdRq16dLMxSOmqdlpXLvyGp6oZ7hBMX'},\n",
              "    {'id': '30',\n",
              "     'url': 'https://drive.google.com/drive/folders/1-bdRq16dLMxSOmqdlpXLvyGp6oZ7hBMX'},\n",
              "    {'id': '31',\n",
              "     'url': 'https://drive.google.com/drive/folders/1-bdRq16dLMxSOmqdlpXLvyGp6oZ7hBMX'},\n",
              "    {'id': '32',\n",
              "     'url': 'https://drive.google.com/drive/folders/1-bdRq16dLMxSOmqdlpXLvyGp6oZ7hBMX'},\n",
              "    {'id': '33',\n",
              "     'url': 'https://drive.google.com/drive/folders/1-bdRq16dLMxSOmqdlpXLvyGp6oZ7hBMX'},\n",
              "    {'id': '34',\n",
              "     'url': 'https://drive.google.com/drive/folders/1-bdRq16dLMxSOmqdlpXLvyGp6oZ7hBMX'},\n",
              "    {'id': '35',\n",
              "     'url': 'https://drive.google.com/drive/folders/1-bdRq16dLMxSOmqdlpXLvyGp6oZ7hBMX'},\n",
              "    {'id': '36',\n",
              "     'url': 'https://drive.google.com/drive/folders/1-bdRq16dLMxSOmqdlpXLvyGp6oZ7hBMX'},\n",
              "    {'id': '37',\n",
              "     'url': 'https://drive.google.com/drive/folders/1-bdRq16dLMxSOmqdlpXLvyGp6oZ7hBMX'},\n",
              "    {'id': '38',\n",
              "     'url': 'https://drive.google.com/drive/folders/1-bdRq16dLMxSOmqdlpXLvyGp6oZ7hBMX'}]}}}"
            ]
          },
          "metadata": {},
          "execution_count": 7
        }
      ]
    },
    {
      "cell_type": "markdown",
      "source": [
        "# **Creating the json file for template API**"
      ],
      "metadata": {
        "id": "9YPVugoYL3fK"
      }
    },
    {
      "cell_type": "code",
      "source": [
        "{\n",
        "  \"categories\": {\n",
        "    \"category1\": [\n",
        "      \"https://drive.google.com/uc?id=1-T922LMrBkHBQL9OuM8ZMWcW91k19oot\",\n",
        "      \"https://drive.google.com/uc?id=1-NTz8uGFjXHOfweygfbZI3UaZ7sBGvtt\",\n",
        "      \"https://drive.google.com/uc?id=1-EVrOQOBrrH4cIndzFjGQr58gyPBe1Sh\",\n",
        "      \"https://drive.google.com/uc?id=1-Ch2-ANY3_r72jwQ63macpj-Ju-HsmVl\",\n",
        "      \"https://drive.google.com/uc?id=1-Ay6QO8Bt2Lr97F8jscb22DiQ-MRhNe9\",\n",
        "      \"https://drive.google.com/uc?id=1-ADxhsyYbYtfjsuFtHOJlUM52FlkKTDi\"\n",
        "    ],\n",
        "    \"category2\": [\n",
        "      \"https://drive.google.com/uc?id=10HQHbfjV_33xa7WhZeYS4DMuQBqNpw3s\",\n",
        "      \"https://drive.google.com/uc?id=109B1r5auRVDKuUJhzn0TrLHhbQf7depB\",\n",
        "      \"https://drive.google.com/uc?id=1-sZ8lV6OGo4p1Kp7PPah58cZB0KfOiJ1\",\n",
        "      \"https://drive.google.com/uc?id=1-sJ-qYh9gAYHrbujcdBUaKOadLUuFtjj\",\n",
        "      \"https://drive.google.com/uc?id=1-poq_gCGlIWoTKRQFXgCGs1t_IAjPH2l\",\n",
        "      \"https://drive.google.com/uc?id=1-lmK7Fq_7UpqP_a1gP969MFgggfebKwI\",\n",
        "      \"https://drive.google.com/uc?id=1-gNkqHvt_wHnQyTskO-SIdxhlB_vDH_o\",\n",
        "      \"https://drive.google.com/uc?id=1-ePjWcUSawXII4El6iiI27p05dZkUjgm\",\n",
        "      \"https://drive.google.com/uc?id=10Zu6mPX9G50Bi89CkzBTgaIIOe9jPQaP\",\n",
        "      \"https://drive.google.com/uc?id=10S62IrVbLyIa7rDlm0v6bL4hw88iCay-\",\n",
        "      \"https://drive.google.com/uc?id=10RazuWfDgbAjUQ8e7LnQhqjvZEzwNWfA\",\n",
        "      \"https://drive.google.com/uc?id=10M_UvI7fhyOSz4JuHyrdRx1r2QePNCki\",\n",
        "      \"https://drive.google.com/uc?id=10LGIUYQptd6O91ld2KaCw52LdT9VVgf5\"\n",
        "    ]\n",
        "  }\n",
        "}\n"
      ],
      "metadata": {
        "id": "ypEvxcS9Pbhy",
        "outputId": "7f0946f9-baaf-48a8-e36e-5fbeca4d7d2e",
        "colab": {
          "base_uri": "https://localhost:8080/"
        }
      },
      "execution_count": null,
      "outputs": [
        {
          "output_type": "execute_result",
          "data": {
            "text/plain": [
              "{'categories': {'category1': ['https://drive.google.com/uc?id=1-T922LMrBkHBQL9OuM8ZMWcW91k19oot',\n",
              "   'https://drive.google.com/uc?id=1-NTz8uGFjXHOfweygfbZI3UaZ7sBGvtt',\n",
              "   'https://drive.google.com/uc?id=1-EVrOQOBrrH4cIndzFjGQr58gyPBe1Sh',\n",
              "   'https://drive.google.com/uc?id=1-Ch2-ANY3_r72jwQ63macpj-Ju-HsmVl',\n",
              "   'https://drive.google.com/uc?id=1-Ay6QO8Bt2Lr97F8jscb22DiQ-MRhNe9',\n",
              "   'https://drive.google.com/uc?id=1-ADxhsyYbYtfjsuFtHOJlUM52FlkKTDi'],\n",
              "  'category2': ['https://drive.google.com/uc?id=10HQHbfjV_33xa7WhZeYS4DMuQBqNpw3s',\n",
              "   'https://drive.google.com/uc?id=109B1r5auRVDKuUJhzn0TrLHhbQf7depB',\n",
              "   'https://drive.google.com/uc?id=1-sZ8lV6OGo4p1Kp7PPah58cZB0KfOiJ1',\n",
              "   'https://drive.google.com/uc?id=1-sJ-qYh9gAYHrbujcdBUaKOadLUuFtjj',\n",
              "   'https://drive.google.com/uc?id=1-poq_gCGlIWoTKRQFXgCGs1t_IAjPH2l',\n",
              "   'https://drive.google.com/uc?id=1-lmK7Fq_7UpqP_a1gP969MFgggfebKwI',\n",
              "   'https://drive.google.com/uc?id=1-gNkqHvt_wHnQyTskO-SIdxhlB_vDH_o',\n",
              "   'https://drive.google.com/uc?id=1-ePjWcUSawXII4El6iiI27p05dZkUjgm',\n",
              "   'https://drive.google.com/uc?id=10Zu6mPX9G50Bi89CkzBTgaIIOe9jPQaP',\n",
              "   'https://drive.google.com/uc?id=10S62IrVbLyIa7rDlm0v6bL4hw88iCay-',\n",
              "   'https://drive.google.com/uc?id=10RazuWfDgbAjUQ8e7LnQhqjvZEzwNWfA',\n",
              "   'https://drive.google.com/uc?id=10M_UvI7fhyOSz4JuHyrdRx1r2QePNCki',\n",
              "   'https://drive.google.com/uc?id=10LGIUYQptd6O91ld2KaCw52LdT9VVgf5']}}"
            ]
          },
          "metadata": {},
          "execution_count": 17
        }
      ]
    },
    {
      "cell_type": "markdown",
      "source": [
        "# **creating your Flask app to serve the JSON data**"
      ],
      "metadata": {
        "id": "w5INxbwrwGKp"
      }
    },
    {
      "cell_type": "code",
      "source": [
        "!pip install flask flask-ngrok"
      ],
      "metadata": {
        "id": "V8pgIylQxieN",
        "outputId": "00f38f03-ff89-49a0-b538-6e97af6766a3",
        "colab": {
          "base_uri": "https://localhost:8080/"
        }
      },
      "execution_count": 15,
      "outputs": [
        {
          "output_type": "stream",
          "name": "stdout",
          "text": [
            "Requirement already satisfied: flask in /usr/local/lib/python3.10/dist-packages (2.2.5)\n",
            "Requirement already satisfied: flask-ngrok in /usr/local/lib/python3.10/dist-packages (0.0.25)\n",
            "Requirement already satisfied: Werkzeug>=2.2.2 in /usr/local/lib/python3.10/dist-packages (from flask) (3.0.3)\n",
            "Requirement already satisfied: Jinja2>=3.0 in /usr/local/lib/python3.10/dist-packages (from flask) (3.1.4)\n",
            "Requirement already satisfied: itsdangerous>=2.0 in /usr/local/lib/python3.10/dist-packages (from flask) (2.2.0)\n",
            "Requirement already satisfied: click>=8.0 in /usr/local/lib/python3.10/dist-packages (from flask) (8.1.7)\n",
            "Requirement already satisfied: requests in /usr/local/lib/python3.10/dist-packages (from flask-ngrok) (2.31.0)\n",
            "Requirement already satisfied: MarkupSafe>=2.0 in /usr/local/lib/python3.10/dist-packages (from Jinja2>=3.0->flask) (2.1.5)\n",
            "Requirement already satisfied: charset-normalizer<4,>=2 in /usr/local/lib/python3.10/dist-packages (from requests->flask-ngrok) (3.3.2)\n",
            "Requirement already satisfied: idna<4,>=2.5 in /usr/local/lib/python3.10/dist-packages (from requests->flask-ngrok) (3.7)\n",
            "Requirement already satisfied: urllib3<3,>=1.21.1 in /usr/local/lib/python3.10/dist-packages (from requests->flask-ngrok) (2.0.7)\n",
            "Requirement already satisfied: certifi>=2017.4.17 in /usr/local/lib/python3.10/dist-packages (from requests->flask-ngrok) (2024.2.2)\n"
          ]
        }
      ]
    },
    {
      "cell_type": "code",
      "source": [
        "from flask import Flask, jsonify\n",
        "from flask_ngrok import run_with_ngrok\n",
        "import json\n",
        "import time\n",
        "import requests\n",
        "\n",
        "app = Flask(__name__)\n",
        "run_with_ngrok(app)\n",
        "\n",
        "\n",
        "json_path = '/content/drive/MyDrive/templates/categories.json'\n",
        "with open(json_path) as f:\n",
        "    data = json.load(f)\n",
        "\n",
        "@app.route('/categories', methods=['GET'])\n",
        "def get_categories():\n",
        "    return jsonify(data)\n",
        "\n",
        "if __name__ == '__main__':\n",
        "    try:\n",
        "        app.run()\n",
        "    except Exception as e:\n",
        "        print(f\"Error occurred: {e}\")\n",
        "\n",
        "        time.sleep(5)\n",
        "        app.run()\n"
      ],
      "metadata": {
        "id": "j-_zkBVuz68V",
        "colab": {
          "base_uri": "https://localhost:8080/"
        },
        "outputId": "9c070080-e429-4b78-a41e-035a2037304b"
      },
      "execution_count": null,
      "outputs": [
        {
          "output_type": "stream",
          "name": "stdout",
          "text": [
            " * Serving Flask app '__main__'\n",
            " * Debug mode: off\n"
          ]
        },
        {
          "output_type": "stream",
          "name": "stderr",
          "text": [
            "INFO:werkzeug:\u001b[31m\u001b[1mWARNING: This is a development server. Do not use it in a production deployment. Use a production WSGI server instead.\u001b[0m\n",
            " * Running on http://127.0.0.1:5000\n",
            "INFO:werkzeug:\u001b[33mPress CTRL+C to quit\u001b[0m\n"
          ]
        },
        {
          "output_type": "stream",
          "name": "stdout",
          "text": [
            " * Running on http://5e1f-34-125-14-219.ngrok-free.app\n",
            " * Traffic stats available on http://127.0.0.1:4040\n"
          ]
        },
        {
          "output_type": "stream",
          "name": "stderr",
          "text": [
            "INFO:werkzeug:127.0.0.1 - - [05/Jun/2024 11:29:15] \"GET /categories HTTP/1.1\" 200 -\n"
          ]
        }
      ]
    },
    {
      "cell_type": "code",
      "source": [
        "from flask import Flask, jsonify\n",
        "import json\n",
        "from flask_ngrok import run_with_ngrok\n",
        "\n",
        "app = Flask(__name__)\n",
        "run_with_ngrok(app)  # Start ngrok when the app is run\n",
        "\n",
        "# Load your JSON data\n",
        "json_path = '/content/drive/MyDrive/templates/categories.json'\n",
        "with open(json_path) as f:\n",
        "    data = json.load(f)\n",
        "\n",
        "@app.route('/categories', methods=['GET'])\n",
        "def get_categories():\n",
        "    return jsonify(data)\n",
        "\n",
        "@app.route('/categories/<category_id>', methods=['GET'])\n",
        "def get_category_by_id(category_id):\n",
        "    category = data['categories'].get(category_id)\n",
        "    if category:\n",
        "        return jsonify(category)\n",
        "    else:\n",
        "        return jsonify({'error': 'Category not found'}), 404\n",
        "\n",
        "if __name__ == '__main__':\n",
        "    app.run()\n"
      ],
      "metadata": {
        "id": "X575lRt6WB5Y",
        "outputId": "dcb5ff4f-4cd1-4d2c-bcd3-44f27642815c",
        "colab": {
          "base_uri": "https://localhost:8080/"
        }
      },
      "execution_count": 10,
      "outputs": [
        {
          "output_type": "stream",
          "name": "stdout",
          "text": [
            " * Serving Flask app '__main__'\n",
            " * Debug mode: off\n"
          ]
        },
        {
          "output_type": "stream",
          "name": "stderr",
          "text": [
            "INFO:werkzeug:\u001b[31m\u001b[1mWARNING: This is a development server. Do not use it in a production deployment. Use a production WSGI server instead.\u001b[0m\n",
            " * Running on http://127.0.0.1:5000\n",
            "INFO:werkzeug:\u001b[33mPress CTRL+C to quit\u001b[0m\n",
            "Exception in thread Thread-18:\n",
            "Traceback (most recent call last):\n",
            "  File \"/usr/local/lib/python3.10/dist-packages/urllib3/connection.py\", line 203, in _new_conn\n",
            "    sock = connection.create_connection(\n",
            "  File \"/usr/local/lib/python3.10/dist-packages/urllib3/util/connection.py\", line 85, in create_connection\n",
            "    raise err\n",
            "  File \"/usr/local/lib/python3.10/dist-packages/urllib3/util/connection.py\", line 73, in create_connection\n",
            "    sock.connect(sa)\n",
            "ConnectionRefusedError: [Errno 111] Connection refused\n",
            "\n",
            "The above exception was the direct cause of the following exception:\n",
            "\n",
            "Traceback (most recent call last):\n",
            "  File \"/usr/local/lib/python3.10/dist-packages/urllib3/connectionpool.py\", line 791, in urlopen\n",
            "    response = self._make_request(\n",
            "  File \"/usr/local/lib/python3.10/dist-packages/urllib3/connectionpool.py\", line 497, in _make_request\n",
            "    conn.request(\n",
            "  File \"/usr/local/lib/python3.10/dist-packages/urllib3/connection.py\", line 395, in request\n",
            "    self.endheaders()\n",
            "  File \"/usr/lib/python3.10/http/client.py\", line 1278, in endheaders\n",
            "    self._send_output(message_body, encode_chunked=encode_chunked)\n",
            "  File \"/usr/lib/python3.10/http/client.py\", line 1038, in _send_output\n",
            "    self.send(msg)\n",
            "  File \"/usr/lib/python3.10/http/client.py\", line 976, in send\n",
            "    self.connect()\n",
            "  File \"/usr/local/lib/python3.10/dist-packages/urllib3/connection.py\", line 243, in connect\n",
            "    self.sock = self._new_conn()\n",
            "  File \"/usr/local/lib/python3.10/dist-packages/urllib3/connection.py\", line 218, in _new_conn\n",
            "    raise NewConnectionError(\n",
            "urllib3.exceptions.NewConnectionError: <urllib3.connection.HTTPConnection object at 0x79faf7e75c60>: Failed to establish a new connection: [Errno 111] Connection refused\n",
            "\n",
            "The above exception was the direct cause of the following exception:\n",
            "\n",
            "Traceback (most recent call last):\n",
            "  File \"/usr/local/lib/python3.10/dist-packages/requests/adapters.py\", line 486, in send\n",
            "    resp = conn.urlopen(\n",
            "  File \"/usr/local/lib/python3.10/dist-packages/urllib3/connectionpool.py\", line 845, in urlopen\n",
            "    retries = retries.increment(\n",
            "  File \"/usr/local/lib/python3.10/dist-packages/urllib3/util/retry.py\", line 515, in increment\n",
            "    raise MaxRetryError(_pool, url, reason) from reason  # type: ignore[arg-type]\n",
            "urllib3.exceptions.MaxRetryError: HTTPConnectionPool(host='localhost', port=4040): Max retries exceeded with url: /api/tunnels (Caused by NewConnectionError('<urllib3.connection.HTTPConnection object at 0x79faf7e75c60>: Failed to establish a new connection: [Errno 111] Connection refused'))\n",
            "\n",
            "During handling of the above exception, another exception occurred:\n",
            "\n",
            "Traceback (most recent call last):\n",
            "  File \"/usr/lib/python3.10/threading.py\", line 1016, in _bootstrap_inner\n",
            "    self.run()\n",
            "  File \"/usr/lib/python3.10/threading.py\", line 1378, in run\n",
            "    self.function(*self.args, **self.kwargs)\n",
            "  File \"/usr/local/lib/python3.10/dist-packages/flask_ngrok.py\", line 70, in start_ngrok\n",
            "    ngrok_address = _run_ngrok()\n",
            "  File \"/usr/local/lib/python3.10/dist-packages/flask_ngrok.py\", line 35, in _run_ngrok\n",
            "    tunnel_url = requests.get(localhost_url).text  # Get the tunnel information\n",
            "  File \"/usr/local/lib/python3.10/dist-packages/requests/api.py\", line 73, in get\n",
            "    return request(\"get\", url, params=params, **kwargs)\n",
            "  File \"/usr/local/lib/python3.10/dist-packages/requests/api.py\", line 59, in request\n",
            "    return session.request(method=method, url=url, **kwargs)\n",
            "  File \"/usr/local/lib/python3.10/dist-packages/requests/sessions.py\", line 589, in request\n",
            "    resp = self.send(prep, **send_kwargs)\n",
            "  File \"/usr/local/lib/python3.10/dist-packages/requests/sessions.py\", line 703, in send\n",
            "    r = adapter.send(request, **kwargs)\n",
            "  File \"/usr/local/lib/python3.10/dist-packages/requests/adapters.py\", line 519, in send\n",
            "    raise ConnectionError(e, request=request)\n",
            "requests.exceptions.ConnectionError: HTTPConnectionPool(host='localhost', port=4040): Max retries exceeded with url: /api/tunnels (Caused by NewConnectionError('<urllib3.connection.HTTPConnection object at 0x79faf7e75c60>: Failed to establish a new connection: [Errno 111] Connection refused'))\n"
          ]
        }
      ]
    },
    {
      "cell_type": "markdown",
      "source": [],
      "metadata": {
        "id": "nFU_IESdb2fX"
      }
    },
    {
      "cell_type": "markdown",
      "source": [],
      "metadata": {
        "id": "eCBFSF6WhYKA"
      }
    },
    {
      "cell_type": "markdown",
      "source": [],
      "metadata": {
        "id": "gpaKqHL9hYHX"
      }
    },
    {
      "cell_type": "markdown",
      "source": [],
      "metadata": {
        "id": "3JOj62zMhYEg"
      }
    },
    {
      "cell_type": "markdown",
      "source": [],
      "metadata": {
        "id": "9mMVaoz0hYBP"
      }
    },
    {
      "cell_type": "markdown",
      "source": [
        "# **Latest working code**"
      ],
      "metadata": {
        "id": "0g28gbMihX-X"
      }
    },
    {
      "cell_type": "code",
      "source": [
        "from flask import Flask, request, jsonify, send_from_directory, url_for\n",
        "import os\n",
        "import shutil\n",
        "import logging\n",
        "from pyngrok import ngrok\n",
        "import subprocess\n",
        "\n",
        "app = Flask(__name__)\n",
        "\n",
        "logging.basicConfig(level=logging.INFO)\n",
        "\n",
        "TEMPLATES_FOLDER_PATH = \"/content/drive/MyDrive/templates/florist\"\n",
        "OUTPUT_BASE_FOLDER = \"/content/output_Bot\"\n",
        "PERMANENT_OUTPUT_FOLDER = \"/content/output_Bot/RGR(Outputs)\"\n",
        "\n",
        "def face_swap(source_image_folder, output_base_folder):\n",
        "    try:\n",
        "        output_folder = os.path.join(output_base_folder, \"RGR(Outputs)\")\n",
        "        os.makedirs(output_folder, exist_ok=True)\n",
        "        os.makedirs(PERMANENT_OUTPUT_FOLDER, exist_ok=True)\n",
        "        logging.info(f\"Output folder created at: {output_folder}\")\n",
        "\n",
        "        source_images = os.listdir(source_image_folder)\n",
        "        if not source_images:\n",
        "            logging.error(\"No source images found.\")\n",
        "            return\n",
        "        logging.info(f\"Found {len(source_images)} source images.\")\n",
        "\n",
        "        template_images = os.listdir(TEMPLATES_FOLDER_PATH)\n",
        "        if not template_images:\n",
        "            logging.error(\"No template images found.\")\n",
        "            return\n",
        "        logging.info(f\"Found {len(template_images)} template images.\")\n",
        "\n",
        "        source_image_name = source_images[0]\n",
        "        source_image_path = os.path.join(source_image_folder, source_image_name)\n",
        "\n",
        "        if os.path.isfile(source_image_path):\n",
        "            logging.info(f\"Processing source image: {source_image_name}\")\n",
        "\n",
        "            processed_image_paths = set()\n",
        "\n",
        "            for target_image_name in template_images:\n",
        "                target_image_path = os.path.join(TEMPLATES_FOLDER_PATH, target_image_name)\n",
        "\n",
        "                if os.path.isfile(target_image_path):\n",
        "                    logging.info(f\"Processing target image: {target_image_name}\")\n",
        "\n",
        "                    output_image_path = os.path.join(output_folder, f\"{source_image_name}_{target_image_name}\")\n",
        "                    permanent_output_image_path = os.path.join(PERMANENT_OUTPUT_FOLDER, f\"{source_image_name}_{target_image_name}\")\n",
        "\n",
        "                    if output_image_path in processed_image_paths:\n",
        "                        logging.info(f\"Skipping already processed image: {output_image_path}\")\n",
        "                        continue\n",
        "\n",
        "                    command = (\n",
        "                        f'python run.py -s \"{source_image_path}\" -t \"{target_image_path}\" '\n",
        "                        f'-o \"{output_image_path}\" --keep-fps --execution-threads 14 --many-faces '\n",
        "                        f'--execution-provider cuda --frame-processor face_swapper face_enhancer '\n",
        "                        f'--output-video-quality 35 --temp-frame-format jpg --max-memory 46'\n",
        "                    )\n",
        "                    logging.info(f\"Running command: {command}\")\n",
        "\n",
        "                    process = subprocess.Popen(command, shell=True, stdout=subprocess.PIPE, stderr=subprocess.PIPE)\n",
        "                    stdout, stderr = process.communicate()\n",
        "                    if process.returncode != 0:\n",
        "                        logging.error(f\"Failed to process target image: {target_image_name}\")\n",
        "                        logging.error(f\"Command output: {stderr.decode('utf-8')}\")\n",
        "                    else:\n",
        "                        logging.info(f\"Successfully processed target image: {target_image_name}\")\n",
        "                        logging.info(f\"Command output: {stdout.decode('utf-8')}\")\n",
        "                        shutil.copy(output_image_path, permanent_output_image_path)\n",
        "                        processed_image_paths.add(output_image_path)\n",
        "\n",
        "                    if len(processed_image_paths) >= len(template_images):\n",
        "                        break\n",
        "\n",
        "    except Exception as e:\n",
        "        logging.exception(f\"An error occurred: {e}\")\n",
        "\n",
        "@app.route('/faceswap', methods=['POST'])\n",
        "def faceswap_api():\n",
        "    try:\n",
        "        source_image_folder = \"/content/source_images\"\n",
        "        os.makedirs(source_image_folder, exist_ok=True)\n",
        "\n",
        "        source_images = request.files.getlist('source_images')\n",
        "        if not source_images:\n",
        "            logging.error(\"No images uploaded.\")\n",
        "            return jsonify({\"error\": \"No images uploaded\"}), 400\n",
        "\n",
        "        for source_image in source_images:\n",
        "            source_image.save(os.path.join(source_image_folder, source_image.filename))\n",
        "            logging.info(f\"Uploaded image: {source_image.filename}\")\n",
        "\n",
        "        face_swap(source_image_folder, OUTPUT_BASE_FOLDER)\n",
        "\n",
        "        shutil.rmtree(source_image_folder)\n",
        "\n",
        "        return jsonify({\"message\": \"Face swap process initiated.\"}), 200\n",
        "\n",
        "    except Exception as e:\n",
        "        logging.exception(f\"An error occurred: {e}\")\n",
        "        return jsonify({\"error\": \"An error occurred\"}), 500\n",
        "\n",
        "@app.route('/output_images', methods=['GET'])\n",
        "def output_images_api():\n",
        "    try:\n",
        "        if not os.path.exists(PERMANENT_OUTPUT_FOLDER):\n",
        "            logging.error(\"Output folder does not exist.\")\n",
        "            return jsonify({\"error\": \"Output folder does not exist\"}), 404\n",
        "\n",
        "        output_images = os.listdir(PERMANENT_OUTPUT_FOLDER)\n",
        "        if not output_images:\n",
        "            logging.info(\"No output images found.\")\n",
        "            return jsonify({\"message\": \"No output images found.\"}), 200\n",
        "\n",
        "        image_urls = [\n",
        "            url_for('get_output_image', filename=img, _external=True)\n",
        "            for img in output_images\n",
        "        ]\n",
        "        return jsonify({\"images\": image_urls})\n",
        "\n",
        "    except Exception as e:\n",
        "        logging.exception(f\"An error occurred: {e}\")\n",
        "        return jsonify({\"error\": \"An error occurred\"}), 500\n",
        "\n",
        "@app.route('/output_images/<path:filename>', methods=['GET'])\n",
        "def get_output_image(filename):\n",
        "    try:\n",
        "        if os.path.exists(os.path.join(PERMANENT_OUTPUT_FOLDER, filename)):\n",
        "            return send_from_directory(PERMANENT_OUTPUT_FOLDER, filename)\n",
        "        else:\n",
        "            return jsonify({\"error\": \"File not found\"}), 404\n",
        "    except Exception as e:\n",
        "        logging.exception(f\"An error occurred: {e}\")\n",
        "        return jsonify({\"error\": \"An error occurred\"}), 500\n",
        "\n",
        "if __name__ == '__main__':\n",
        "    url = ngrok.connect(5000)\n",
        "    print(f\" * Ngrok tunnel URL: {url}\")\n",
        "\n",
        "    app.run(port=5000)\n"
      ],
      "metadata": {
        "colab": {
          "base_uri": "https://localhost:8080/"
        },
        "id": "OjieF-Ko85_5",
        "outputId": "8b770799-0c84-4653-d499-cd762a0ef0a3"
      },
      "execution_count": 8,
      "outputs": [
        {
          "output_type": "stream",
          "name": "stdout",
          "text": [
            " * Ngrok tunnel URL: NgrokTunnel: \"https://9845-34-125-14-219.ngrok-free.app\" -> \"http://localhost:5000\"\n",
            " * Serving Flask app '__main__'\n",
            " * Debug mode: off\n"
          ]
        },
        {
          "output_type": "stream",
          "name": "stderr",
          "text": [
            "INFO:werkzeug:\u001b[31m\u001b[1mWARNING: This is a development server. Do not use it in a production deployment. Use a production WSGI server instead.\u001b[0m\n",
            " * Running on http://127.0.0.1:5000\n",
            "INFO:werkzeug:\u001b[33mPress CTRL+C to quit\u001b[0m\n",
            "ERROR:root:Failed to process target image: Florist (16).jpg\n",
            "Downloading: 529MB [00:02, 259MB/s]                           \n",
            "Downloading: 332MB [00:01, 195MB/s]                           \n",
            "100%|██████████| 281857/281857 [00:04<00:00, 67461.90KB/s]\n",
            "Downloading...\n",
            "From: https://github.com/bhky/opennsfw2/releases/download/v0.1.0/open_nsfw_weights.h5\n",
            "To: /root/.opennsfw2/weights/open_nsfw_weights.h5\n",
            "100%|██████████| 24.2M/24.2M [00:00<00:00, 47.4MB/s]\n",
            "100%|██████████| 104M/104M [00:00<00:00, 235MB/s] \n",
            "100%|██████████| 81.4M/81.4M [00:00<00:00, 239MB/s]\n",
            "Segmentation fault (core dumped)\n",
            "\n",
            "ERROR:root:Failed to process target image: Florist (17).jpg\n",
            "ERROR:root:Command output: Segmentation fault (core dumped)\n",
            "\n",
            "ERROR:root:Failed to process target image: Florist (18).jpg\n",
            "ERROR:root:Command output: Segmentation fault (core dumped)\n",
            "\n",
            "INFO:werkzeug:127.0.0.1 - - [05/Jun/2024 10:45:34] \"POST /faceswap HTTP/1.1\" 200 -\n",
            "INFO:werkzeug:127.0.0.1 - - [05/Jun/2024 10:49:02] \"GET /output_images HTTP/1.1\" 200 -\n",
            "INFO:werkzeug:127.0.0.1 - - [05/Jun/2024 10:49:26] \"GET /output_images/Sam%20(1).jpg_Florist%20(17).jpg HTTP/1.1\" 200 -\n",
            "INFO:werkzeug:127.0.0.1 - - [05/Jun/2024 10:50:10] \"GET /output_images/Sam%20(1).jpg_Florist%20(17).jpg HTTP/1.1\" 200 -\n",
            "INFO:werkzeug:127.0.0.1 - - [05/Jun/2024 10:51:25] \"GET /output_images/Sam%20(1).jpg_Florist%20(17).jpg HTTP/1.1\" 200 -\n"
          ]
        }
      ]
    }
  ]
}